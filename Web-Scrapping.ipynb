{
 "cells": [
  {
   "cell_type": "code",
   "execution_count": 1,
   "metadata": {},
   "outputs": [
    {
     "data": {
      "text/html": [
       "<script type=\"text/javascript\">window.PlotlyConfig = {MathJaxConfig: 'local'};</script><script type=\"text/javascript\">if (window.MathJax) {MathJax.Hub.Config({SVG: {font: \"STIX-Web\"}});}</script><script>requirejs.config({paths: { 'plotly': ['https://cdn.plot.ly/plotly-latest.min']},});if(!window._Plotly) {require(['plotly'],function(plotly) {window._Plotly=plotly;});}</script>"
      ],
      "text/vnd.plotly.v1+html": [
       "<script type=\"text/javascript\">window.PlotlyConfig = {MathJaxConfig: 'local'};</script><script type=\"text/javascript\">if (window.MathJax) {MathJax.Hub.Config({SVG: {font: \"STIX-Web\"}});}</script><script>requirejs.config({paths: { 'plotly': ['https://cdn.plot.ly/plotly-latest.min']},});if(!window._Plotly) {require(['plotly'],function(plotly) {window._Plotly=plotly;});}</script>"
      ]
     },
     "metadata": {},
     "output_type": "display_data"
    }
   ],
   "source": [
    "# import necessary libraries\n",
    "import pandas as pd\n",
    "import numpy as np\n",
    "% matplotlib inline\n",
    "from matplotlib import pyplot as plt\n",
    "import seaborn as sns\n",
    "import requests\n",
    "from bs4 import BeautifulSoup  \n",
    "import plotly.plotly as py\n",
    "from plotly.offline import init_notebook_mode, iplot\n",
    "init_notebook_mode(connected = True)\n",
    "import plotly.graph_objs as go\n",
    "from plotly import tools"
   ]
  },
  {
   "cell_type": "markdown",
   "metadata": {},
   "source": [
    "## DATA GATHERING"
   ]
  },
  {
   "cell_type": "code",
   "execution_count": 2,
   "metadata": {},
   "outputs": [
    {
     "data": {
      "text/plain": [
       "<Response [200]>"
      ]
     },
     "execution_count": 2,
     "metadata": {},
     "output_type": "execute_result"
    }
   ],
   "source": [
    "url = 'https://en.wikipedia.org/wiki/Demographics_of_India'\n",
    "response = requests.get(url)\n",
    "response"
   ]
  },
  {
   "cell_type": "code",
   "execution_count": 3,
   "metadata": {},
   "outputs": [],
   "source": [
    "#create beautifulsoup\n",
    "soup = BeautifulSoup(response.content, 'lxml')"
   ]
  },
  {
   "cell_type": "code",
   "execution_count": 14,
   "metadata": {},
   "outputs": [
    {
     "name": "stdout",
     "output_type": "stream",
     "text": [
      "Number of tables : 18\n"
     ]
    }
   ],
   "source": [
    "# get all tables data - id starts from 0.\n",
    "\n",
    "all_tables = soup.find_all('table', class_ = 'wikitable sortable')\n",
    "print(f\"Number of tables : {len(all_tables)}\")"
   ]
  },
  {
   "cell_type": "code",
   "execution_count": 15,
   "metadata": {},
   "outputs": [
    {
     "data": {
      "text/plain": [
       "<table class=\"wikitable sortable\" style=\"text-align:right\">\n",
       "<tbody><tr>\n",
       "<th>Years</th>\n",
       "<th>1880</th>\n",
       "<th>1881</th>\n",
       "<th>1882</th>\n",
       "<th>1883</th>\n",
       "<th>1884</th>\n",
       "<th>1885</th>\n",
       "<th>1886</th>\n",
       "<th>1887</th>\n",
       "<th>1888</th>\n",
       "<th>1889</th>\n",
       "<th>1890</th>\n",
       "<th>1902<sup class=\"reference\" id=\"cite_ref-ourworldindata.org_33-1\"><a href=\"#cite_note-ourworldindata.org-33\">[33]</a></sup>\n",
       "</th></tr>\n",
       "<tr>\n",
       "<td align=\"left\">Total Fertility Rate in India</td>\n",
       "<td style=\"text-align:right; color:blue;\">5.95</td>\n",
       "<td style=\"text-align:right; color:blue;\">5.92</td>\n",
       "<td style=\"text-align:right; color:blue;\">5.89</td>\n",
       "<td style=\"text-align:right; color:blue;\">5.86</td>\n",
       "<td style=\"text-align:right; color:blue;\">5.82</td>\n",
       "<td style=\"text-align:right; color:blue;\">5.79</td>\n",
       "<td style=\"text-align:right; color:blue;\">4.38</td>\n",
       "<td style=\"text-align:right; color:blue;\">5.76</td>\n",
       "<td style=\"text-align:right; color:blue;\">5.76</td>\n",
       "<td style=\"text-align:right; color:blue;\">5.75</td>\n",
       "<td style=\"text-align:right; color:blue;\">5.75</td>\n",
       "<td style=\"text-align:right; color:blue;\">5.75\n",
       "</td></tr></tbody></table>"
      ]
     },
     "execution_count": 15,
     "metadata": {},
     "output_type": "execute_result"
    }
   ],
   "source": [
    "all_tables[0]"
   ]
  },
  {
   "cell_type": "code",
   "execution_count": null,
   "metadata": {},
   "outputs": [],
   "source": []
  },
  {
   "cell_type": "markdown",
   "metadata": {},
   "source": [
    "#### FUNCTION -\n",
    "*get_data* function returns a list with only text.\n"
   ]
  },
  {
   "cell_type": "code",
   "execution_count": 8,
   "metadata": {
    "scrolled": true
   },
   "outputs": [],
   "source": [
    "def get_data(all_data):\n",
    "    df_list = []\n",
    "    for data in all_data:\n",
    "        df_list.append(data.text.strip())\n",
    "    return df_list"
   ]
  },
  {
   "cell_type": "code",
   "execution_count": 49,
   "metadata": {},
   "outputs": [
    {
     "data": {
      "text/plain": [
       "'113'"
      ]
     },
     "execution_count": 49,
     "metadata": {},
     "output_type": "execute_result"
    }
   ],
   "source": [
    "'121121341'[0::3]"
   ]
  },
  {
   "cell_type": "markdown",
   "metadata": {},
   "source": [
    "#### FUNCTION - \n",
    "*get_dataframe* function collects soup for **individual table.**\n",
    "It gathers data under `td` then creates a list for each column in respective table.\n",
    "\n",
    "To create dataframe we need *dictionary* structure, therefore create a dictionary *df_dict* which takes i in every column.\n",
    "\n",
    "`sample` : it contains the table number returned by all_tables.\n",
    "\n",
    "`num`    : it contains number of columns the table has, inspecting the page."
   ]
  },
  {
   "cell_type": "code",
   "execution_count": 52,
   "metadata": {},
   "outputs": [],
   "source": [
    "def get_dataframe(sample,num):\n",
    "    all_data = sample.find_all('td')\n",
    "    df_list = []\n",
    "    for i in range(num):\n",
    "        df_list.append(all_data[i::num])\n",
    "        \n",
    "    df_dict = {i:[] for i in range(num)}\n",
    "    for i in range(len(df_dict)):\n",
    "        data = get_data(df_list[i])\n",
    "        df_dict[i] = data\n",
    "    title = collect_col_names(sample)\n",
    "    return df_dict,title"
   ]
  },
  {
   "cell_type": "code",
   "execution_count": 53,
   "metadata": {},
   "outputs": [],
   "source": [
    "# collect_col_names function collectes column name of each table\n",
    "def collect_col_names(sample):\n",
    "    all_data = sample.find_all('th')\n",
    "    col_title=  [] \n",
    "    for header in all_data:\n",
    "        col_title.append(header.text.strip())\n",
    "    return col_title"
   ]
  },
  {
   "cell_type": "code",
   "execution_count": 54,
   "metadata": {},
   "outputs": [],
   "source": [
    "pop_under_british_dict,pop_under_british_cols = get_dataframe(all_tables[2],3)\n",
    "\n",
    "pop_per_decade_dict,pop_per_decade_cols = get_dataframe(all_tables[3],3)\n",
    "\n",
    "pop_dist_by_states_dict,pop_dist_by_states_cols = get_dataframe(all_tables[4],12)\n",
    "\n",
    "pop_bet_age_0_6_dict,pop_bet_age_0_6_cols = get_dataframe(all_tables[7],6)\n",
    "\n",
    "pop_abv_7_dict,pop_abv_7_cols = get_dataframe(all_tables[8],5)\n",
    "\n",
    "literacy_rate_dict,literacy_rate_cols = get_dataframe(all_tables[9],5)\n",
    "\n",
    "native_speakers_dict,native_speakers_cols = get_dataframe(all_tables[10],4)\n",
    "\n",
    "un_stat_dict,un_stat_cols = get_dataframe(all_tables[11],9)\n",
    "\n",
    "census_dict,census_cols = get_dataframe(all_tables[12],9)\n",
    "\n",
    "pop_struc_dict,pop_struc_cols = get_dataframe(all_tables[13],5)\n",
    "\n",
    "pop_struc_2016_dict,pop_struc_2016_cols = get_dataframe(all_tables[14],4)\n",
    "\n",
    "fertility_rate_dict,fertility_rate_cols = get_dataframe(all_tables[15],7)\n",
    "\n",
    "crude_birth_rate_dict,crude_birth_rate_cols = get_dataframe(all_tables[16],7)\n",
    "\n",
    "regional_stats_dict,regional_stats_cols = get_dataframe(all_tables[17],13)"
   ]
  },
  {
   "cell_type": "code",
   "execution_count": 57,
   "metadata": {},
   "outputs": [
    {
     "data": {
      "text/plain": [
       "{0: ['1871[35]',\n",
       "  '1881[36]',\n",
       "  '1891[35]',\n",
       "  '1901[35]',\n",
       "  '1911[37]',\n",
       "  '1921[37]',\n",
       "  '1931[37]',\n",
       "  '1941[37]'],\n",
       " 1: ['238,830,958',\n",
       "  '253,896,330',\n",
       "  '287,223,431',\n",
       "  '293,550,310',\n",
       "  '315,156,396',\n",
       "  '318,942,480',\n",
       "  '352,837,778',\n",
       "  '388,997,955'],\n",
       " 2: ['–', '6.3', '13.1', '2.2', '7.4', '1.2', '10.6', '10.2']}"
      ]
     },
     "execution_count": 57,
     "metadata": {},
     "output_type": "execute_result"
    }
   ],
   "source": [
    "pop_under_british_dict"
   ]
  },
  {
   "cell_type": "code",
   "execution_count": 58,
   "metadata": {},
   "outputs": [
    {
     "data": {
      "text/plain": [
       "['Census year', 'Population', 'Growth (%)']"
      ]
     },
     "execution_count": 58,
     "metadata": {},
     "output_type": "execute_result"
    }
   ],
   "source": [
    "pop_under_british_cols"
   ]
  },
  {
   "cell_type": "code",
   "execution_count": null,
   "metadata": {},
   "outputs": [],
   "source": []
  }
 ],
 "metadata": {
  "kernelspec": {
   "display_name": "Python 3",
   "language": "python",
   "name": "python3"
  },
  "language_info": {
   "codemirror_mode": {
    "name": "ipython",
    "version": 3
   },
   "file_extension": ".py",
   "mimetype": "text/x-python",
   "name": "python",
   "nbconvert_exporter": "python",
   "pygments_lexer": "ipython3",
   "version": "3.7.0"
  }
 },
 "nbformat": 4,
 "nbformat_minor": 2
}
