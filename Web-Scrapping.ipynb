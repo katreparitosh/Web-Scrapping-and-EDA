{
 "cells": [
  {
   "cell_type": "code",
   "execution_count": 51,
   "metadata": {},
   "outputs": [
    {
     "data": {
      "text/html": [
       "<script type=\"text/javascript\">window.PlotlyConfig = {MathJaxConfig: 'local'};</script><script type=\"text/javascript\">if (window.MathJax) {MathJax.Hub.Config({SVG: {font: \"STIX-Web\"}});}</script><script>requirejs.config({paths: { 'plotly': ['https://cdn.plot.ly/plotly-latest.min']},});if(!window._Plotly) {require(['plotly'],function(plotly) {window._Plotly=plotly;});}</script>"
      ],
      "text/vnd.plotly.v1+html": [
       "<script type=\"text/javascript\">window.PlotlyConfig = {MathJaxConfig: 'local'};</script><script type=\"text/javascript\">if (window.MathJax) {MathJax.Hub.Config({SVG: {font: \"STIX-Web\"}});}</script><script>requirejs.config({paths: { 'plotly': ['https://cdn.plot.ly/plotly-latest.min']},});if(!window._Plotly) {require(['plotly'],function(plotly) {window._Plotly=plotly;});}</script>"
      ]
     },
     "metadata": {},
     "output_type": "display_data"
    }
   ],
   "source": [
    "# import necessary libraries\n",
    "import pandas as pd\n",
    "import numpy as np\n",
    "% matplotlib inline\n",
    "from matplotlib import pyplot as plt\n",
    "import seaborn as sns\n",
    "import requests\n",
    "from bs4 import BeautifulSoup  \n",
    "import plotly.plotly as py\n",
    "from plotly.offline import init_notebook_mode, iplot\n",
    "init_notebook_mode(connected = True)\n",
    "import plotly.graph_objs as go\n",
    "from plotly import tools"
   ]
  },
  {
   "cell_type": "markdown",
   "metadata": {},
   "source": [
    "## DATA GATHERING"
   ]
  },
  {
   "cell_type": "code",
   "execution_count": 52,
   "metadata": {},
   "outputs": [
    {
     "data": {
      "text/plain": [
       "<Response [200]>"
      ]
     },
     "execution_count": 52,
     "metadata": {},
     "output_type": "execute_result"
    }
   ],
   "source": [
    "url = 'https://en.wikipedia.org/wiki/Demographics_of_India'\n",
    "response = requests.get(url)\n",
    "response"
   ]
  },
  {
   "cell_type": "code",
   "execution_count": 53,
   "metadata": {},
   "outputs": [],
   "source": [
    "#create beautifulsoup\n",
    "soup = BeautifulSoup(response.content, 'lxml')"
   ]
  },
  {
   "cell_type": "code",
   "execution_count": 54,
   "metadata": {},
   "outputs": [
    {
     "name": "stdout",
     "output_type": "stream",
     "text": [
      "Number of tables : 18\n"
     ]
    }
   ],
   "source": [
    "# get all tables data - id starts from 0.\n",
    "\n",
    "all_tables = soup.find_all('table', class_ = 'wikitable sortable')\n",
    "print(f\"Number of tables : {len(all_tables)}\")"
   ]
  },
  {
   "cell_type": "code",
   "execution_count": 55,
   "metadata": {},
   "outputs": [
    {
     "data": {
      "text/plain": [
       "<table class=\"wikitable sortable\" style=\"text-align:right\">\n",
       "<tbody><tr>\n",
       "<th>Years</th>\n",
       "<th>1880</th>\n",
       "<th>1881</th>\n",
       "<th>1882</th>\n",
       "<th>1883</th>\n",
       "<th>1884</th>\n",
       "<th>1885</th>\n",
       "<th>1886</th>\n",
       "<th>1887</th>\n",
       "<th>1888</th>\n",
       "<th>1889</th>\n",
       "<th>1890</th>\n",
       "<th>1902<sup class=\"reference\" id=\"cite_ref-ourworldindata.org_33-1\"><a href=\"#cite_note-ourworldindata.org-33\">[33]</a></sup>\n",
       "</th></tr>\n",
       "<tr>\n",
       "<td align=\"left\">Total Fertility Rate in India</td>\n",
       "<td style=\"text-align:right; color:blue;\">5.95</td>\n",
       "<td style=\"text-align:right; color:blue;\">5.92</td>\n",
       "<td style=\"text-align:right; color:blue;\">5.89</td>\n",
       "<td style=\"text-align:right; color:blue;\">5.86</td>\n",
       "<td style=\"text-align:right; color:blue;\">5.82</td>\n",
       "<td style=\"text-align:right; color:blue;\">5.79</td>\n",
       "<td style=\"text-align:right; color:blue;\">4.38</td>\n",
       "<td style=\"text-align:right; color:blue;\">5.76</td>\n",
       "<td style=\"text-align:right; color:blue;\">5.76</td>\n",
       "<td style=\"text-align:right; color:blue;\">5.75</td>\n",
       "<td style=\"text-align:right; color:blue;\">5.75</td>\n",
       "<td style=\"text-align:right; color:blue;\">5.75\n",
       "</td></tr></tbody></table>"
      ]
     },
     "execution_count": 55,
     "metadata": {},
     "output_type": "execute_result"
    }
   ],
   "source": [
    "all_tables[0]"
   ]
  },
  {
   "cell_type": "markdown",
   "metadata": {},
   "source": [
    "#### FUNCTION -\n",
    "*get_data* function returns a list with only text.\n"
   ]
  },
  {
   "cell_type": "code",
   "execution_count": 56,
   "metadata": {
    "scrolled": true
   },
   "outputs": [],
   "source": [
    "def get_data(all_data):\n",
    "    df_list = []\n",
    "    for data in all_data:\n",
    "        df_list.append(data.text.strip())\n",
    "    return df_list"
   ]
  },
  {
   "cell_type": "code",
   "execution_count": 57,
   "metadata": {},
   "outputs": [
    {
     "data": {
      "text/plain": [
       "'113'"
      ]
     },
     "execution_count": 57,
     "metadata": {},
     "output_type": "execute_result"
    }
   ],
   "source": [
    "'121121341'[0::3]"
   ]
  },
  {
   "cell_type": "markdown",
   "metadata": {},
   "source": [
    "#### FUNCTION - \n",
    "*get_dataframe* function collects soup for **individual table.**\n",
    "It gathers data under `td` then creates a list for each column in respective table.\n",
    "\n",
    "To create dataframe we need *dictionary* structure, therefore create a dictionary *df_dict* which takes i in every column.\n",
    "\n",
    "`sample` : it contains the table number returned by all_tables.\n",
    "\n",
    "`num`    : it contains number of columns the table has, inspecting the page."
   ]
  },
  {
   "cell_type": "code",
   "execution_count": 58,
   "metadata": {},
   "outputs": [],
   "source": [
    "def get_dataframe(sample,num):\n",
    "    all_data = sample.find_all('td')\n",
    "    df_list = []\n",
    "    for i in range(num):\n",
    "        df_list.append(all_data[i::num])\n",
    "        \n",
    "    df_dict = {i:[] for i in range(num)}\n",
    "    for i in range(len(df_dict)):\n",
    "        data = get_data(df_list[i])\n",
    "        df_dict[i] = data\n",
    "    title = collect_col_names(sample)\n",
    "    return df_dict,title"
   ]
  },
  {
   "cell_type": "code",
   "execution_count": 59,
   "metadata": {},
   "outputs": [],
   "source": [
    "# collect_col_names function collectes column name of each table\n",
    "def collect_col_names(sample):\n",
    "    all_data = sample.find_all('th')\n",
    "    col_title=  [] \n",
    "    for header in all_data:\n",
    "        col_title.append(header.text.strip())\n",
    "    return col_title"
   ]
  },
  {
   "cell_type": "code",
   "execution_count": 60,
   "metadata": {},
   "outputs": [],
   "source": [
    "pop_under_british_dict,pop_under_british_cols = get_dataframe(all_tables[2],3)\n",
    "\n",
    "pop_per_decade_dict,pop_per_decade_cols = get_dataframe(all_tables[3],3)\n",
    "\n",
    "pop_dist_by_states_dict,pop_dist_by_states_cols = get_dataframe(all_tables[4],12)\n",
    "\n",
    "pop_bet_age_0_6_dict,pop_bet_age_0_6_cols = get_dataframe(all_tables[7],6)\n",
    "\n",
    "pop_abv_7_dict,pop_abv_7_cols = get_dataframe(all_tables[8],5)\n",
    "\n",
    "literacy_rate_dict,literacy_rate_cols = get_dataframe(all_tables[9],5)\n",
    "\n",
    "native_speakers_dict,native_speakers_cols = get_dataframe(all_tables[10],4)\n",
    "\n",
    "un_stat_dict,un_stat_cols = get_dataframe(all_tables[11],9)\n",
    "\n",
    "census_dict,census_cols = get_dataframe(all_tables[12],9)\n",
    "\n",
    "pop_struc_dict,pop_struc_cols = get_dataframe(all_tables[13],5)\n",
    "\n",
    "pop_struc_2016_dict,pop_struc_2016_cols = get_dataframe(all_tables[14],4)\n",
    "\n",
    "fertility_rate_dict,fertility_rate_cols = get_dataframe(all_tables[15],7)\n",
    "\n",
    "crude_birth_rate_dict,crude_birth_rate_cols = get_dataframe(all_tables[16],7)\n",
    "\n",
    "regional_stats_dict,regional_stats_cols = get_dataframe(all_tables[17],13)"
   ]
  },
  {
   "cell_type": "code",
   "execution_count": 61,
   "metadata": {},
   "outputs": [
    {
     "data": {
      "text/plain": [
       "{0: ['1871[35]',\n",
       "  '1881[36]',\n",
       "  '1891[35]',\n",
       "  '1901[35]',\n",
       "  '1911[37]',\n",
       "  '1921[37]',\n",
       "  '1931[37]',\n",
       "  '1941[37]'],\n",
       " 1: ['238,830,958',\n",
       "  '253,896,330',\n",
       "  '287,223,431',\n",
       "  '293,550,310',\n",
       "  '315,156,396',\n",
       "  '318,942,480',\n",
       "  '352,837,778',\n",
       "  '388,997,955'],\n",
       " 2: ['–', '6.3', '13.1', '2.2', '7.4', '1.2', '10.6', '10.2']}"
      ]
     },
     "execution_count": 61,
     "metadata": {},
     "output_type": "execute_result"
    }
   ],
   "source": [
    "pop_under_british_dict"
   ]
  },
  {
   "cell_type": "code",
   "execution_count": 62,
   "metadata": {},
   "outputs": [
    {
     "data": {
      "text/plain": [
       "['Census year', 'Population', 'Growth (%)']"
      ]
     },
     "execution_count": 62,
     "metadata": {},
     "output_type": "execute_result"
    }
   ],
   "source": [
    "pop_under_british_cols"
   ]
  },
  {
   "cell_type": "code",
   "execution_count": 63,
   "metadata": {},
   "outputs": [
    {
     "data": {
      "text/html": [
       "<div>\n",
       "<style scoped>\n",
       "    .dataframe tbody tr th:only-of-type {\n",
       "        vertical-align: middle;\n",
       "    }\n",
       "\n",
       "    .dataframe tbody tr th {\n",
       "        vertical-align: top;\n",
       "    }\n",
       "\n",
       "    .dataframe thead th {\n",
       "        text-align: right;\n",
       "    }\n",
       "</style>\n",
       "<table border=\"1\" class=\"dataframe\">\n",
       "  <thead>\n",
       "    <tr style=\"text-align: right;\">\n",
       "      <th></th>\n",
       "      <th>city</th>\n",
       "      <th>state</th>\n",
       "      <th>population</th>\n",
       "    </tr>\n",
       "  </thead>\n",
       "  <tbody>\n",
       "    <tr>\n",
       "      <th>0</th>\n",
       "      <td>Mumbai</td>\n",
       "      <td>Maharashtra</td>\n",
       "      <td>12,478,447</td>\n",
       "    </tr>\n",
       "    <tr>\n",
       "      <th>1</th>\n",
       "      <td>Kanpur</td>\n",
       "      <td>Uttar Pradesh</td>\n",
       "      <td>2,920,067</td>\n",
       "    </tr>\n",
       "    <tr>\n",
       "      <th>2</th>\n",
       "      <td>Delhi</td>\n",
       "      <td>Delhi</td>\n",
       "      <td>11,007,835</td>\n",
       "    </tr>\n",
       "    <tr>\n",
       "      <th>3</th>\n",
       "      <td>Lucknow</td>\n",
       "      <td>Uttar Pradesh</td>\n",
       "      <td>2,901,474</td>\n",
       "    </tr>\n",
       "    <tr>\n",
       "      <th>4</th>\n",
       "      <td>Bangalore</td>\n",
       "      <td>Karnataka</td>\n",
       "      <td>8,425,970</td>\n",
       "    </tr>\n",
       "  </tbody>\n",
       "</table>\n",
       "</div>"
      ],
      "text/plain": [
       "        city          state  population\n",
       "0     Mumbai    Maharashtra  12,478,447\n",
       "1     Kanpur  Uttar Pradesh   2,920,067\n",
       "2      Delhi          Delhi  11,007,835\n",
       "3    Lucknow  Uttar Pradesh   2,901,474\n",
       "4  Bangalore      Karnataka   8,425,970"
      ]
     },
     "execution_count": 63,
     "metadata": {},
     "output_type": "execute_result"
    }
   ],
   "source": [
    "lc = soup.find_all('table', class_ = 'navbox')[0].find_all('td')[1:]\n",
    "largest_cities = []\n",
    "for i in lc:\n",
    "    largest_cities.append(i.text.strip())\n",
    "\n",
    "index = largest_cities.index('BangaloreHyderabad')\n",
    "\n",
    "del largest_cities[index]\n",
    "\n",
    "df_dict = {}\n",
    "for i in range(1,4):\n",
    "    df_dict[i] = largest_cities[i::4]\n",
    "\n",
    "    \n",
    "largest_cities_df = pd.DataFrame(df_dict)\n",
    "largest_cities_df.columns = ['city','state','population']\n",
    "largest_cities_df.head()"
   ]
  },
  {
   "cell_type": "code",
   "execution_count": 64,
   "metadata": {},
   "outputs": [
    {
     "data": {
      "text/html": [
       "<div>\n",
       "<style scoped>\n",
       "    .dataframe tbody tr th:only-of-type {\n",
       "        vertical-align: middle;\n",
       "    }\n",
       "\n",
       "    .dataframe tbody tr th {\n",
       "        vertical-align: top;\n",
       "    }\n",
       "\n",
       "    .dataframe thead th {\n",
       "        text-align: right;\n",
       "    }\n",
       "</style>\n",
       "<table border=\"1\" class=\"dataframe\">\n",
       "  <thead>\n",
       "    <tr style=\"text-align: right;\">\n",
       "      <th></th>\n",
       "      <th>period</th>\n",
       "      <th>life_expec_in_years</th>\n",
       "    </tr>\n",
       "  </thead>\n",
       "  <tbody>\n",
       "    <tr>\n",
       "      <th>0</th>\n",
       "      <td>1950–1955</td>\n",
       "      <td>36.6</td>\n",
       "    </tr>\n",
       "    <tr>\n",
       "      <th>1</th>\n",
       "      <td>1985–1990</td>\n",
       "      <td>56.7</td>\n",
       "    </tr>\n",
       "    <tr>\n",
       "      <th>2</th>\n",
       "      <td>1955–1960</td>\n",
       "      <td>39.7</td>\n",
       "    </tr>\n",
       "    <tr>\n",
       "      <th>3</th>\n",
       "      <td>1990–1995</td>\n",
       "      <td>59.1</td>\n",
       "    </tr>\n",
       "    <tr>\n",
       "      <th>4</th>\n",
       "      <td>1960–1965</td>\n",
       "      <td>42.7</td>\n",
       "    </tr>\n",
       "  </tbody>\n",
       "</table>\n",
       "</div>"
      ],
      "text/plain": [
       "      period life_expec_in_years\n",
       "0  1950–1955                36.6\n",
       "1  1985–1990                56.7\n",
       "2  1955–1960                39.7\n",
       "3  1990–1995                59.1\n",
       "4  1960–1965                42.7"
      ]
     },
     "execution_count": 64,
     "metadata": {},
     "output_type": "execute_result"
    }
   ],
   "source": [
    "life_expec = soup.find_all('table',class_ = 'wikitable')[18]\n",
    "life_dict = {i:[] for i in range(2)}\n",
    "life_dict\n",
    "\n",
    "life_expectaion = []\n",
    "for i in range(0,2):\n",
    "    life_expectaion.append(life_expec.find_all('td')[i::2])\n",
    "    \n",
    "for i in range(len(life_dict)):\n",
    "    data = get_data(life_expectaion[i])\n",
    "    life_dict[i] = data\n",
    "    \n",
    "life_expe_df = pd.DataFrame(life_dict)\n",
    "life_expe_df.columns = ['period','life_expec_in_years']\n",
    "life_expe_df.head()"
   ]
  },
  {
   "cell_type": "markdown",
   "metadata": {},
   "source": [
    "## DATA CLEANING"
   ]
  },
  {
   "cell_type": "markdown",
   "metadata": {},
   "source": [
    "*create_dataframe* function return a dataframe by a taking dictionary and column names. "
   ]
  },
  {
   "cell_type": "code",
   "execution_count": 65,
   "metadata": {},
   "outputs": [],
   "source": [
    "def create_dataframe(df,cols):\n",
    "    df=pd.DataFrame(df)\n",
    "    df.columns = cols\n",
    "    return df"
   ]
  },
  {
   "cell_type": "markdown",
   "metadata": {},
   "source": [
    "### Dataframe has population and growth % under british raj."
   ]
  },
  {
   "cell_type": "code",
   "execution_count": 66,
   "metadata": {},
   "outputs": [
    {
     "name": "stdout",
     "output_type": "stream",
     "text": [
      "Number of obseration:(8, 3)\n"
     ]
    },
    {
     "data": {
      "text/html": [
       "<div>\n",
       "<style scoped>\n",
       "    .dataframe tbody tr th:only-of-type {\n",
       "        vertical-align: middle;\n",
       "    }\n",
       "\n",
       "    .dataframe tbody tr th {\n",
       "        vertical-align: top;\n",
       "    }\n",
       "\n",
       "    .dataframe thead th {\n",
       "        text-align: right;\n",
       "    }\n",
       "</style>\n",
       "<table border=\"1\" class=\"dataframe\">\n",
       "  <thead>\n",
       "    <tr style=\"text-align: right;\">\n",
       "      <th></th>\n",
       "      <th>Census year</th>\n",
       "      <th>Population</th>\n",
       "      <th>Growth (%)</th>\n",
       "    </tr>\n",
       "  </thead>\n",
       "  <tbody>\n",
       "    <tr>\n",
       "      <th>0</th>\n",
       "      <td>1871[35]</td>\n",
       "      <td>238,830,958</td>\n",
       "      <td>–</td>\n",
       "    </tr>\n",
       "    <tr>\n",
       "      <th>1</th>\n",
       "      <td>1881[36]</td>\n",
       "      <td>253,896,330</td>\n",
       "      <td>6.3</td>\n",
       "    </tr>\n",
       "    <tr>\n",
       "      <th>2</th>\n",
       "      <td>1891[35]</td>\n",
       "      <td>287,223,431</td>\n",
       "      <td>13.1</td>\n",
       "    </tr>\n",
       "    <tr>\n",
       "      <th>3</th>\n",
       "      <td>1901[35]</td>\n",
       "      <td>293,550,310</td>\n",
       "      <td>2.2</td>\n",
       "    </tr>\n",
       "    <tr>\n",
       "      <th>4</th>\n",
       "      <td>1911[37]</td>\n",
       "      <td>315,156,396</td>\n",
       "      <td>7.4</td>\n",
       "    </tr>\n",
       "  </tbody>\n",
       "</table>\n",
       "</div>"
      ],
      "text/plain": [
       "  Census year   Population Growth (%)\n",
       "0    1871[35]  238,830,958          –\n",
       "1    1881[36]  253,896,330        6.3\n",
       "2    1891[35]  287,223,431       13.1\n",
       "3    1901[35]  293,550,310        2.2\n",
       "4    1911[37]  315,156,396        7.4"
      ]
     },
     "execution_count": 66,
     "metadata": {},
     "output_type": "execute_result"
    }
   ],
   "source": [
    "pop_under_british_df = create_dataframe(pop_under_british_dict,pop_under_british_cols)\n",
    "print(f'Number of obseration:{pop_under_british_df.shape}')\n",
    "pop_under_british_df.head()"
   ]
  },
  {
   "cell_type": "markdown",
   "metadata": {},
   "source": [
    "### Dataframe has information about population growth per decade."
   ]
  },
  {
   "cell_type": "code",
   "execution_count": 67,
   "metadata": {},
   "outputs": [
    {
     "name": "stdout",
     "output_type": "stream",
     "text": [
      "Number of observations:(7, 3)\n"
     ]
    },
    {
     "data": {
      "text/html": [
       "<div>\n",
       "<style scoped>\n",
       "    .dataframe tbody tr th:only-of-type {\n",
       "        vertical-align: middle;\n",
       "    }\n",
       "\n",
       "    .dataframe tbody tr th {\n",
       "        vertical-align: top;\n",
       "    }\n",
       "\n",
       "    .dataframe thead th {\n",
       "        text-align: right;\n",
       "    }\n",
       "</style>\n",
       "<table border=\"1\" class=\"dataframe\">\n",
       "  <thead>\n",
       "    <tr style=\"text-align: right;\">\n",
       "      <th></th>\n",
       "      <th>Census year</th>\n",
       "      <th>Population</th>\n",
       "      <th>Change (%)</th>\n",
       "    </tr>\n",
       "  </thead>\n",
       "  <tbody>\n",
       "    <tr>\n",
       "      <th>0</th>\n",
       "      <td>1951</td>\n",
       "      <td>361,088,000</td>\n",
       "      <td>–</td>\n",
       "    </tr>\n",
       "    <tr>\n",
       "      <th>1</th>\n",
       "      <td>1961</td>\n",
       "      <td>439,235,000</td>\n",
       "      <td>21.6</td>\n",
       "    </tr>\n",
       "    <tr>\n",
       "      <th>2</th>\n",
       "      <td>1971</td>\n",
       "      <td>548,160,000</td>\n",
       "      <td>24.8</td>\n",
       "    </tr>\n",
       "    <tr>\n",
       "      <th>3</th>\n",
       "      <td>1981</td>\n",
       "      <td>683,329,000</td>\n",
       "      <td>24.7</td>\n",
       "    </tr>\n",
       "    <tr>\n",
       "      <th>4</th>\n",
       "      <td>1991</td>\n",
       "      <td>846,387,888</td>\n",
       "      <td>23.9</td>\n",
       "    </tr>\n",
       "  </tbody>\n",
       "</table>\n",
       "</div>"
      ],
      "text/plain": [
       "  Census year   Population Change (%)\n",
       "0        1951  361,088,000          –\n",
       "1        1961  439,235,000       21.6\n",
       "2        1971  548,160,000       24.8\n",
       "3        1981  683,329,000       24.7\n",
       "4        1991  846,387,888       23.9"
      ]
     },
     "execution_count": 67,
     "metadata": {},
     "output_type": "execute_result"
    }
   ],
   "source": [
    "pop_per_decade_df = create_dataframe(pop_per_decade_dict, pop_per_decade_cols)\n",
    "print(f'Number of observations:{pop_per_decade_df.shape}')\n",
    "pop_per_decade_df.head()"
   ]
  },
  {
   "cell_type": "markdown",
   "metadata": {},
   "source": [
    "### Dataframe has information about population distribution by states."
   ]
  },
  {
   "cell_type": "code",
   "execution_count": 68,
   "metadata": {},
   "outputs": [
    {
     "name": "stdout",
     "output_type": "stream",
     "text": [
      "['Rank', 'State/UT', 'Population[51]', 'Percent (%)', 'Male', 'Female', 'Difference between male and female', 'Sex Ratio', 'Rural[52]', 'Urban[52]', 'Area[53] (km2)', 'Density (per km2)']\n"
     ]
    }
   ],
   "source": [
    "print(pop_dist_by_states_cols[:-12])"
   ]
  },
  {
   "cell_type": "code",
   "execution_count": 69,
   "metadata": {},
   "outputs": [
    {
     "name": "stdout",
     "output_type": "stream",
     "text": [
      "Number of observations:(36, 12)\n"
     ]
    },
    {
     "data": {
      "text/html": [
       "<div>\n",
       "<style scoped>\n",
       "    .dataframe tbody tr th:only-of-type {\n",
       "        vertical-align: middle;\n",
       "    }\n",
       "\n",
       "    .dataframe tbody tr th {\n",
       "        vertical-align: top;\n",
       "    }\n",
       "\n",
       "    .dataframe thead th {\n",
       "        text-align: right;\n",
       "    }\n",
       "</style>\n",
       "<table border=\"1\" class=\"dataframe\">\n",
       "  <thead>\n",
       "    <tr style=\"text-align: right;\">\n",
       "      <th></th>\n",
       "      <th>Rank</th>\n",
       "      <th>State/UT</th>\n",
       "      <th>Population[51]</th>\n",
       "      <th>Percent (%)</th>\n",
       "      <th>Male</th>\n",
       "      <th>Female</th>\n",
       "      <th>Difference between male and female</th>\n",
       "      <th>Sex Ratio</th>\n",
       "      <th>Rural[52]</th>\n",
       "      <th>Urban[52]</th>\n",
       "      <th>Area[53] (km2)</th>\n",
       "      <th>Density (per km2)</th>\n",
       "    </tr>\n",
       "  </thead>\n",
       "  <tbody>\n",
       "    <tr>\n",
       "      <th>0</th>\n",
       "      <td>1</td>\n",
       "      <td>Uttar Pradesh</td>\n",
       "      <td>199,812,341</td>\n",
       "      <td>16.50</td>\n",
       "      <td>104,480,510</td>\n",
       "      <td>95,331,831</td>\n",
       "      <td>9,148,679</td>\n",
       "      <td>930</td>\n",
       "      <td>155,111,022</td>\n",
       "      <td>44,470,455</td>\n",
       "      <td>240,928</td>\n",
       "      <td>828</td>\n",
       "    </tr>\n",
       "    <tr>\n",
       "      <th>1</th>\n",
       "      <td>2</td>\n",
       "      <td>Maharashtra</td>\n",
       "      <td>112,374,333</td>\n",
       "      <td>9.28</td>\n",
       "      <td>58,243,056</td>\n",
       "      <td>54,131,277</td>\n",
       "      <td>4,111,779</td>\n",
       "      <td>929</td>\n",
       "      <td>61,545,441</td>\n",
       "      <td>50,827,531</td>\n",
       "      <td>307,713</td>\n",
       "      <td>365</td>\n",
       "    </tr>\n",
       "    <tr>\n",
       "      <th>2</th>\n",
       "      <td>3</td>\n",
       "      <td>Bihar</td>\n",
       "      <td>104,099,452</td>\n",
       "      <td>8.60</td>\n",
       "      <td>54,278,157</td>\n",
       "      <td>49,821,295</td>\n",
       "      <td>4,456,862</td>\n",
       "      <td>918</td>\n",
       "      <td>92,075,028</td>\n",
       "      <td>11,729,609</td>\n",
       "      <td>94,163</td>\n",
       "      <td>1,102</td>\n",
       "    </tr>\n",
       "    <tr>\n",
       "      <th>3</th>\n",
       "      <td>4</td>\n",
       "      <td>West Bengal</td>\n",
       "      <td>91,276,115</td>\n",
       "      <td>7.54</td>\n",
       "      <td>46,809,027</td>\n",
       "      <td>44,467,088</td>\n",
       "      <td>2,341,939</td>\n",
       "      <td>950</td>\n",
       "      <td>62,213,676</td>\n",
       "      <td>29,134,060</td>\n",
       "      <td>88,752</td>\n",
       "      <td>1,030</td>\n",
       "    </tr>\n",
       "    <tr>\n",
       "      <th>4</th>\n",
       "      <td>5</td>\n",
       "      <td>Madhya Pradesh</td>\n",
       "      <td>72,626,809</td>\n",
       "      <td>6.00</td>\n",
       "      <td>37,612,306</td>\n",
       "      <td>35,014,503</td>\n",
       "      <td>2,597,803</td>\n",
       "      <td>931</td>\n",
       "      <td>52,537,899</td>\n",
       "      <td>20,059,666</td>\n",
       "      <td>308,245</td>\n",
       "      <td>236</td>\n",
       "    </tr>\n",
       "  </tbody>\n",
       "</table>\n",
       "</div>"
      ],
      "text/plain": [
       "  Rank        State/UT Population[51] Percent (%)         Male      Female  \\\n",
       "0    1   Uttar Pradesh    199,812,341       16.50  104,480,510  95,331,831   \n",
       "1    2     Maharashtra    112,374,333        9.28   58,243,056  54,131,277   \n",
       "2    3           Bihar    104,099,452        8.60   54,278,157  49,821,295   \n",
       "3    4     West Bengal     91,276,115        7.54   46,809,027  44,467,088   \n",
       "4    5  Madhya Pradesh     72,626,809        6.00   37,612,306  35,014,503   \n",
       "\n",
       "  Difference between male and female Sex Ratio    Rural[52]   Urban[52]  \\\n",
       "0                          9,148,679       930  155,111,022  44,470,455   \n",
       "1                          4,111,779       929   61,545,441  50,827,531   \n",
       "2                          4,456,862       918   92,075,028  11,729,609   \n",
       "3                          2,341,939       950   62,213,676  29,134,060   \n",
       "4                          2,597,803       931   52,537,899  20,059,666   \n",
       "\n",
       "  Area[53] (km2) Density (per km2)  \n",
       "0        240,928               828  \n",
       "1        307,713               365  \n",
       "2         94,163             1,102  \n",
       "3         88,752             1,030  \n",
       "4        308,245               236  "
      ]
     },
     "execution_count": 69,
     "metadata": {},
     "output_type": "execute_result"
    }
   ],
   "source": [
    "pop_dist_by_states_df = create_dataframe(pop_dist_by_states_dict, pop_dist_by_states_cols[:-12])\n",
    "print(f'Number of observations:{pop_dist_by_states_df.shape}')\n",
    "pop_dist_by_states_df.head()"
   ]
  },
  {
   "cell_type": "markdown",
   "metadata": {},
   "source": [
    "### Dataframe has information about population distribution between age 0 and 6 by states."
   ]
  },
  {
   "cell_type": "code",
   "execution_count": 70,
   "metadata": {},
   "outputs": [
    {
     "data": {
      "text/plain": [
       "['State or UT code', 'State or UT', 'Total', 'Male', 'Female', 'Difference']"
      ]
     },
     "execution_count": 70,
     "metadata": {},
     "output_type": "execute_result"
    }
   ],
   "source": [
    "pop_bet_age_0_6_cols[:-6]"
   ]
  },
  {
   "cell_type": "code",
   "execution_count": 71,
   "metadata": {},
   "outputs": [
    {
     "name": "stdout",
     "output_type": "stream",
     "text": [
      "Number of observations:(35, 6)\n"
     ]
    },
    {
     "data": {
      "text/html": [
       "<div>\n",
       "<style scoped>\n",
       "    .dataframe tbody tr th:only-of-type {\n",
       "        vertical-align: middle;\n",
       "    }\n",
       "\n",
       "    .dataframe tbody tr th {\n",
       "        vertical-align: top;\n",
       "    }\n",
       "\n",
       "    .dataframe thead th {\n",
       "        text-align: right;\n",
       "    }\n",
       "</style>\n",
       "<table border=\"1\" class=\"dataframe\">\n",
       "  <thead>\n",
       "    <tr style=\"text-align: right;\">\n",
       "      <th></th>\n",
       "      <th>State or UT code</th>\n",
       "      <th>State or UT</th>\n",
       "      <th>Total</th>\n",
       "      <th>Male</th>\n",
       "      <th>Female</th>\n",
       "      <th>Difference</th>\n",
       "    </tr>\n",
       "  </thead>\n",
       "  <tbody>\n",
       "    <tr>\n",
       "      <th>0</th>\n",
       "      <td>1</td>\n",
       "      <td>Jammu and Kashmir</td>\n",
       "      <td>2,008,670</td>\n",
       "      <td>1,080,662</td>\n",
       "      <td>927,982</td>\n",
       "      <td>152,680</td>\n",
       "    </tr>\n",
       "    <tr>\n",
       "      <th>1</th>\n",
       "      <td>2</td>\n",
       "      <td>Himachal Pradesh</td>\n",
       "      <td>763,864</td>\n",
       "      <td>400,681</td>\n",
       "      <td>363,183</td>\n",
       "      <td>37,498</td>\n",
       "    </tr>\n",
       "    <tr>\n",
       "      <th>2</th>\n",
       "      <td>3</td>\n",
       "      <td>Punjab</td>\n",
       "      <td>2,941,570</td>\n",
       "      <td>1,593,262</td>\n",
       "      <td>1,348,308</td>\n",
       "      <td>244,954</td>\n",
       "    </tr>\n",
       "    <tr>\n",
       "      <th>3</th>\n",
       "      <td>4</td>\n",
       "      <td>Chandigarh</td>\n",
       "      <td>117,953</td>\n",
       "      <td>63,187</td>\n",
       "      <td>54,766</td>\n",
       "      <td>8,421</td>\n",
       "    </tr>\n",
       "    <tr>\n",
       "      <th>4</th>\n",
       "      <td>5</td>\n",
       "      <td>Uttarakhand</td>\n",
       "      <td>1,328,844</td>\n",
       "      <td>704,769</td>\n",
       "      <td>624,075</td>\n",
       "      <td>80,694</td>\n",
       "    </tr>\n",
       "  </tbody>\n",
       "</table>\n",
       "</div>"
      ],
      "text/plain": [
       "  State or UT code        State or UT      Total       Male     Female  \\\n",
       "0                1  Jammu and Kashmir  2,008,670  1,080,662    927,982   \n",
       "1                2   Himachal Pradesh    763,864    400,681    363,183   \n",
       "2                3             Punjab  2,941,570  1,593,262  1,348,308   \n",
       "3                4         Chandigarh    117,953     63,187     54,766   \n",
       "4                5        Uttarakhand  1,328,844    704,769    624,075   \n",
       "\n",
       "  Difference  \n",
       "0    152,680  \n",
       "1     37,498  \n",
       "2    244,954  \n",
       "3      8,421  \n",
       "4     80,694  "
      ]
     },
     "execution_count": 71,
     "metadata": {},
     "output_type": "execute_result"
    }
   ],
   "source": [
    "pop_bet_age_0_6_df = create_dataframe(pop_bet_age_0_6_dict, pop_bet_age_0_6_cols[:-6])\n",
    "print(f'Number of observations:{pop_bet_age_0_6_df.shape}')\n",
    "pop_bet_age_0_6_df.head()"
   ]
  },
  {
   "cell_type": "markdown",
   "metadata": {},
   "source": [
    "### Dataframe has information about population distribution above age 7 by states."
   ]
  },
  {
   "cell_type": "code",
   "execution_count": 72,
   "metadata": {},
   "outputs": [
    {
     "data": {
      "text/plain": [
       "['State or UT code', 'State or UT', 'Total', 'Male', 'Female']"
      ]
     },
     "execution_count": 72,
     "metadata": {},
     "output_type": "execute_result"
    }
   ],
   "source": [
    "pop_abv_7_cols[:-5]\n"
   ]
  },
  {
   "cell_type": "code",
   "execution_count": 73,
   "metadata": {},
   "outputs": [
    {
     "name": "stdout",
     "output_type": "stream",
     "text": [
      "Number of observations:(35, 5)\n"
     ]
    },
    {
     "data": {
      "text/html": [
       "<div>\n",
       "<style scoped>\n",
       "    .dataframe tbody tr th:only-of-type {\n",
       "        vertical-align: middle;\n",
       "    }\n",
       "\n",
       "    .dataframe tbody tr th {\n",
       "        vertical-align: top;\n",
       "    }\n",
       "\n",
       "    .dataframe thead th {\n",
       "        text-align: right;\n",
       "    }\n",
       "</style>\n",
       "<table border=\"1\" class=\"dataframe\">\n",
       "  <thead>\n",
       "    <tr style=\"text-align: right;\">\n",
       "      <th></th>\n",
       "      <th>State or UT code</th>\n",
       "      <th>State or UT</th>\n",
       "      <th>Total</th>\n",
       "      <th>Male</th>\n",
       "      <th>Female</th>\n",
       "    </tr>\n",
       "  </thead>\n",
       "  <tbody>\n",
       "    <tr>\n",
       "      <th>0</th>\n",
       "      <td>1</td>\n",
       "      <td>Jammu and Kashmir</td>\n",
       "      <td>–</td>\n",
       "      <td>–</td>\n",
       "      <td>–</td>\n",
       "    </tr>\n",
       "    <tr>\n",
       "      <th>1</th>\n",
       "      <td>2</td>\n",
       "      <td>Himachal Pradesh</td>\n",
       "      <td>–</td>\n",
       "      <td>–</td>\n",
       "      <td>–</td>\n",
       "    </tr>\n",
       "    <tr>\n",
       "      <th>2</th>\n",
       "      <td>3</td>\n",
       "      <td>Punjab</td>\n",
       "      <td>–</td>\n",
       "      <td>–</td>\n",
       "      <td>–</td>\n",
       "    </tr>\n",
       "    <tr>\n",
       "      <th>3</th>\n",
       "      <td>4</td>\n",
       "      <td>Chandigarh</td>\n",
       "      <td>–</td>\n",
       "      <td>–</td>\n",
       "      <td>–</td>\n",
       "    </tr>\n",
       "    <tr>\n",
       "      <th>4</th>\n",
       "      <td>5</td>\n",
       "      <td>Uttarakhand</td>\n",
       "      <td>–</td>\n",
       "      <td>–</td>\n",
       "      <td>–</td>\n",
       "    </tr>\n",
       "  </tbody>\n",
       "</table>\n",
       "</div>"
      ],
      "text/plain": [
       "  State or UT code        State or UT Total Male Female\n",
       "0                1  Jammu and Kashmir     –    –      –\n",
       "1                2   Himachal Pradesh     –    –      –\n",
       "2                3             Punjab     –    –      –\n",
       "3                4         Chandigarh     –    –      –\n",
       "4                5        Uttarakhand     –    –      –"
      ]
     },
     "execution_count": 73,
     "metadata": {},
     "output_type": "execute_result"
    }
   ],
   "source": [
    "pop_abv_7_df = create_dataframe(pop_abv_7_dict,pop_abv_7_cols[:-5])\n",
    "print(f\"Number of observations:{pop_abv_7_df.shape}\")\n",
    "pop_abv_7_df.head()"
   ]
  },
  {
   "cell_type": "markdown",
   "metadata": {},
   "source": [
    "### Dataframe has information about literacy rate by states."
   ]
  },
  {
   "cell_type": "code",
   "execution_count": 74,
   "metadata": {},
   "outputs": [
    {
     "data": {
      "text/plain": [
       "['State or UT code', 'State or UT', 'Overall (%)', 'Male (%)', 'Female (%)']"
      ]
     },
     "execution_count": 74,
     "metadata": {},
     "output_type": "execute_result"
    }
   ],
   "source": [
    "literacy_rate_cols[:-5]"
   ]
  },
  {
   "cell_type": "code",
   "execution_count": 75,
   "metadata": {},
   "outputs": [
    {
     "name": "stdout",
     "output_type": "stream",
     "text": [
      "Number of observations:(35, 5)\n"
     ]
    },
    {
     "data": {
      "text/html": [
       "<div>\n",
       "<style scoped>\n",
       "    .dataframe tbody tr th:only-of-type {\n",
       "        vertical-align: middle;\n",
       "    }\n",
       "\n",
       "    .dataframe tbody tr th {\n",
       "        vertical-align: top;\n",
       "    }\n",
       "\n",
       "    .dataframe thead th {\n",
       "        text-align: right;\n",
       "    }\n",
       "</style>\n",
       "<table border=\"1\" class=\"dataframe\">\n",
       "  <thead>\n",
       "    <tr style=\"text-align: right;\">\n",
       "      <th></th>\n",
       "      <th>State or UT code</th>\n",
       "      <th>State or UT</th>\n",
       "      <th>Overall (%)</th>\n",
       "      <th>Male (%)</th>\n",
       "      <th>Female (%)</th>\n",
       "    </tr>\n",
       "  </thead>\n",
       "  <tbody>\n",
       "    <tr>\n",
       "      <th>0</th>\n",
       "      <td>1</td>\n",
       "      <td>Jammu and Kashmir</td>\n",
       "      <td>86.61</td>\n",
       "      <td>87.26</td>\n",
       "      <td>86.23</td>\n",
       "    </tr>\n",
       "    <tr>\n",
       "      <th>1</th>\n",
       "      <td>2</td>\n",
       "      <td>Himachal Pradesh</td>\n",
       "      <td>83.78</td>\n",
       "      <td>90.83</td>\n",
       "      <td>76.60</td>\n",
       "    </tr>\n",
       "    <tr>\n",
       "      <th>2</th>\n",
       "      <td>3</td>\n",
       "      <td>Punjab</td>\n",
       "      <td>76.60</td>\n",
       "      <td>81.48</td>\n",
       "      <td>71.34</td>\n",
       "    </tr>\n",
       "    <tr>\n",
       "      <th>3</th>\n",
       "      <td>4</td>\n",
       "      <td>Chandigarh</td>\n",
       "      <td>86.43</td>\n",
       "      <td>90.54</td>\n",
       "      <td>81.38</td>\n",
       "    </tr>\n",
       "    <tr>\n",
       "      <th>4</th>\n",
       "      <td>5</td>\n",
       "      <td>Uttarakhand</td>\n",
       "      <td>79.63</td>\n",
       "      <td>88.33</td>\n",
       "      <td>70.70</td>\n",
       "    </tr>\n",
       "  </tbody>\n",
       "</table>\n",
       "</div>"
      ],
      "text/plain": [
       "  State or UT code        State or UT Overall (%) Male (%) Female (%)\n",
       "0                1  Jammu and Kashmir       86.61    87.26      86.23\n",
       "1                2   Himachal Pradesh       83.78    90.83      76.60\n",
       "2                3             Punjab       76.60    81.48      71.34\n",
       "3                4         Chandigarh       86.43    90.54      81.38\n",
       "4                5        Uttarakhand       79.63    88.33      70.70"
      ]
     },
     "execution_count": 75,
     "metadata": {},
     "output_type": "execute_result"
    }
   ],
   "source": [
    "literacy_rate_df = create_dataframe(literacy_rate_dict,literacy_rate_cols[:-5])\n",
    "print(f\"Number of observations:{literacy_rate_df.shape}\")\n",
    "literacy_rate_df.head()"
   ]
  },
  {
   "cell_type": "markdown",
   "metadata": {},
   "source": [
    "### Dataframe has information about languages of india by number of native speakers at the 2001 census."
   ]
  },
  {
   "cell_type": "code",
   "execution_count": 76,
   "metadata": {},
   "outputs": [
    {
     "name": "stdout",
     "output_type": "stream",
     "text": [
      "Number of observations:(29, 4)\n"
     ]
    },
    {
     "data": {
      "text/html": [
       "<div>\n",
       "<style scoped>\n",
       "    .dataframe tbody tr th:only-of-type {\n",
       "        vertical-align: middle;\n",
       "    }\n",
       "\n",
       "    .dataframe tbody tr th {\n",
       "        vertical-align: top;\n",
       "    }\n",
       "\n",
       "    .dataframe thead th {\n",
       "        text-align: right;\n",
       "    }\n",
       "</style>\n",
       "<table border=\"1\" class=\"dataframe\">\n",
       "  <thead>\n",
       "    <tr style=\"text-align: right;\">\n",
       "      <th></th>\n",
       "      <th>Rank</th>\n",
       "      <th>Language</th>\n",
       "      <th>Speakers</th>\n",
       "      <th>Percentage (%)</th>\n",
       "    </tr>\n",
       "  </thead>\n",
       "  <tbody>\n",
       "    <tr>\n",
       "      <th>0</th>\n",
       "      <td>1</td>\n",
       "      <td>Hindi[74]</td>\n",
       "      <td>422,048,642</td>\n",
       "      <td>41.030</td>\n",
       "    </tr>\n",
       "    <tr>\n",
       "      <th>1</th>\n",
       "      <td>2</td>\n",
       "      <td>Bengali</td>\n",
       "      <td>83,369,769</td>\n",
       "      <td>8.110</td>\n",
       "    </tr>\n",
       "    <tr>\n",
       "      <th>2</th>\n",
       "      <td>3</td>\n",
       "      <td>Telugu</td>\n",
       "      <td>74,002,856</td>\n",
       "      <td>7.190</td>\n",
       "    </tr>\n",
       "    <tr>\n",
       "      <th>3</th>\n",
       "      <td>4</td>\n",
       "      <td>Marathi</td>\n",
       "      <td>71,936,894</td>\n",
       "      <td>6.990</td>\n",
       "    </tr>\n",
       "    <tr>\n",
       "      <th>4</th>\n",
       "      <td>5</td>\n",
       "      <td>Tamil</td>\n",
       "      <td>60,793,814</td>\n",
       "      <td>5.910</td>\n",
       "    </tr>\n",
       "  </tbody>\n",
       "</table>\n",
       "</div>"
      ],
      "text/plain": [
       "  Rank   Language     Speakers Percentage (%)\n",
       "0    1  Hindi[74]  422,048,642         41.030\n",
       "1    2    Bengali   83,369,769          8.110\n",
       "2    3     Telugu   74,002,856          7.190\n",
       "3    4    Marathi   71,936,894          6.990\n",
       "4    5      Tamil   60,793,814          5.910"
      ]
     },
     "execution_count": 76,
     "metadata": {},
     "output_type": "execute_result"
    }
   ],
   "source": [
    "native_speakers_df  = create_dataframe(native_speakers_dict,native_speakers_cols)\n",
    "print(f\"Number of observations:{native_speakers_df.shape}\")\n",
    "native_speakers_df.head()"
   ]
  },
  {
   "cell_type": "markdown",
   "metadata": {},
   "source": [
    "### Dataframe has information about United Nations, World Population Prospects: The 2015 revision – India."
   ]
  },
  {
   "cell_type": "code",
   "execution_count": 77,
   "metadata": {},
   "outputs": [
    {
     "name": "stdout",
     "output_type": "stream",
     "text": [
      "Number of observations:(13, 9)\n"
     ]
    },
    {
     "data": {
      "text/html": [
       "<div>\n",
       "<style scoped>\n",
       "    .dataframe tbody tr th:only-of-type {\n",
       "        vertical-align: middle;\n",
       "    }\n",
       "\n",
       "    .dataframe tbody tr th {\n",
       "        vertical-align: top;\n",
       "    }\n",
       "\n",
       "    .dataframe thead th {\n",
       "        text-align: right;\n",
       "    }\n",
       "</style>\n",
       "<table border=\"1\" class=\"dataframe\">\n",
       "  <thead>\n",
       "    <tr style=\"text-align: right;\">\n",
       "      <th></th>\n",
       "      <th>Period</th>\n",
       "      <th>Births per year</th>\n",
       "      <th>Deaths per year</th>\n",
       "      <th>Natural change per year</th>\n",
       "      <th>CBR1</th>\n",
       "      <th>CDR1</th>\n",
       "      <th>NC1</th>\n",
       "      <th>TFR1</th>\n",
       "      <th>IMR1</th>\n",
       "    </tr>\n",
       "  </thead>\n",
       "  <tbody>\n",
       "    <tr>\n",
       "      <th>0</th>\n",
       "      <td>1950–1955</td>\n",
       "      <td>16,832,000</td>\n",
       "      <td>9,928,000</td>\n",
       "      <td>6,904,000</td>\n",
       "      <td>43.3</td>\n",
       "      <td>25.5</td>\n",
       "      <td>17.7</td>\n",
       "      <td>5.90</td>\n",
       "      <td>165.0</td>\n",
       "    </tr>\n",
       "    <tr>\n",
       "      <th>1</th>\n",
       "      <td>1955–1960</td>\n",
       "      <td>17,981,000</td>\n",
       "      <td>9,686,000</td>\n",
       "      <td>8,295,000</td>\n",
       "      <td>42.1</td>\n",
       "      <td>22.7</td>\n",
       "      <td>19.4</td>\n",
       "      <td>5.90</td>\n",
       "      <td>153.1</td>\n",
       "    </tr>\n",
       "    <tr>\n",
       "      <th>2</th>\n",
       "      <td>1960–1965</td>\n",
       "      <td>19,086,000</td>\n",
       "      <td>9,358,000</td>\n",
       "      <td>9,728,000</td>\n",
       "      <td>40.4</td>\n",
       "      <td>19.8</td>\n",
       "      <td>20.6</td>\n",
       "      <td>5.82</td>\n",
       "      <td>140.1</td>\n",
       "    </tr>\n",
       "    <tr>\n",
       "      <th>3</th>\n",
       "      <td>1965–1970</td>\n",
       "      <td>20,611,000</td>\n",
       "      <td>9,057,000</td>\n",
       "      <td>11,554,000</td>\n",
       "      <td>39.2</td>\n",
       "      <td>17.2</td>\n",
       "      <td>22.0</td>\n",
       "      <td>5.69</td>\n",
       "      <td>128.5</td>\n",
       "    </tr>\n",
       "    <tr>\n",
       "      <th>4</th>\n",
       "      <td>1970–1975</td>\n",
       "      <td>22,022,000</td>\n",
       "      <td>8,821,000</td>\n",
       "      <td>13,201,000</td>\n",
       "      <td>37.5</td>\n",
       "      <td>15.0</td>\n",
       "      <td>22.5</td>\n",
       "      <td>5.26</td>\n",
       "      <td>118.0</td>\n",
       "    </tr>\n",
       "  </tbody>\n",
       "</table>\n",
       "</div>"
      ],
      "text/plain": [
       "      Period Births per year Deaths per year Natural change per year  CBR1  \\\n",
       "0  1950–1955      16,832,000       9,928,000               6,904,000  43.3   \n",
       "1  1955–1960      17,981,000       9,686,000               8,295,000  42.1   \n",
       "2  1960–1965      19,086,000       9,358,000               9,728,000  40.4   \n",
       "3  1965–1970      20,611,000       9,057,000              11,554,000  39.2   \n",
       "4  1970–1975      22,022,000       8,821,000              13,201,000  37.5   \n",
       "\n",
       "   CDR1   NC1  TFR1   IMR1  \n",
       "0  25.5  17.7  5.90  165.0  \n",
       "1  22.7  19.4  5.90  153.1  \n",
       "2  19.8  20.6  5.82  140.1  \n",
       "3  17.2  22.0  5.69  128.5  \n",
       "4  15.0  22.5  5.26  118.0  "
      ]
     },
     "execution_count": 77,
     "metadata": {},
     "output_type": "execute_result"
    }
   ],
   "source": [
    "del un_stat_dict[0][-1]\n",
    "un_stat_df = create_dataframe(un_stat_dict,un_stat_cols)\n",
    "print(f\"Number of observations:{un_stat_df.shape}\")\n",
    "un_stat_df.head()"
   ]
  },
  {
   "cell_type": "markdown",
   "metadata": {},
   "source": [
    "### Dataframe has information about Census of India."
   ]
  },
  {
   "cell_type": "code",
   "execution_count": 78,
   "metadata": {},
   "outputs": [
    {
     "name": "stdout",
     "output_type": "stream",
     "text": [
      "Number of observations:(36, 9)\n"
     ]
    },
    {
     "data": {
      "text/html": [
       "<div>\n",
       "<style scoped>\n",
       "    .dataframe tbody tr th:only-of-type {\n",
       "        vertical-align: middle;\n",
       "    }\n",
       "\n",
       "    .dataframe tbody tr th {\n",
       "        vertical-align: top;\n",
       "    }\n",
       "\n",
       "    .dataframe thead th {\n",
       "        text-align: right;\n",
       "    }\n",
       "</style>\n",
       "<table border=\"1\" class=\"dataframe\">\n",
       "  <thead>\n",
       "    <tr style=\"text-align: right;\">\n",
       "      <th></th>\n",
       "      <th>Year</th>\n",
       "      <th>Average population(x 1000)</th>\n",
       "      <th>Live births1</th>\n",
       "      <th>Deaths1</th>\n",
       "      <th>Natural change</th>\n",
       "      <th>Crude birth rate(per 1000)</th>\n",
       "      <th>Crude death rate(per 1000)</th>\n",
       "      <th>Natural change(per 1000)</th>\n",
       "      <th>Total fertility rate</th>\n",
       "    </tr>\n",
       "  </thead>\n",
       "  <tbody>\n",
       "    <tr>\n",
       "      <th>0</th>\n",
       "      <td>1981</td>\n",
       "      <td>716,493</td>\n",
       "      <td>24,289,000</td>\n",
       "      <td>8,956,000</td>\n",
       "      <td>15,333,000</td>\n",
       "      <td>33.9</td>\n",
       "      <td>12.5</td>\n",
       "      <td>21.4</td>\n",
       "      <td>–</td>\n",
       "    </tr>\n",
       "    <tr>\n",
       "      <th>1</th>\n",
       "      <td>1982</td>\n",
       "      <td>733,152</td>\n",
       "      <td>24,781,000</td>\n",
       "      <td>8,725,000</td>\n",
       "      <td>16,056,000</td>\n",
       "      <td>33.8</td>\n",
       "      <td>11.9</td>\n",
       "      <td>21.9</td>\n",
       "      <td>–</td>\n",
       "    </tr>\n",
       "    <tr>\n",
       "      <th>2</th>\n",
       "      <td>1983</td>\n",
       "      <td>750,034</td>\n",
       "      <td>25,276,000</td>\n",
       "      <td>8,925,000</td>\n",
       "      <td>16,351,000</td>\n",
       "      <td>33.7</td>\n",
       "      <td>11.9</td>\n",
       "      <td>21.8</td>\n",
       "      <td>–</td>\n",
       "    </tr>\n",
       "    <tr>\n",
       "      <th>3</th>\n",
       "      <td>1984</td>\n",
       "      <td>767,147</td>\n",
       "      <td>26,006,000</td>\n",
       "      <td>9,666,000</td>\n",
       "      <td>16,340,000</td>\n",
       "      <td>33.9</td>\n",
       "      <td>12.6</td>\n",
       "      <td>21.3</td>\n",
       "      <td>–</td>\n",
       "    </tr>\n",
       "    <tr>\n",
       "      <th>4</th>\n",
       "      <td>1985</td>\n",
       "      <td>784,491</td>\n",
       "      <td>25,810,000</td>\n",
       "      <td>9,257,000</td>\n",
       "      <td>16,553,000</td>\n",
       "      <td>32.9</td>\n",
       "      <td>11.8</td>\n",
       "      <td>21.1</td>\n",
       "      <td>–</td>\n",
       "    </tr>\n",
       "  </tbody>\n",
       "</table>\n",
       "</div>"
      ],
      "text/plain": [
       "   Year Average population(x 1000) Live births1    Deaths1 Natural change  \\\n",
       "0  1981                    716,493   24,289,000  8,956,000     15,333,000   \n",
       "1  1982                    733,152   24,781,000  8,725,000     16,056,000   \n",
       "2  1983                    750,034   25,276,000  8,925,000     16,351,000   \n",
       "3  1984                    767,147   26,006,000  9,666,000     16,340,000   \n",
       "4  1985                    784,491   25,810,000  9,257,000     16,553,000   \n",
       "\n",
       "  Crude birth rate(per 1000) Crude death rate(per 1000)  \\\n",
       "0                       33.9                       12.5   \n",
       "1                       33.8                       11.9   \n",
       "2                       33.7                       11.9   \n",
       "3                       33.9                       12.6   \n",
       "4                       32.9                       11.8   \n",
       "\n",
       "  Natural change(per 1000) Total fertility rate  \n",
       "0                     21.4                    –  \n",
       "1                     21.9                    –  \n",
       "2                     21.8                    –  \n",
       "3                     21.3                    –  \n",
       "4                     21.1                    –  "
      ]
     },
     "execution_count": 78,
     "metadata": {},
     "output_type": "execute_result"
    }
   ],
   "source": [
    "del census_dict[0][-1]\n",
    "census_df = create_dataframe(census_dict,census_cols)\n",
    "print(f\"Number of observations:{census_df.shape}\")\n",
    "census_df.head()"
   ]
  },
  {
   "cell_type": "markdown",
   "metadata": {},
   "source": [
    "### Dataframe has structure of the population (09.02.2011) (Census) (Includes data for the Indian-administered part of Jammu and Kashmir)."
   ]
  },
  {
   "cell_type": "code",
   "execution_count": 79,
   "metadata": {},
   "outputs": [
    {
     "name": "stdout",
     "output_type": "stream",
     "text": [
      "Number of observations:(22, 5)\n"
     ]
    },
    {
     "data": {
      "text/html": [
       "<div>\n",
       "<style scoped>\n",
       "    .dataframe tbody tr th:only-of-type {\n",
       "        vertical-align: middle;\n",
       "    }\n",
       "\n",
       "    .dataframe tbody tr th {\n",
       "        vertical-align: top;\n",
       "    }\n",
       "\n",
       "    .dataframe thead th {\n",
       "        text-align: right;\n",
       "    }\n",
       "</style>\n",
       "<table border=\"1\" class=\"dataframe\">\n",
       "  <thead>\n",
       "    <tr style=\"text-align: right;\">\n",
       "      <th></th>\n",
       "      <th>Age group</th>\n",
       "      <th>Male</th>\n",
       "      <th>Female</th>\n",
       "      <th>Total</th>\n",
       "      <th>Percentage (%)</th>\n",
       "    </tr>\n",
       "  </thead>\n",
       "  <tbody>\n",
       "    <tr>\n",
       "      <th>0</th>\n",
       "      <td>0–4</td>\n",
       "      <td>58,632,074</td>\n",
       "      <td>54,174,704</td>\n",
       "      <td>112,806,778</td>\n",
       "      <td>9.32</td>\n",
       "    </tr>\n",
       "    <tr>\n",
       "      <th>1</th>\n",
       "      <td>5–9</td>\n",
       "      <td>66,300,466</td>\n",
       "      <td>60,627,660</td>\n",
       "      <td>126,928,126</td>\n",
       "      <td>10.48</td>\n",
       "    </tr>\n",
       "    <tr>\n",
       "      <th>2</th>\n",
       "      <td>10–14</td>\n",
       "      <td>69,418,835</td>\n",
       "      <td>63,290,377</td>\n",
       "      <td>132,709,212</td>\n",
       "      <td>10.96</td>\n",
       "    </tr>\n",
       "    <tr>\n",
       "      <th>3</th>\n",
       "      <td>15–19</td>\n",
       "      <td>63,982,396</td>\n",
       "      <td>56,544,053</td>\n",
       "      <td>120,526,449</td>\n",
       "      <td>9.95</td>\n",
       "    </tr>\n",
       "    <tr>\n",
       "      <th>4</th>\n",
       "      <td>20–24</td>\n",
       "      <td>57,584,693</td>\n",
       "      <td>53,839,529</td>\n",
       "      <td>111,424,222</td>\n",
       "      <td>9.20</td>\n",
       "    </tr>\n",
       "  </tbody>\n",
       "</table>\n",
       "</div>"
      ],
      "text/plain": [
       "  Age group        Male      Female        Total Percentage (%)\n",
       "0       0–4  58,632,074  54,174,704  112,806,778           9.32\n",
       "1       5–9  66,300,466  60,627,660  126,928,126          10.48\n",
       "2     10–14  69,418,835  63,290,377  132,709,212          10.96\n",
       "3     15–19  63,982,396  56,544,053  120,526,449           9.95\n",
       "4     20–24  57,584,693  53,839,529  111,424,222           9.20"
      ]
     },
     "execution_count": 79,
     "metadata": {},
     "output_type": "execute_result"
    }
   ],
   "source": [
    "pop_struc_df = create_dataframe(pop_struc_dict,pop_struc_cols[:-5])\n",
    "print(f\"Number of observations:{pop_struc_df.shape}\")\n",
    "pop_struc_df.head()"
   ]
  },
  {
   "cell_type": "markdown",
   "metadata": {},
   "source": [
    "### Dataframe has population pyramid 2016 (estimates)."
   ]
  },
  {
   "cell_type": "code",
   "execution_count": 80,
   "metadata": {},
   "outputs": [
    {
     "name": "stdout",
     "output_type": "stream",
     "text": [
      "Number of observations:(21, 4)\n"
     ]
    },
    {
     "data": {
      "text/html": [
       "<div>\n",
       "<style scoped>\n",
       "    .dataframe tbody tr th:only-of-type {\n",
       "        vertical-align: middle;\n",
       "    }\n",
       "\n",
       "    .dataframe tbody tr th {\n",
       "        vertical-align: top;\n",
       "    }\n",
       "\n",
       "    .dataframe thead th {\n",
       "        text-align: right;\n",
       "    }\n",
       "</style>\n",
       "<table border=\"1\" class=\"dataframe\">\n",
       "  <thead>\n",
       "    <tr style=\"text-align: right;\">\n",
       "      <th></th>\n",
       "      <th>Age group</th>\n",
       "      <th>Male</th>\n",
       "      <th>Female</th>\n",
       "      <th>Total</th>\n",
       "    </tr>\n",
       "  </thead>\n",
       "  <tbody>\n",
       "    <tr>\n",
       "      <th>0</th>\n",
       "      <td>0–4</td>\n",
       "      <td>8.7</td>\n",
       "      <td>8.2</td>\n",
       "      <td>8.5</td>\n",
       "    </tr>\n",
       "    <tr>\n",
       "      <th>1</th>\n",
       "      <td>5–9</td>\n",
       "      <td>9.1</td>\n",
       "      <td>8.8</td>\n",
       "      <td>8.9</td>\n",
       "    </tr>\n",
       "    <tr>\n",
       "      <th>2</th>\n",
       "      <td>10–14</td>\n",
       "      <td>9.8</td>\n",
       "      <td>9.4</td>\n",
       "      <td>9.6</td>\n",
       "    </tr>\n",
       "    <tr>\n",
       "      <th>3</th>\n",
       "      <td>15–19</td>\n",
       "      <td>10.4</td>\n",
       "      <td>9.9</td>\n",
       "      <td>10.1</td>\n",
       "    </tr>\n",
       "    <tr>\n",
       "      <th>4</th>\n",
       "      <td>20–24</td>\n",
       "      <td>10.2</td>\n",
       "      <td>10.7</td>\n",
       "      <td>10.4</td>\n",
       "    </tr>\n",
       "  </tbody>\n",
       "</table>\n",
       "</div>"
      ],
      "text/plain": [
       "  Age group  Male Female Total\n",
       "0       0–4   8.7    8.2   8.5\n",
       "1       5–9   9.1    8.8   8.9\n",
       "2     10–14   9.8    9.4   9.6\n",
       "3     15–19  10.4    9.9  10.1\n",
       "4     20–24  10.2   10.7  10.4"
      ]
     },
     "execution_count": 80,
     "metadata": {},
     "output_type": "execute_result"
    }
   ],
   "source": [
    "pop_struc_2016_df = create_dataframe(pop_struc_2016_dict,pop_struc_2016_cols )\n",
    "print(f\"Number of observations:{pop_struc_2016_df.shape}\")\n",
    "pop_struc_2016_df.head()"
   ]
  },
  {
   "cell_type": "code",
   "execution_count": 81,
   "metadata": {},
   "outputs": [
    {
     "name": "stdout",
     "output_type": "stream",
     "text": [
      "Number of observations:(29, 7)\n"
     ]
    },
    {
     "data": {
      "text/html": [
       "<div>\n",
       "<style scoped>\n",
       "    .dataframe tbody tr th:only-of-type {\n",
       "        vertical-align: middle;\n",
       "    }\n",
       "\n",
       "    .dataframe tbody tr th {\n",
       "        vertical-align: top;\n",
       "    }\n",
       "\n",
       "    .dataframe thead th {\n",
       "        text-align: right;\n",
       "    }\n",
       "</style>\n",
       "<table border=\"1\" class=\"dataframe\">\n",
       "  <thead>\n",
       "    <tr style=\"text-align: right;\">\n",
       "      <th></th>\n",
       "      <th>State (Population 2011)</th>\n",
       "      <th>CBR – Total</th>\n",
       "      <th>TFR – Total1</th>\n",
       "      <th>CBR – Urban</th>\n",
       "      <th>TFR – Urban1</th>\n",
       "      <th>CBR – Rural</th>\n",
       "      <th>TFR – Rural1</th>\n",
       "    </tr>\n",
       "  </thead>\n",
       "  <tbody>\n",
       "    <tr>\n",
       "      <th>0</th>\n",
       "      <td>Uttar Pradesh (199 812 341)</td>\n",
       "      <td>22.6</td>\n",
       "      <td>2.74 (2.06)</td>\n",
       "      <td>18.6</td>\n",
       "      <td>2.08 (1.62)</td>\n",
       "      <td>24.0</td>\n",
       "      <td>2.99 (2.22)</td>\n",
       "    </tr>\n",
       "    <tr>\n",
       "      <th>1</th>\n",
       "      <td>Maharashtra (112 374 333)</td>\n",
       "      <td>16.6</td>\n",
       "      <td>1.87 (1.57)</td>\n",
       "      <td>15.5</td>\n",
       "      <td>1.68 (1.41)</td>\n",
       "      <td>17.5</td>\n",
       "      <td>2.06 (1.73)</td>\n",
       "    </tr>\n",
       "    <tr>\n",
       "      <th>2</th>\n",
       "      <td>Bihar (104 099 452)</td>\n",
       "      <td>27.1</td>\n",
       "      <td>3.41 (2.48)</td>\n",
       "      <td>20.4</td>\n",
       "      <td>2.42 (1.83)</td>\n",
       "      <td>28.0</td>\n",
       "      <td>3.56 (2.58)</td>\n",
       "    </tr>\n",
       "    <tr>\n",
       "      <th>3</th>\n",
       "      <td>West Bengal (91 276 115)</td>\n",
       "      <td>16.6</td>\n",
       "      <td>1.77 (1.53)</td>\n",
       "      <td>14.0</td>\n",
       "      <td>1.57 (1.38)</td>\n",
       "      <td>18.0</td>\n",
       "      <td>1.85 (1.58)</td>\n",
       "    </tr>\n",
       "    <tr>\n",
       "      <th>4</th>\n",
       "      <td>Madhya Pradesh (72 626 809)</td>\n",
       "      <td>20.2</td>\n",
       "      <td>2.32 (1.82)</td>\n",
       "      <td>17.7</td>\n",
       "      <td>1.95 (1.61)</td>\n",
       "      <td>21.3</td>\n",
       "      <td>2.48 (1.91)</td>\n",
       "    </tr>\n",
       "  </tbody>\n",
       "</table>\n",
       "</div>"
      ],
      "text/plain": [
       "       State (Population 2011) CBR – Total TFR – Total1 CBR – Urban  \\\n",
       "0  Uttar Pradesh (199 812 341)        22.6  2.74 (2.06)        18.6   \n",
       "1    Maharashtra (112 374 333)        16.6  1.87 (1.57)        15.5   \n",
       "2          Bihar (104 099 452)        27.1  3.41 (2.48)        20.4   \n",
       "3     West Bengal (91 276 115)        16.6  1.77 (1.53)        14.0   \n",
       "4  Madhya Pradesh (72 626 809)        20.2  2.32 (1.82)        17.7   \n",
       "\n",
       "  TFR – Urban1 CBR – Rural TFR – Rural1  \n",
       "0  2.08 (1.62)        24.0  2.99 (2.22)  \n",
       "1  1.68 (1.41)        17.5  2.06 (1.73)  \n",
       "2  2.42 (1.83)        28.0  3.56 (2.58)  \n",
       "3  1.57 (1.38)        18.0  1.85 (1.58)  \n",
       "4  1.95 (1.61)        21.3  2.48 (1.91)  "
      ]
     },
     "execution_count": 81,
     "metadata": {},
     "output_type": "execute_result"
    }
   ],
   "source": [
    "del crude_birth_rate_dict[0][-1]\n",
    "del crude_birth_rate_dict[1][-1]\n",
    "crude_birth_rate_df = create_dataframe(crude_birth_rate_dict,crude_birth_rate_cols)\n",
    "print(f\"Number of observations:{crude_birth_rate_df.shape}\")\n",
    "crude_birth_rate_df.head()"
   ]
  },
  {
   "cell_type": "code",
   "execution_count": 82,
   "metadata": {},
   "outputs": [
    {
     "name": "stdout",
     "output_type": "stream",
     "text": [
      "Number of observations:(4, 7)\n"
     ]
    },
    {
     "data": {
      "text/html": [
       "<div>\n",
       "<style scoped>\n",
       "    .dataframe tbody tr th:only-of-type {\n",
       "        vertical-align: middle;\n",
       "    }\n",
       "\n",
       "    .dataframe tbody tr th {\n",
       "        vertical-align: top;\n",
       "    }\n",
       "\n",
       "    .dataframe thead th {\n",
       "        text-align: right;\n",
       "    }\n",
       "</style>\n",
       "<table border=\"1\" class=\"dataframe\">\n",
       "  <thead>\n",
       "    <tr style=\"text-align: right;\">\n",
       "      <th></th>\n",
       "      <th>Year</th>\n",
       "      <th>CBR – Total</th>\n",
       "      <th>TFR – Total1</th>\n",
       "      <th>CBR – Urban</th>\n",
       "      <th>TFR – Urban1</th>\n",
       "      <th>CBR – Rural</th>\n",
       "      <th>TFR – Rural1</th>\n",
       "    </tr>\n",
       "  </thead>\n",
       "  <tbody>\n",
       "    <tr>\n",
       "      <th>0</th>\n",
       "      <td>1992–1993</td>\n",
       "      <td>28.7</td>\n",
       "      <td>3.39 (2.64)</td>\n",
       "      <td>24.1</td>\n",
       "      <td>2.70 (2.09)</td>\n",
       "      <td>30.4</td>\n",
       "      <td>3.67 (2.86)</td>\n",
       "    </tr>\n",
       "    <tr>\n",
       "      <th>1</th>\n",
       "      <td>1998–1999</td>\n",
       "      <td>24.8</td>\n",
       "      <td>2.85 (2.13)</td>\n",
       "      <td>20.9</td>\n",
       "      <td>2.27 (1.73)</td>\n",
       "      <td>26.2</td>\n",
       "      <td>3.07 (2.28)</td>\n",
       "    </tr>\n",
       "    <tr>\n",
       "      <th>2</th>\n",
       "      <td>2005–2006</td>\n",
       "      <td>23.1</td>\n",
       "      <td>2.68 (1.90)</td>\n",
       "      <td>18.8</td>\n",
       "      <td>2.06 (1.60)</td>\n",
       "      <td>25.0</td>\n",
       "      <td>2.98 (2.10)</td>\n",
       "    </tr>\n",
       "    <tr>\n",
       "      <th>3</th>\n",
       "      <td>2015–2016</td>\n",
       "      <td>19.0</td>\n",
       "      <td>2.18 (1.8)</td>\n",
       "      <td>15.8</td>\n",
       "      <td>1.75 (1.5)</td>\n",
       "      <td>20.7</td>\n",
       "      <td>2.41 (1.9)</td>\n",
       "    </tr>\n",
       "  </tbody>\n",
       "</table>\n",
       "</div>"
      ],
      "text/plain": [
       "        Year CBR – Total TFR – Total1 CBR – Urban TFR – Urban1 CBR – Rural  \\\n",
       "0  1992–1993        28.7  3.39 (2.64)        24.1  2.70 (2.09)        30.4   \n",
       "1  1998–1999        24.8  2.85 (2.13)        20.9  2.27 (1.73)        26.2   \n",
       "2  2005–2006        23.1  2.68 (1.90)        18.8  2.06 (1.60)        25.0   \n",
       "3  2015–2016        19.0   2.18 (1.8)        15.8   1.75 (1.5)        20.7   \n",
       "\n",
       "  TFR – Rural1  \n",
       "0  3.67 (2.86)  \n",
       "1  3.07 (2.28)  \n",
       "2  2.98 (2.10)  \n",
       "3   2.41 (1.9)  "
      ]
     },
     "execution_count": 82,
     "metadata": {},
     "output_type": "execute_result"
    }
   ],
   "source": [
    "del fertility_rate_dict[0][-1]\n",
    "fertility_rate_df = create_dataframe(fertility_rate_dict,fertility_rate_cols)\n",
    "print(f\"Number of observations:{fertility_rate_df.shape}\")\n",
    "fertility_rate_df.head()"
   ]
  },
  {
   "cell_type": "markdown",
   "metadata": {},
   "source": [
    "### Birth rate, death rate, natural growth rate, and infant mortality rate, by state or UT(2010)."
   ]
  },
  {
   "cell_type": "code",
   "execution_count": 83,
   "metadata": {},
   "outputs": [
    {
     "name": "stdout",
     "output_type": "stream",
     "text": [
      "Number of observations:(35, 13)\n"
     ]
    },
    {
     "data": {
      "text/html": [
       "<div>\n",
       "<style scoped>\n",
       "    .dataframe tbody tr th:only-of-type {\n",
       "        vertical-align: middle;\n",
       "    }\n",
       "\n",
       "    .dataframe tbody tr th {\n",
       "        vertical-align: top;\n",
       "    }\n",
       "\n",
       "    .dataframe thead th {\n",
       "        text-align: right;\n",
       "    }\n",
       "</style>\n",
       "<table border=\"1\" class=\"dataframe\">\n",
       "  <thead>\n",
       "    <tr style=\"text-align: right;\">\n",
       "      <th></th>\n",
       "      <th>state</th>\n",
       "      <th>birth_rate_total</th>\n",
       "      <th>birth_rate_rural</th>\n",
       "      <th>birth_rate_urban</th>\n",
       "      <th>death_rate_total</th>\n",
       "      <th>death_rate_rural</th>\n",
       "      <th>death_rate_urban</th>\n",
       "      <th>natural_growth_rate_total</th>\n",
       "      <th>natural_growth_rate_rural</th>\n",
       "      <th>natural_growth_rate_urban</th>\n",
       "      <th>infant_moratatily_rate_total</th>\n",
       "      <th>infant_moratatily_rate_rural</th>\n",
       "      <th>infant_moratatily_rate_urban</th>\n",
       "    </tr>\n",
       "  </thead>\n",
       "  <tbody>\n",
       "    <tr>\n",
       "      <th>0</th>\n",
       "      <td>Andaman and Nicobar Islands</td>\n",
       "      <td>15.6</td>\n",
       "      <td>15.5</td>\n",
       "      <td>15.8</td>\n",
       "      <td>4.3</td>\n",
       "      <td>4.8</td>\n",
       "      <td>3.3</td>\n",
       "      <td>11.3</td>\n",
       "      <td>10.7</td>\n",
       "      <td>12.6</td>\n",
       "      <td>25</td>\n",
       "      <td>29</td>\n",
       "      <td>18</td>\n",
       "    </tr>\n",
       "    <tr>\n",
       "      <th>1</th>\n",
       "      <td>Andhra Pradesh</td>\n",
       "      <td>17.9</td>\n",
       "      <td>18.3</td>\n",
       "      <td>16.7</td>\n",
       "      <td>7.6</td>\n",
       "      <td>8.6</td>\n",
       "      <td>5.4</td>\n",
       "      <td>10.2</td>\n",
       "      <td>9.7</td>\n",
       "      <td>11.3</td>\n",
       "      <td>46</td>\n",
       "      <td>51</td>\n",
       "      <td>33</td>\n",
       "    </tr>\n",
       "    <tr>\n",
       "      <th>2</th>\n",
       "      <td>Arunachal Pradesh</td>\n",
       "      <td>20.5</td>\n",
       "      <td>22.1</td>\n",
       "      <td>14.6</td>\n",
       "      <td>5.9</td>\n",
       "      <td>6.9</td>\n",
       "      <td>2.3</td>\n",
       "      <td>14.6</td>\n",
       "      <td>15.2</td>\n",
       "      <td>12.3</td>\n",
       "      <td>31</td>\n",
       "      <td>34</td>\n",
       "      <td>12</td>\n",
       "    </tr>\n",
       "    <tr>\n",
       "      <th>3</th>\n",
       "      <td>Assam</td>\n",
       "      <td>23.2</td>\n",
       "      <td>24.4</td>\n",
       "      <td>15.8</td>\n",
       "      <td>8.2</td>\n",
       "      <td>8.6</td>\n",
       "      <td>5.8</td>\n",
       "      <td>14.9</td>\n",
       "      <td>15.8</td>\n",
       "      <td>10.1</td>\n",
       "      <td>58</td>\n",
       "      <td>60</td>\n",
       "      <td>36</td>\n",
       "    </tr>\n",
       "    <tr>\n",
       "      <th>4</th>\n",
       "      <td>Bihar</td>\n",
       "      <td>28.1</td>\n",
       "      <td>28.8</td>\n",
       "      <td>22.0</td>\n",
       "      <td>6.8</td>\n",
       "      <td>7.0</td>\n",
       "      <td>5.6</td>\n",
       "      <td>21.3</td>\n",
       "      <td>21.8</td>\n",
       "      <td>16.4</td>\n",
       "      <td>48</td>\n",
       "      <td>49</td>\n",
       "      <td>38</td>\n",
       "    </tr>\n",
       "  </tbody>\n",
       "</table>\n",
       "</div>"
      ],
      "text/plain": [
       "                         state birth_rate_total birth_rate_rural  \\\n",
       "0  Andaman and Nicobar Islands             15.6             15.5   \n",
       "1               Andhra Pradesh             17.9             18.3   \n",
       "2            Arunachal Pradesh             20.5             22.1   \n",
       "3                        Assam             23.2             24.4   \n",
       "4                        Bihar             28.1             28.8   \n",
       "\n",
       "  birth_rate_urban death_rate_total death_rate_rural death_rate_urban  \\\n",
       "0             15.8              4.3              4.8              3.3   \n",
       "1             16.7              7.6              8.6              5.4   \n",
       "2             14.6              5.9              6.9              2.3   \n",
       "3             15.8              8.2              8.6              5.8   \n",
       "4             22.0              6.8              7.0              5.6   \n",
       "\n",
       "  natural_growth_rate_total natural_growth_rate_rural  \\\n",
       "0                      11.3                      10.7   \n",
       "1                      10.2                       9.7   \n",
       "2                      14.6                      15.2   \n",
       "3                      14.9                      15.8   \n",
       "4                      21.3                      21.8   \n",
       "\n",
       "  natural_growth_rate_urban infant_moratatily_rate_total  \\\n",
       "0                      12.6                           25   \n",
       "1                      11.3                           46   \n",
       "2                      12.3                           31   \n",
       "3                      10.1                           58   \n",
       "4                      16.4                           48   \n",
       "\n",
       "  infant_moratatily_rate_rural infant_moratatily_rate_urban  \n",
       "0                           29                           18  \n",
       "1                           51                           33  \n",
       "2                           34                           12  \n",
       "3                           60                           36  \n",
       "4                           49                           38  "
      ]
     },
     "execution_count": 83,
     "metadata": {},
     "output_type": "execute_result"
    }
   ],
   "source": [
    "regional_stats_df = pd.DataFrame(regional_stats_dict)\n",
    "regional_stats_df.columns = ['state','birth_rate_total','birth_rate_rural','birth_rate_urban','death_rate_total','death_rate_rural','death_rate_urban','natural_growth_rate_total','natural_growth_rate_rural','natural_growth_rate_urban','infant_moratatily_rate_total','infant_moratatily_rate_rural','infant_moratatily_rate_urban']\n",
    "print(f\"Number of observations:{regional_stats_df.shape}\")\n",
    "regional_stats_df.head()"
   ]
  },
  {
   "cell_type": "markdown",
   "metadata": {},
   "source": [
    "- Values in columns are separated by commas. Eg. Population column in pop_under_british_df\n",
    "- Missing data is represented by '-'\n",
    "- Multiple information is available in one column\n",
    "- Total fertitliy column has '~' before number\n",
    "- dtype of certain columns should be int or float instead of string object\n",
    "\n",
    "Copy Dataframes into another to move to cleaning process."
   ]
  },
  {
   "cell_type": "code",
   "execution_count": 84,
   "metadata": {},
   "outputs": [],
   "source": [
    "pop_under_british_df_clean = pop_under_british_df.copy()\n",
    "regional_stats_df_clean = regional_stats_df.copy()\n",
    "fertility_rate_df_clean = fertility_rate_df.copy()\n",
    "crude_birth_rate_df_clean = crude_birth_rate_df.copy()\n",
    "pop_struc_2016_df_clean = pop_struc_2016_df.copy()\n",
    "pop_struc_df_clean =  pop_struc_df.copy()\n",
    "census_df_clean =  census_df.copy()\n",
    "un_stat_df_clean =  un_stat_df.copy()\n",
    "native_speakers_df_clean =  native_speakers_df.copy()\n",
    "literacy_rate_df_clean =  literacy_rate_df.copy()\n",
    "pop_abv_7_df_clean =  pop_abv_7_df.copy()\n",
    "pop_bet_age_0_6_df_clean =  pop_bet_age_0_6_df.copy()\n",
    "pop_dist_by_states_df_clean =  pop_dist_by_states_df.copy()\n",
    "pop_per_decade_df_clean = pop_per_decade_df.copy()\n",
    "life_expe_df_clean = life_expe_df.copy()\n",
    "largest_cities_df_clean = largest_cities_df.copy()"
   ]
  },
  {
   "cell_type": "markdown",
   "metadata": {},
   "source": [
    "- Get rows containing '~' and replace them with space."
   ]
  },
  {
   "cell_type": "code",
   "execution_count": 85,
   "metadata": {},
   "outputs": [],
   "source": [
    "mask = census_df_clean['Total fertility rate'].str.contains('~')\n",
    "census_df_clean.loc[mask, 'Total fertility rate'] = census_df_clean.loc[mask, 'Total fertility rate'].str.replace('~', '')"
   ]
  },
  {
   "cell_type": "code",
   "execution_count": 86,
   "metadata": {},
   "outputs": [
    {
     "data": {
      "text/plain": [
       "31     2.4\n",
       "32     2.3\n",
       "33     2.3\n",
       "34     2.2\n",
       "35     2.2\n",
       "Name: Total fertility rate, dtype: object"
      ]
     },
     "execution_count": 86,
     "metadata": {},
     "output_type": "execute_result"
    }
   ],
   "source": [
    "census_df_clean['Total fertility rate'].tail()"
   ]
  },
  {
   "cell_type": "markdown",
   "metadata": {},
   "source": [
    "- Get rows having '-' and put NaN "
   ]
  },
  {
   "cell_type": "code",
   "execution_count": 87,
   "metadata": {},
   "outputs": [],
   "source": [
    "df_missing_list1 = [pop_abv_7_df_clean, census_df_clean, pop_under_british_df_clean,\n",
    "                  pop_per_decade_df_clean, un_stat_df_clean]\n",
    "\n",
    "errors_missing1 = {}\n",
    "for df in df_missing_list1:\n",
    "    cols = df.columns\n",
    "    for col in cols:\n",
    "        try:\n",
    "            masks = df.loc[:,col] == '–'\n",
    "            df.loc[masks, col] = np.nan\n",
    "        except Exception as e:\n",
    "            errors_missing1[col] = str(e)"
   ]
  },
  {
   "cell_type": "code",
   "execution_count": 88,
   "metadata": {
    "scrolled": true
   },
   "outputs": [
    {
     "data": {
      "text/plain": [
       "{}"
      ]
     },
     "execution_count": 88,
     "metadata": {},
     "output_type": "execute_result"
    }
   ],
   "source": [
    "errors_missing1"
   ]
  },
  {
   "cell_type": "code",
   "execution_count": 89,
   "metadata": {},
   "outputs": [
    {
     "data": {
      "text/html": [
       "<div>\n",
       "<style scoped>\n",
       "    .dataframe tbody tr th:only-of-type {\n",
       "        vertical-align: middle;\n",
       "    }\n",
       "\n",
       "    .dataframe tbody tr th {\n",
       "        vertical-align: top;\n",
       "    }\n",
       "\n",
       "    .dataframe thead th {\n",
       "        text-align: right;\n",
       "    }\n",
       "</style>\n",
       "<table border=\"1\" class=\"dataframe\">\n",
       "  <thead>\n",
       "    <tr style=\"text-align: right;\">\n",
       "      <th></th>\n",
       "      <th>Census year</th>\n",
       "      <th>Population</th>\n",
       "      <th>Growth (%)</th>\n",
       "    </tr>\n",
       "  </thead>\n",
       "  <tbody>\n",
       "    <tr>\n",
       "      <th>0</th>\n",
       "      <td>1871[35]</td>\n",
       "      <td>238,830,958</td>\n",
       "      <td>NaN</td>\n",
       "    </tr>\n",
       "    <tr>\n",
       "      <th>1</th>\n",
       "      <td>1881[36]</td>\n",
       "      <td>253,896,330</td>\n",
       "      <td>6.3</td>\n",
       "    </tr>\n",
       "    <tr>\n",
       "      <th>2</th>\n",
       "      <td>1891[35]</td>\n",
       "      <td>287,223,431</td>\n",
       "      <td>13.1</td>\n",
       "    </tr>\n",
       "    <tr>\n",
       "      <th>3</th>\n",
       "      <td>1901[35]</td>\n",
       "      <td>293,550,310</td>\n",
       "      <td>2.2</td>\n",
       "    </tr>\n",
       "    <tr>\n",
       "      <th>4</th>\n",
       "      <td>1911[37]</td>\n",
       "      <td>315,156,396</td>\n",
       "      <td>7.4</td>\n",
       "    </tr>\n",
       "  </tbody>\n",
       "</table>\n",
       "</div>"
      ],
      "text/plain": [
       "  Census year   Population Growth (%)\n",
       "0    1871[35]  238,830,958        NaN\n",
       "1    1881[36]  253,896,330        6.3\n",
       "2    1891[35]  287,223,431       13.1\n",
       "3    1901[35]  293,550,310        2.2\n",
       "4    1911[37]  315,156,396        7.4"
      ]
     },
     "execution_count": 89,
     "metadata": {},
     "output_type": "execute_result"
    }
   ],
   "source": [
    "pop_under_british_df_clean.head()"
   ]
  },
  {
   "cell_type": "markdown",
   "metadata": {},
   "source": [
    "#### Data Type\n",
    "\n",
    "##### Few of the columns in dataframes are integer type but stored as object also the number are separated by commas.\n",
    "\n",
    "- Create a dictionary with dataframe and an assigned key value.\n",
    "- Apply a for loop to dictionry to take column names of each df in a variable and apply a for loop to check if resp column contains a comma. If yes, then replace it and change the dtype.\n",
    "- if error occurs, collect it in another dictionary and handle it separately."
   ]
  },
  {
   "cell_type": "code",
   "execution_count": 90,
   "metadata": {},
   "outputs": [],
   "source": [
    "df_dict = {0:pop_under_british_df_clean,\n",
    "           1:regional_stats_df_clean,\n",
    "           2:fertility_rate_df_clean,\n",
    "           3:crude_birth_rate_df_clean,\n",
    "           4:pop_struc_2016_df_clean,\n",
    "           5:pop_struc_df_clean,\n",
    "           6:census_df_clean,\n",
    "           7:un_stat_df_clean,\n",
    "           8:native_speakers_df_clean,\n",
    "           9:literacy_rate_df_clean,\n",
    "           10:pop_abv_7_df_clean,\n",
    "           11:pop_bet_age_0_6_df_clean,\n",
    "           12:pop_dist_by_states_df_clean,\n",
    "           13:pop_per_decade_df_clean,\n",
    "           14:life_expe_df_clean,\n",
    "           15:largest_cities_df_clean}"
   ]
  },
  {
   "cell_type": "code",
   "execution_count": 91,
   "metadata": {},
   "outputs": [],
   "source": [
    "errors = {}\n",
    "for key , df in df_dict.items():\n",
    "    cols = df.columns\n",
    "    for col in cols:\n",
    "        if (df[col].str.contains(',')).any():\n",
    "            try:\n",
    "                df[col] = df[col].str.replace(',','').astype(int)\n",
    "            except Exception as e:\n",
    "                errors[key] = col"
   ]
  },
  {
   "cell_type": "code",
   "execution_count": 92,
   "metadata": {},
   "outputs": [
    {
     "name": "stdout",
     "output_type": "stream",
     "text": [
      "{7: 'Natural change per year', 10: 'Female', 15: 'population'}\n"
     ]
    }
   ],
   "source": [
    "print(errors)"
   ]
  },
  {
   "cell_type": "markdown",
   "metadata": {},
   "source": [
    "#### TEST"
   ]
  },
  {
   "cell_type": "code",
   "execution_count": 93,
   "metadata": {},
   "outputs": [
    {
     "name": "stdout",
     "output_type": "stream",
     "text": [
      "Before Cleaning\n",
      "Census year    object\n",
      "Population     object\n",
      "Growth (%)     object\n",
      "dtype: object\n",
      "After Cleaning\n",
      "Census year    object\n",
      "Population      int32\n",
      "Growth (%)     object\n",
      "dtype: object\n"
     ]
    }
   ],
   "source": [
    "print(f\"Before Cleaning\\n{pop_under_british_df.dtypes}\")\n",
    "print(f\"After Cleaning\\n{pop_under_british_df_clean.dtypes}\")"
   ]
  },
  {
   "cell_type": "markdown",
   "metadata": {},
   "source": [
    "Population columns have now changed to integer type."
   ]
  },
  {
   "cell_type": "markdown",
   "metadata": {},
   "source": [
    "## Exploratory Analysis\n"
   ]
  },
  {
   "cell_type": "code",
   "execution_count": 94,
   "metadata": {},
   "outputs": [],
   "source": [
    "def att_line_plot(X,Y,T,XA,YA):\n",
    "    trace = go.Scatter(\n",
    "     x = X,\n",
    "     y =Y,\n",
    "     mode = 'lines+markers',\n",
    "     marker = dict(size = (Y/ Y.mean())*50,\n",
    "                    color = np.random.randn(len(Y)),\n",
    "                    opacity = 0.6,\n",
    "                    line = dict( color = 'rgb(0,0,0)'))\n",
    "    \n",
    "    )\n",
    "    \n",
    "    layout = dict(title = T, \n",
    "                  xaxis = dict(title = XA),\n",
    "                  yaxis = dict(title = YA))\n",
    "    \n",
    "    data = [trace]\n",
    "    fig = {'data':data,'layout':layout}\n",
    "    return fig"
   ]
  },
  {
   "cell_type": "code",
   "execution_count": 95,
   "metadata": {},
   "outputs": [
    {
     "data": {
      "application/vnd.plotly.v1+json": {
       "config": {
        "linkText": "Export to plot.ly",
        "plotlyServerURL": "https://plot.ly",
        "showLink": false
       },
       "data": [
        {
         "marker": {
          "color": [
           0.9139178719780169,
           -0.047448907871641216,
           0.22440857976742348,
           2.2290939308816893,
           1.1549289644439173,
           -0.6415860303456628,
           -0.8132937572899976,
           0.11714216143212827
          ],
          "line": {
           "color": "rgb(0,0,0)"
          },
          "opacity": 0.6,
          "size": [
           39.00179360418042,
           41.46201289164063,
           46.90442590841409,
           47.937623744167965,
           51.46596074797537,
           52.08423933284831,
           57.61944058070409,
           63.524503190069126
          ]
         },
         "mode": "lines+markers",
         "type": "scatter",
         "uid": "4606bdad-dfce-492e-a9ae-3739a9d91d04",
         "x": [
          "1871",
          "1881",
          "1891",
          "1901",
          "1911",
          "1921",
          "1931",
          "1941"
         ],
         "y": [
          238830958,
          253896330,
          287223431,
          293550310,
          315156396,
          318942480,
          352837778,
          388997955
         ]
        }
       ],
       "layout": {
        "title": {
         "text": "Population Growth under British Raj"
        },
        "xaxis": {
         "title": {
          "text": "Year"
         }
        },
        "yaxis": {
         "title": {
          "text": "Population in Millions"
         }
        }
       }
      },
      "text/html": [
       "<div id=\"5c620ed1-311d-4b51-916a-45cefc72d706\" style=\"height: 525px; width: 100%;\" class=\"plotly-graph-div\"></div><script type=\"text/javascript\">require([\"plotly\"], function(Plotly) { window.PLOTLYENV=window.PLOTLYENV || {};window.PLOTLYENV.BASE_URL=\"https://plot.ly\";Plotly.newPlot(\"5c620ed1-311d-4b51-916a-45cefc72d706\", [{\"marker\": {\"color\": [0.9139178719780169, -0.047448907871641216, 0.22440857976742348, 2.2290939308816893, 1.1549289644439173, -0.6415860303456628, -0.8132937572899976, 0.11714216143212827], \"line\": {\"color\": \"rgb(0,0,0)\"}, \"opacity\": 0.6, \"size\": [39.00179360418042, 41.46201289164063, 46.90442590841409, 47.937623744167965, 51.46596074797537, 52.08423933284831, 57.61944058070409, 63.524503190069126]}, \"mode\": \"lines+markers\", \"x\": [\"1871\", \"1881\", \"1891\", \"1901\", \"1911\", \"1921\", \"1931\", \"1941\"], \"y\": [238830958, 253896330, 287223431, 293550310, 315156396, 318942480, 352837778, 388997955], \"type\": \"scatter\", \"uid\": \"df90d0bd-491a-45c0-9d13-eb3ee96bbe87\"}], {\"title\": {\"text\": \"Population Growth under British Raj\"}, \"xaxis\": {\"title\": {\"text\": \"Year\"}}, \"yaxis\": {\"title\": {\"text\": \"Population in Millions\"}}}, {\"showLink\": false, \"linkText\": \"Export to plot.ly\", \"plotlyServerURL\": \"https://plot.ly\"})});</script><script type=\"text/javascript\">window.addEventListener(\"resize\", function(){window._Plotly.Plots.resize(document.getElementById(\"5c620ed1-311d-4b51-916a-45cefc72d706\"));});</script>"
      ],
      "text/vnd.plotly.v1+html": [
       "<div id=\"5c620ed1-311d-4b51-916a-45cefc72d706\" style=\"height: 525px; width: 100%;\" class=\"plotly-graph-div\"></div><script type=\"text/javascript\">require([\"plotly\"], function(Plotly) { window.PLOTLYENV=window.PLOTLYENV || {};window.PLOTLYENV.BASE_URL=\"https://plot.ly\";Plotly.newPlot(\"5c620ed1-311d-4b51-916a-45cefc72d706\", [{\"marker\": {\"color\": [0.9139178719780169, -0.047448907871641216, 0.22440857976742348, 2.2290939308816893, 1.1549289644439173, -0.6415860303456628, -0.8132937572899976, 0.11714216143212827], \"line\": {\"color\": \"rgb(0,0,0)\"}, \"opacity\": 0.6, \"size\": [39.00179360418042, 41.46201289164063, 46.90442590841409, 47.937623744167965, 51.46596074797537, 52.08423933284831, 57.61944058070409, 63.524503190069126]}, \"mode\": \"lines+markers\", \"x\": [\"1871\", \"1881\", \"1891\", \"1901\", \"1911\", \"1921\", \"1931\", \"1941\"], \"y\": [238830958, 253896330, 287223431, 293550310, 315156396, 318942480, 352837778, 388997955], \"type\": \"scatter\", \"uid\": \"df90d0bd-491a-45c0-9d13-eb3ee96bbe87\"}], {\"title\": {\"text\": \"Population Growth under British Raj\"}, \"xaxis\": {\"title\": {\"text\": \"Year\"}}, \"yaxis\": {\"title\": {\"text\": \"Population in Millions\"}}}, {\"showLink\": false, \"linkText\": \"Export to plot.ly\", \"plotlyServerURL\": \"https://plot.ly\"})});</script><script type=\"text/javascript\">window.addEventListener(\"resize\", function(){window._Plotly.Plots.resize(document.getElementById(\"5c620ed1-311d-4b51-916a-45cefc72d706\"));});</script>"
      ]
     },
     "metadata": {},
     "output_type": "display_data"
    }
   ],
   "source": [
    "#Census year has [35] after a year hence remove it.\n",
    "pop_under_british_df_clean['Census year'] = pop_under_british_df_clean['Census year'].apply(lambda x:x.split('[')[0])\n",
    "\n",
    "FIG = att_line_plot(pop_under_british_df_clean['Census year'],pop_under_british_df_clean['Population'],'Population Growth under British Raj','Year','Population in Millions')\n",
    "iplot(FIG)"
   ]
  },
  {
   "cell_type": "markdown",
   "metadata": {},
   "source": [
    "- Population is increased by 63% in 70 years. 1870 -1940."
   ]
  },
  {
   "cell_type": "code",
   "execution_count": 96,
   "metadata": {},
   "outputs": [
    {
     "data": {
      "application/vnd.plotly.v1+json": {
       "config": {
        "linkText": "Export to plot.ly",
        "plotlyServerURL": "https://plot.ly",
        "showLink": false
       },
       "data": [
        {
         "marker": {
          "color": [
           -0.5411530995159068,
           1.2603096634248474,
           -1.1044180467723494,
           -0.27726551782203235,
           0.7990088293802727,
           0.6998986144863558,
           -1.7268392866070656
          ],
          "line": {
           "color": "rgb(0,0,0)"
          },
          "opacity": 0.6,
          "size": [
           24.695015866238176,
           30.039534113587617,
           37.4889774715225,
           46.73326307398935,
           57.88495414733201,
           70.35594454596436,
           82.80231078136596
          ]
         },
         "mode": "lines+markers",
         "type": "scatter",
         "uid": "453b34b4-b608-46f4-beb4-e864592a779d",
         "x": [
          "1951",
          "1961",
          "1971",
          "1981",
          "1991",
          "2001",
          "2011"
         ],
         "y": [
          361088000,
          439235000,
          548160000,
          683329000,
          846387888,
          1028737436,
          1210726932
         ]
        }
       ],
       "layout": {
        "title": {
         "text": "Population Growth after Independence"
        },
        "xaxis": {
         "title": {
          "text": "Year"
         }
        },
        "yaxis": {
         "title": {
          "text": "Population in Billions"
         }
        }
       }
      },
      "text/html": [
       "<div id=\"0e835e20-9019-4262-817d-27ea50a21bc4\" style=\"height: 525px; width: 100%;\" class=\"plotly-graph-div\"></div><script type=\"text/javascript\">require([\"plotly\"], function(Plotly) { window.PLOTLYENV=window.PLOTLYENV || {};window.PLOTLYENV.BASE_URL=\"https://plot.ly\";Plotly.newPlot(\"0e835e20-9019-4262-817d-27ea50a21bc4\", [{\"marker\": {\"color\": [-0.5411530995159068, 1.2603096634248474, -1.1044180467723494, -0.27726551782203235, 0.7990088293802727, 0.6998986144863558, -1.7268392866070656], \"line\": {\"color\": \"rgb(0,0,0)\"}, \"opacity\": 0.6, \"size\": [24.695015866238176, 30.039534113587617, 37.4889774715225, 46.73326307398935, 57.88495414733201, 70.35594454596436, 82.80231078136596]}, \"mode\": \"lines+markers\", \"x\": [\"1951\", \"1961\", \"1971\", \"1981\", \"1991\", \"2001\", \"2011\"], \"y\": [361088000, 439235000, 548160000, 683329000, 846387888, 1028737436, 1210726932], \"type\": \"scatter\", \"uid\": \"522312c1-e6b9-4a10-a037-1fc0e351d41a\"}], {\"title\": {\"text\": \"Population Growth after Independence\"}, \"xaxis\": {\"title\": {\"text\": \"Year\"}}, \"yaxis\": {\"title\": {\"text\": \"Population in Billions\"}}}, {\"showLink\": false, \"linkText\": \"Export to plot.ly\", \"plotlyServerURL\": \"https://plot.ly\"})});</script><script type=\"text/javascript\">window.addEventListener(\"resize\", function(){window._Plotly.Plots.resize(document.getElementById(\"0e835e20-9019-4262-817d-27ea50a21bc4\"));});</script>"
      ],
      "text/vnd.plotly.v1+html": [
       "<div id=\"0e835e20-9019-4262-817d-27ea50a21bc4\" style=\"height: 525px; width: 100%;\" class=\"plotly-graph-div\"></div><script type=\"text/javascript\">require([\"plotly\"], function(Plotly) { window.PLOTLYENV=window.PLOTLYENV || {};window.PLOTLYENV.BASE_URL=\"https://plot.ly\";Plotly.newPlot(\"0e835e20-9019-4262-817d-27ea50a21bc4\", [{\"marker\": {\"color\": [-0.5411530995159068, 1.2603096634248474, -1.1044180467723494, -0.27726551782203235, 0.7990088293802727, 0.6998986144863558, -1.7268392866070656], \"line\": {\"color\": \"rgb(0,0,0)\"}, \"opacity\": 0.6, \"size\": [24.695015866238176, 30.039534113587617, 37.4889774715225, 46.73326307398935, 57.88495414733201, 70.35594454596436, 82.80231078136596]}, \"mode\": \"lines+markers\", \"x\": [\"1951\", \"1961\", \"1971\", \"1981\", \"1991\", \"2001\", \"2011\"], \"y\": [361088000, 439235000, 548160000, 683329000, 846387888, 1028737436, 1210726932], \"type\": \"scatter\", \"uid\": \"522312c1-e6b9-4a10-a037-1fc0e351d41a\"}], {\"title\": {\"text\": \"Population Growth after Independence\"}, \"xaxis\": {\"title\": {\"text\": \"Year\"}}, \"yaxis\": {\"title\": {\"text\": \"Population in Billions\"}}}, {\"showLink\": false, \"linkText\": \"Export to plot.ly\", \"plotlyServerURL\": \"https://plot.ly\"})});</script><script type=\"text/javascript\">window.addEventListener(\"resize\", function(){window._Plotly.Plots.resize(document.getElementById(\"0e835e20-9019-4262-817d-27ea50a21bc4\"));});</script>"
      ]
     },
     "metadata": {},
     "output_type": "display_data"
    }
   ],
   "source": [
    "FIG = att_line_plot(pop_per_decade_df_clean['Census year'],pop_per_decade_df_clean['Population'],'Population Growth after Independence','Year','Population in Billions')\n",
    "iplot(FIG)"
   ]
  },
  {
   "cell_type": "markdown",
   "metadata": {},
   "source": [
    "- In next 60 years population increased by 235%.\n",
    "- From 1970 to 2010 population almost doubled to 1.2 Billion.\n",
    "- Decade population growth rate was 1.77%.(2001 to 2010)"
   ]
  },
  {
   "cell_type": "code",
   "execution_count": 97,
   "metadata": {},
   "outputs": [],
   "source": [
    "def bar_plot(X, Y, color_list, T, TP):\n",
    "    trace = go.Bar(\n",
    "        x = X,\n",
    "        y = Y,\n",
    "        text = T,\n",
    "        textposition = TP,\n",
    "        marker = dict(color = color_list, \n",
    "                      line = dict(color = 'rgb(0,0,0)', width = 1.5 ))\n",
    "    )\n",
    "    return trace"
   ]
  },
  {
   "cell_type": "code",
   "execution_count": 98,
   "metadata": {},
   "outputs": [],
   "source": [
    "def assign_color(col, condn):\n",
    "    colors = []\n",
    "    for i in col:\n",
    "        if i > condn:\n",
    "            colors.append('rgba(222,45,38,0.8)')\n",
    "        else:\n",
    "            colors.append('rgba(204,204,204,1)')\n",
    "    return colors"
   ]
  },
  {
   "cell_type": "code",
   "execution_count": 100,
   "metadata": {},
   "outputs": [
    {
     "ename": "TypeError",
     "evalue": "Could not convert 8,425,9706,809,9705,570,5854,681,0874,486,6794,462,0023,115,4313,073,3502,920,0672,901,4742,405,42112,478,44711,007,8351,960 5211,818,8721,795,6481,730,3201,729,3591,683,2001,613,878 to numeric",
     "output_type": "error",
     "traceback": [
      "\u001b[1;31m---------------------------------------------------------------------------\u001b[0m",
      "\u001b[1;31mValueError\u001b[0m                                Traceback (most recent call last)",
      "\u001b[1;32m~\\Anaconda3\\lib\\site-packages\\pandas\\core\\nanops.py\u001b[0m in \u001b[0;36m_ensure_numeric\u001b[1;34m(x)\u001b[0m\n\u001b[0;32m    821\u001b[0m         \u001b[1;32mtry\u001b[0m\u001b[1;33m:\u001b[0m\u001b[1;33m\u001b[0m\u001b[0m\n\u001b[1;32m--> 822\u001b[1;33m             \u001b[0mx\u001b[0m \u001b[1;33m=\u001b[0m \u001b[0mfloat\u001b[0m\u001b[1;33m(\u001b[0m\u001b[0mx\u001b[0m\u001b[1;33m)\u001b[0m\u001b[1;33m\u001b[0m\u001b[0m\n\u001b[0m\u001b[0;32m    823\u001b[0m         \u001b[1;32mexcept\u001b[0m \u001b[0mException\u001b[0m\u001b[1;33m:\u001b[0m\u001b[1;33m\u001b[0m\u001b[0m\n",
      "\u001b[1;31mValueError\u001b[0m: could not convert string to float: '8,425,9706,809,9705,570,5854,681,0874,486,6794,462,0023,115,4313,073,3502,920,0672,901,4742,405,42112,478,44711,007,8351,960 5211,818,8721,795,6481,730,3201,729,3591,683,2001,613,878'",
      "\nDuring handling of the above exception, another exception occurred:\n",
      "\u001b[1;31mValueError\u001b[0m                                Traceback (most recent call last)",
      "\u001b[1;32m~\\Anaconda3\\lib\\site-packages\\pandas\\core\\nanops.py\u001b[0m in \u001b[0;36m_ensure_numeric\u001b[1;34m(x)\u001b[0m\n\u001b[0;32m    824\u001b[0m             \u001b[1;32mtry\u001b[0m\u001b[1;33m:\u001b[0m\u001b[1;33m\u001b[0m\u001b[0m\n\u001b[1;32m--> 825\u001b[1;33m                 \u001b[0mx\u001b[0m \u001b[1;33m=\u001b[0m \u001b[0mcomplex\u001b[0m\u001b[1;33m(\u001b[0m\u001b[0mx\u001b[0m\u001b[1;33m)\u001b[0m\u001b[1;33m\u001b[0m\u001b[0m\n\u001b[0m\u001b[0;32m    826\u001b[0m             \u001b[1;32mexcept\u001b[0m \u001b[0mException\u001b[0m\u001b[1;33m:\u001b[0m\u001b[1;33m\u001b[0m\u001b[0m\n",
      "\u001b[1;31mValueError\u001b[0m: complex() arg is a malformed string",
      "\nDuring handling of the above exception, another exception occurred:\n",
      "\u001b[1;31mTypeError\u001b[0m                                 Traceback (most recent call last)",
      "\u001b[1;32m~\\Anaconda3\\lib\\site-packages\\pandas\\core\\nanops.py\u001b[0m in \u001b[0;36mf\u001b[1;34m(values, axis, skipna, **kwds)\u001b[0m\n\u001b[0;32m    127\u001b[0m                 \u001b[1;32melse\u001b[0m\u001b[1;33m:\u001b[0m\u001b[1;33m\u001b[0m\u001b[0m\n\u001b[1;32m--> 128\u001b[1;33m                     \u001b[0mresult\u001b[0m \u001b[1;33m=\u001b[0m \u001b[0malt\u001b[0m\u001b[1;33m(\u001b[0m\u001b[0mvalues\u001b[0m\u001b[1;33m,\u001b[0m \u001b[0maxis\u001b[0m\u001b[1;33m=\u001b[0m\u001b[0maxis\u001b[0m\u001b[1;33m,\u001b[0m \u001b[0mskipna\u001b[0m\u001b[1;33m=\u001b[0m\u001b[0mskipna\u001b[0m\u001b[1;33m,\u001b[0m \u001b[1;33m**\u001b[0m\u001b[0mkwds\u001b[0m\u001b[1;33m)\u001b[0m\u001b[1;33m\u001b[0m\u001b[0m\n\u001b[0m\u001b[0;32m    129\u001b[0m             \u001b[1;32mexcept\u001b[0m \u001b[0mException\u001b[0m\u001b[1;33m:\u001b[0m\u001b[1;33m\u001b[0m\u001b[0m\n",
      "\u001b[1;32m~\\Anaconda3\\lib\\site-packages\\pandas\\core\\nanops.py\u001b[0m in \u001b[0;36mnanmean\u001b[1;34m(values, axis, skipna)\u001b[0m\n\u001b[0;32m    354\u001b[0m     \u001b[0mcount\u001b[0m \u001b[1;33m=\u001b[0m \u001b[0m_get_counts\u001b[0m\u001b[1;33m(\u001b[0m\u001b[0mmask\u001b[0m\u001b[1;33m,\u001b[0m \u001b[0maxis\u001b[0m\u001b[1;33m,\u001b[0m \u001b[0mdtype\u001b[0m\u001b[1;33m=\u001b[0m\u001b[0mdtype_count\u001b[0m\u001b[1;33m)\u001b[0m\u001b[1;33m\u001b[0m\u001b[0m\n\u001b[1;32m--> 355\u001b[1;33m     \u001b[0mthe_sum\u001b[0m \u001b[1;33m=\u001b[0m \u001b[0m_ensure_numeric\u001b[0m\u001b[1;33m(\u001b[0m\u001b[0mvalues\u001b[0m\u001b[1;33m.\u001b[0m\u001b[0msum\u001b[0m\u001b[1;33m(\u001b[0m\u001b[0maxis\u001b[0m\u001b[1;33m,\u001b[0m \u001b[0mdtype\u001b[0m\u001b[1;33m=\u001b[0m\u001b[0mdtype_sum\u001b[0m\u001b[1;33m)\u001b[0m\u001b[1;33m)\u001b[0m\u001b[1;33m\u001b[0m\u001b[0m\n\u001b[0m\u001b[0;32m    356\u001b[0m \u001b[1;33m\u001b[0m\u001b[0m\n",
      "\u001b[1;32m~\\Anaconda3\\lib\\site-packages\\pandas\\core\\nanops.py\u001b[0m in \u001b[0;36m_ensure_numeric\u001b[1;34m(x)\u001b[0m\n\u001b[0;32m    827\u001b[0m                 raise TypeError('Could not convert {value!s} to numeric'\n\u001b[1;32m--> 828\u001b[1;33m                                 .format(value=x))\n\u001b[0m\u001b[0;32m    829\u001b[0m     \u001b[1;32mreturn\u001b[0m \u001b[0mx\u001b[0m\u001b[1;33m\u001b[0m\u001b[0m\n",
      "\u001b[1;31mTypeError\u001b[0m: Could not convert 8,425,9706,809,9705,570,5854,681,0874,486,6794,462,0023,115,4313,073,3502,920,0672,901,4742,405,42112,478,44711,007,8351,960 5211,818,8721,795,6481,730,3201,729,3591,683,2001,613,878 to numeric",
      "\nDuring handling of the above exception, another exception occurred:\n",
      "\u001b[1;31mValueError\u001b[0m                                Traceback (most recent call last)",
      "\u001b[1;32m~\\Anaconda3\\lib\\site-packages\\pandas\\core\\nanops.py\u001b[0m in \u001b[0;36m_ensure_numeric\u001b[1;34m(x)\u001b[0m\n\u001b[0;32m    821\u001b[0m         \u001b[1;32mtry\u001b[0m\u001b[1;33m:\u001b[0m\u001b[1;33m\u001b[0m\u001b[0m\n\u001b[1;32m--> 822\u001b[1;33m             \u001b[0mx\u001b[0m \u001b[1;33m=\u001b[0m \u001b[0mfloat\u001b[0m\u001b[1;33m(\u001b[0m\u001b[0mx\u001b[0m\u001b[1;33m)\u001b[0m\u001b[1;33m\u001b[0m\u001b[0m\n\u001b[0m\u001b[0;32m    823\u001b[0m         \u001b[1;32mexcept\u001b[0m \u001b[0mException\u001b[0m\u001b[1;33m:\u001b[0m\u001b[1;33m\u001b[0m\u001b[0m\n",
      "\u001b[1;31mValueError\u001b[0m: could not convert string to float: '8,425,9706,809,9705,570,5854,681,0874,486,6794,462,0023,115,4313,073,3502,920,0672,901,4742,405,42112,478,44711,007,8351,960 5211,818,8721,795,6481,730,3201,729,3591,683,2001,613,878'",
      "\nDuring handling of the above exception, another exception occurred:\n",
      "\u001b[1;31mValueError\u001b[0m                                Traceback (most recent call last)",
      "\u001b[1;32m~\\Anaconda3\\lib\\site-packages\\pandas\\core\\nanops.py\u001b[0m in \u001b[0;36m_ensure_numeric\u001b[1;34m(x)\u001b[0m\n\u001b[0;32m    824\u001b[0m             \u001b[1;32mtry\u001b[0m\u001b[1;33m:\u001b[0m\u001b[1;33m\u001b[0m\u001b[0m\n\u001b[1;32m--> 825\u001b[1;33m                 \u001b[0mx\u001b[0m \u001b[1;33m=\u001b[0m \u001b[0mcomplex\u001b[0m\u001b[1;33m(\u001b[0m\u001b[0mx\u001b[0m\u001b[1;33m)\u001b[0m\u001b[1;33m\u001b[0m\u001b[0m\n\u001b[0m\u001b[0;32m    826\u001b[0m             \u001b[1;32mexcept\u001b[0m \u001b[0mException\u001b[0m\u001b[1;33m:\u001b[0m\u001b[1;33m\u001b[0m\u001b[0m\n",
      "\u001b[1;31mValueError\u001b[0m: complex() arg is a malformed string",
      "\nDuring handling of the above exception, another exception occurred:\n",
      "\u001b[1;31mTypeError\u001b[0m                                 Traceback (most recent call last)",
      "\u001b[1;32m<ipython-input-100-25070696a4e1>\u001b[0m in \u001b[0;36m<module>\u001b[1;34m()\u001b[0m\n\u001b[0;32m      9\u001b[0m \u001b[0mlargest_cities_df_clean\u001b[0m\u001b[1;33m.\u001b[0m\u001b[0msort_values\u001b[0m\u001b[1;33m(\u001b[0m\u001b[0mby\u001b[0m \u001b[1;33m=\u001b[0m \u001b[1;34m'population'\u001b[0m\u001b[1;33m,\u001b[0m\u001b[0mascending\u001b[0m \u001b[1;33m=\u001b[0m \u001b[1;32mFalse\u001b[0m\u001b[1;33m,\u001b[0m\u001b[0minplace\u001b[0m \u001b[1;33m=\u001b[0m \u001b[1;32mTrue\u001b[0m\u001b[1;33m)\u001b[0m\u001b[1;33m\u001b[0m\u001b[0m\n\u001b[0;32m     10\u001b[0m colors_bar = assign_color(largest_cities_df_clean['population'],\n\u001b[1;32m---> 11\u001b[1;33m                           largest_cities_df_clean['population'].mean())\n\u001b[0m\u001b[0;32m     12\u001b[0m trace2 = bar_plot(largest_cities_df_clean['city'],\n\u001b[0;32m     13\u001b[0m                   \u001b[0mlargest_cities_df_clean\u001b[0m\u001b[1;33m[\u001b[0m\u001b[1;34m'population'\u001b[0m\u001b[1;33m]\u001b[0m\u001b[1;33m,\u001b[0m\u001b[1;33m\u001b[0m\u001b[0m\n",
      "\u001b[1;32m~\\Anaconda3\\lib\\site-packages\\pandas\\core\\generic.py\u001b[0m in \u001b[0;36mstat_func\u001b[1;34m(self, axis, skipna, level, numeric_only, **kwargs)\u001b[0m\n\u001b[0;32m   9611\u001b[0m                                       skipna=skipna)\n\u001b[0;32m   9612\u001b[0m         return self._reduce(f, name, axis=axis, skipna=skipna,\n\u001b[1;32m-> 9613\u001b[1;33m                             numeric_only=numeric_only)\n\u001b[0m\u001b[0;32m   9614\u001b[0m \u001b[1;33m\u001b[0m\u001b[0m\n\u001b[0;32m   9615\u001b[0m     \u001b[1;32mreturn\u001b[0m \u001b[0mset_function_name\u001b[0m\u001b[1;33m(\u001b[0m\u001b[0mstat_func\u001b[0m\u001b[1;33m,\u001b[0m \u001b[0mname\u001b[0m\u001b[1;33m,\u001b[0m \u001b[0mcls\u001b[0m\u001b[1;33m)\u001b[0m\u001b[1;33m\u001b[0m\u001b[0m\n",
      "\u001b[1;32m~\\Anaconda3\\lib\\site-packages\\pandas\\core\\series.py\u001b[0m in \u001b[0;36m_reduce\u001b[1;34m(self, op, name, axis, skipna, numeric_only, filter_type, **kwds)\u001b[0m\n\u001b[0;32m   3219\u001b[0m                                           'numeric_only.'.format(name))\n\u001b[0;32m   3220\u001b[0m             \u001b[1;32mwith\u001b[0m \u001b[0mnp\u001b[0m\u001b[1;33m.\u001b[0m\u001b[0merrstate\u001b[0m\u001b[1;33m(\u001b[0m\u001b[0mall\u001b[0m\u001b[1;33m=\u001b[0m\u001b[1;34m'ignore'\u001b[0m\u001b[1;33m)\u001b[0m\u001b[1;33m:\u001b[0m\u001b[1;33m\u001b[0m\u001b[0m\n\u001b[1;32m-> 3221\u001b[1;33m                 \u001b[1;32mreturn\u001b[0m \u001b[0mop\u001b[0m\u001b[1;33m(\u001b[0m\u001b[0mdelegate\u001b[0m\u001b[1;33m,\u001b[0m \u001b[0mskipna\u001b[0m\u001b[1;33m=\u001b[0m\u001b[0mskipna\u001b[0m\u001b[1;33m,\u001b[0m \u001b[1;33m**\u001b[0m\u001b[0mkwds\u001b[0m\u001b[1;33m)\u001b[0m\u001b[1;33m\u001b[0m\u001b[0m\n\u001b[0m\u001b[0;32m   3222\u001b[0m \u001b[1;33m\u001b[0m\u001b[0m\n\u001b[0;32m   3223\u001b[0m         return delegate._reduce(op=op, name=name, axis=axis, skipna=skipna,\n",
      "\u001b[1;32m~\\Anaconda3\\lib\\site-packages\\pandas\\core\\nanops.py\u001b[0m in \u001b[0;36m_f\u001b[1;34m(*args, **kwargs)\u001b[0m\n\u001b[0;32m     75\u001b[0m             \u001b[1;32mtry\u001b[0m\u001b[1;33m:\u001b[0m\u001b[1;33m\u001b[0m\u001b[0m\n\u001b[0;32m     76\u001b[0m                 \u001b[1;32mwith\u001b[0m \u001b[0mnp\u001b[0m\u001b[1;33m.\u001b[0m\u001b[0merrstate\u001b[0m\u001b[1;33m(\u001b[0m\u001b[0minvalid\u001b[0m\u001b[1;33m=\u001b[0m\u001b[1;34m'ignore'\u001b[0m\u001b[1;33m)\u001b[0m\u001b[1;33m:\u001b[0m\u001b[1;33m\u001b[0m\u001b[0m\n\u001b[1;32m---> 77\u001b[1;33m                     \u001b[1;32mreturn\u001b[0m \u001b[0mf\u001b[0m\u001b[1;33m(\u001b[0m\u001b[1;33m*\u001b[0m\u001b[0margs\u001b[0m\u001b[1;33m,\u001b[0m \u001b[1;33m**\u001b[0m\u001b[0mkwargs\u001b[0m\u001b[1;33m)\u001b[0m\u001b[1;33m\u001b[0m\u001b[0m\n\u001b[0m\u001b[0;32m     78\u001b[0m             \u001b[1;32mexcept\u001b[0m \u001b[0mValueError\u001b[0m \u001b[1;32mas\u001b[0m \u001b[0me\u001b[0m\u001b[1;33m:\u001b[0m\u001b[1;33m\u001b[0m\u001b[0m\n\u001b[0;32m     79\u001b[0m                 \u001b[1;31m# we want to transform an object array\u001b[0m\u001b[1;33m\u001b[0m\u001b[1;33m\u001b[0m\u001b[0m\n",
      "\u001b[1;32m~\\Anaconda3\\lib\\site-packages\\pandas\\core\\nanops.py\u001b[0m in \u001b[0;36mf\u001b[1;34m(values, axis, skipna, **kwds)\u001b[0m\n\u001b[0;32m    129\u001b[0m             \u001b[1;32mexcept\u001b[0m \u001b[0mException\u001b[0m\u001b[1;33m:\u001b[0m\u001b[1;33m\u001b[0m\u001b[0m\n\u001b[0;32m    130\u001b[0m                 \u001b[1;32mtry\u001b[0m\u001b[1;33m:\u001b[0m\u001b[1;33m\u001b[0m\u001b[0m\n\u001b[1;32m--> 131\u001b[1;33m                     \u001b[0mresult\u001b[0m \u001b[1;33m=\u001b[0m \u001b[0malt\u001b[0m\u001b[1;33m(\u001b[0m\u001b[0mvalues\u001b[0m\u001b[1;33m,\u001b[0m \u001b[0maxis\u001b[0m\u001b[1;33m=\u001b[0m\u001b[0maxis\u001b[0m\u001b[1;33m,\u001b[0m \u001b[0mskipna\u001b[0m\u001b[1;33m=\u001b[0m\u001b[0mskipna\u001b[0m\u001b[1;33m,\u001b[0m \u001b[1;33m**\u001b[0m\u001b[0mkwds\u001b[0m\u001b[1;33m)\u001b[0m\u001b[1;33m\u001b[0m\u001b[0m\n\u001b[0m\u001b[0;32m    132\u001b[0m                 \u001b[1;32mexcept\u001b[0m \u001b[0mValueError\u001b[0m \u001b[1;32mas\u001b[0m \u001b[0me\u001b[0m\u001b[1;33m:\u001b[0m\u001b[1;33m\u001b[0m\u001b[0m\n\u001b[0;32m    133\u001b[0m                     \u001b[1;31m# we want to transform an object array\u001b[0m\u001b[1;33m\u001b[0m\u001b[1;33m\u001b[0m\u001b[0m\n",
      "\u001b[1;32m~\\Anaconda3\\lib\\site-packages\\pandas\\core\\nanops.py\u001b[0m in \u001b[0;36mnanmean\u001b[1;34m(values, axis, skipna)\u001b[0m\n\u001b[0;32m    353\u001b[0m         \u001b[0mdtype_count\u001b[0m \u001b[1;33m=\u001b[0m \u001b[0mdtype\u001b[0m\u001b[1;33m\u001b[0m\u001b[0m\n\u001b[0;32m    354\u001b[0m     \u001b[0mcount\u001b[0m \u001b[1;33m=\u001b[0m \u001b[0m_get_counts\u001b[0m\u001b[1;33m(\u001b[0m\u001b[0mmask\u001b[0m\u001b[1;33m,\u001b[0m \u001b[0maxis\u001b[0m\u001b[1;33m,\u001b[0m \u001b[0mdtype\u001b[0m\u001b[1;33m=\u001b[0m\u001b[0mdtype_count\u001b[0m\u001b[1;33m)\u001b[0m\u001b[1;33m\u001b[0m\u001b[0m\n\u001b[1;32m--> 355\u001b[1;33m     \u001b[0mthe_sum\u001b[0m \u001b[1;33m=\u001b[0m \u001b[0m_ensure_numeric\u001b[0m\u001b[1;33m(\u001b[0m\u001b[0mvalues\u001b[0m\u001b[1;33m.\u001b[0m\u001b[0msum\u001b[0m\u001b[1;33m(\u001b[0m\u001b[0maxis\u001b[0m\u001b[1;33m,\u001b[0m \u001b[0mdtype\u001b[0m\u001b[1;33m=\u001b[0m\u001b[0mdtype_sum\u001b[0m\u001b[1;33m)\u001b[0m\u001b[1;33m)\u001b[0m\u001b[1;33m\u001b[0m\u001b[0m\n\u001b[0m\u001b[0;32m    356\u001b[0m \u001b[1;33m\u001b[0m\u001b[0m\n\u001b[0;32m    357\u001b[0m     \u001b[1;32mif\u001b[0m \u001b[0maxis\u001b[0m \u001b[1;32mis\u001b[0m \u001b[1;32mnot\u001b[0m \u001b[1;32mNone\u001b[0m \u001b[1;32mand\u001b[0m \u001b[0mgetattr\u001b[0m\u001b[1;33m(\u001b[0m\u001b[0mthe_sum\u001b[0m\u001b[1;33m,\u001b[0m \u001b[1;34m'ndim'\u001b[0m\u001b[1;33m,\u001b[0m \u001b[1;32mFalse\u001b[0m\u001b[1;33m)\u001b[0m\u001b[1;33m:\u001b[0m\u001b[1;33m\u001b[0m\u001b[0m\n",
      "\u001b[1;32m~\\Anaconda3\\lib\\site-packages\\pandas\\core\\nanops.py\u001b[0m in \u001b[0;36m_ensure_numeric\u001b[1;34m(x)\u001b[0m\n\u001b[0;32m    826\u001b[0m             \u001b[1;32mexcept\u001b[0m \u001b[0mException\u001b[0m\u001b[1;33m:\u001b[0m\u001b[1;33m\u001b[0m\u001b[0m\n\u001b[0;32m    827\u001b[0m                 raise TypeError('Could not convert {value!s} to numeric'\n\u001b[1;32m--> 828\u001b[1;33m                                 .format(value=x))\n\u001b[0m\u001b[0;32m    829\u001b[0m     \u001b[1;32mreturn\u001b[0m \u001b[0mx\u001b[0m\u001b[1;33m\u001b[0m\u001b[0m\n\u001b[0;32m    830\u001b[0m \u001b[1;33m\u001b[0m\u001b[0m\n",
      "\u001b[1;31mTypeError\u001b[0m: Could not convert 8,425,9706,809,9705,570,5854,681,0874,486,6794,462,0023,115,4313,073,3502,920,0672,901,4742,405,42112,478,44711,007,8351,960 5211,818,8721,795,6481,730,3201,729,3591,683,2001,613,878 to numeric"
     ]
    }
   ],
   "source": [
    "pop_dist_by_states_df_clean.sort_values(by = 'Population[51]',\n",
    "                                        ascending = False,inplace = True)\n",
    "colors_states = assign_color(pop_dist_by_states_df_clean['Population[51]'],100000000)\n",
    "trace1 = bar_plot(pop_dist_by_states_df_clean['State/UT'],\n",
    "                  pop_dist_by_states_df_clean['Population[51]'],\n",
    "                  colors_states,T = None,TP = None)\n",
    "\n",
    "\n",
    "largest_cities_df_clean.sort_values(by = 'population',ascending = False,inplace = True)\n",
    "colors_bar = assign_color(largest_cities_df_clean['population'],\n",
    "                          largest_cities_df_clean['population'].mean())\n",
    "trace2 = bar_plot(largest_cities_df_clean['city'],\n",
    "                  largest_cities_df_clean['population'],\n",
    "                  colors_bar,T = largest_cities_df_clean['state'],TP = None)\n",
    "\n",
    "\n",
    "pop_dist_by_states_df_clean['Sex Ratio']=pop_dist_by_states_df_clean['Sex Ratio'].astype(int)\n",
    "df = pop_dist_by_states_df_clean.sort_values(by = 'Sex Ratio',ascending = False)\n",
    "colors_sexratio = assign_color(df['Sex Ratio'],1000)\n",
    "trace3 = bar_plot(df['State/UT'],df['Sex Ratio'],\n",
    "                  colors_sexratio,T = None, TP = None)\n",
    "\n",
    "\n",
    "data = [trace1,trace2,trace3]\n",
    "fig = tools.make_subplots(rows=3, cols=1, print_grid = False,subplot_titles=('Population distribution by States(2011)', \n",
    "                                                                             'Cities with largest Population(2011)',\n",
    "                                                                              'Sex Ratio by States(2011)'))\n",
    "\n",
    "fig.append_trace(trace1, 1, 1)\n",
    "fig.append_trace(trace2, 2, 1)\n",
    "fig.append_trace(trace3, 3, 1)\n",
    "\n",
    "fig['layout']['yaxis1'].update(title='Population')\n",
    "fig['layout']['yaxis2'].update(title='Population')\n",
    "fig['layout']['yaxis3'].update(title='Sex Ratio')\n",
    "\n",
    "\n",
    "fig['layout'].update(height = 1000, width = 1000, showlegend = False)\n",
    "\n",
    "iplot(fig)\n"
   ]
  },
  {
   "cell_type": "markdown",
   "metadata": {},
   "source": [
    "Population distribution by states:\n",
    "- Uttarpradesh,Maharashtra,Bihar are the states with population above 100Million at 2011 census.\n",
    "\n",
    "Cities with largest population:\n",
    "- Mumbai, Delhi, Bangalore, Hyderabad, Ahmedabad, cheannai, kolkata, surat are the cities with population above the mean population.\n",
    "\n",
    "Sex ratio is used to describe number of females per 1000 of males.The major cause of the decrease of the female birth ratio in India is considered to be the violent treatments meted out to the girl child at the time of the birth.\n",
    "- Puducherry and Kerala are the states where the number of women are more than the number of men.In 2011 Kerala and Puducherry had sex ratio of 1084 and 1037 respectively"
   ]
  },
  {
   "cell_type": "code",
   "execution_count": 101,
   "metadata": {},
   "outputs": [],
   "source": [
    "pop_dist_by_states_df_clean['Rural_pop_per'] = pop_dist_by_states_df_clean['Rural[52]'] / pop_dist_by_states_df_clean['Population[51]']\n",
    "\n",
    "pop_dist_by_states_df_clean['Urban_pop_per'] = pop_dist_by_states_df_clean['Urban[52]'] / pop_dist_by_states_df_clean['Population[51]']"
   ]
  },
  {
   "cell_type": "code",
   "execution_count": 102,
   "metadata": {},
   "outputs": [
    {
     "name": "stdout",
     "output_type": "stream",
     "text": [
      "Percentage of Population staying in Rural Areas in 2011:61.28%\n",
      "Percentage of Population staying in Urban Areas in 2011:38.03%\n"
     ]
    },
    {
     "data": {
      "application/vnd.plotly.v1+json": {
       "config": {
        "linkText": "Export to plot.ly",
        "plotlyServerURL": "https://plot.ly",
        "showLink": false
       },
       "data": [
        {
         "marker": {
          "color": "rgba(55, 128, 191, 0.7)",
          "line": {
           "color": "rgb(0,0,0)",
           "width": 1.5
          }
         },
         "name": "Rural_pop_per",
         "type": "bar",
         "uid": "c77f3fb4-f160-4245-9d08-a4043244fd59",
         "x": [
          "Himachal Pradesh",
          "Bihar",
          "Assam",
          "Odisha",
          "Meghalaya",
          "Uttar Pradesh",
          "Arunachal Pradesh",
          "Chhattisgarh",
          "Jharkhand",
          "Rajasthan",
          "Sikkim",
          "Tripura",
          "Jammu and Kashmir",
          "Madhya Pradesh",
          "Nagaland",
          "Andhra Pradesh",
          "Uttarakhand",
          "West Bengal",
          "Manipur",
          "Haryana",
          "Andaman and Nicobar Islands (UT)",
          "Punjab",
          "Karnataka",
          "Telangana",
          "Gujarat",
          "Maharashtra",
          "Dadra and Nagar Haveli (UT)",
          "Kerala",
          "Tamil Nadu",
          "Mizoram",
          "Goa",
          "Puducherry (UT)",
          "Daman and Diu (UT)",
          "Lakshadweep (UT)",
          "Delhi (UT)",
          "Chandigarh (UT)"
         ],
         "y": [
          0.8984941880097346,
          0.88449099616778,
          0.858196817132938,
          0.8326833867399269,
          0.7984697101913822,
          0.7762834929199893,
          0.77267047618497,
          0.7674106890852833,
          0.7589682399131761,
          0.751880542513318,
          0.7467723153672674,
          0.7376462233632387,
          0.7283789195093141,
          0.7233953924645099,
          0.7110738326269066,
          0.7041636571748657,
          0.6965476510099053,
          0.6815986416599786,
          0.6651824326264429,
          0.6520922935332093,
          0.6422049445453136,
          0.6241786766970867,
          0.6146549872734066,
          0.6133240465172763,
          0.5736431780625222,
          0.5476823697810068,
          0.5324969669109625,
          0.522225772143564,
          0.5154644480860819,
          0.48216743255140787,
          0.3780575847848369,
          0.31599026565904326,
          0.2480236138575193,
          0.2190219161509469,
          0.05627414344617961,
          0.027480221706381164
         ]
        },
        {
         "marker": {
          "color": "rgba(219, 64, 82, 0.7)",
          "line": {
           "color": "rgb(0,0,0)",
           "width": 1.5
          }
         },
         "name": "Urban_pop_per",
         "type": "bar",
         "uid": "e070f8ab-dd47-48f7-85eb-bf4282c8cfad",
         "x": [
          "Himachal Pradesh",
          "Bihar",
          "Assam",
          "Odisha",
          "Meghalaya",
          "Uttar Pradesh",
          "Arunachal Pradesh",
          "Chhattisgarh",
          "Jharkhand",
          "Rajasthan",
          "Sikkim",
          "Tripura",
          "Jammu and Kashmir",
          "Madhya Pradesh",
          "Nagaland",
          "Andhra Pradesh",
          "Uttarakhand",
          "West Bengal",
          "Manipur",
          "Haryana",
          "Andaman and Nicobar Islands (UT)",
          "Punjab",
          "Karnataka",
          "Telangana",
          "Gujarat",
          "Maharashtra",
          "Dadra and Nagar Haveli (UT)",
          "Kerala",
          "Tamil Nadu",
          "Mizoram",
          "Goa",
          "Puducherry (UT)",
          "Daman and Diu (UT)",
          "Lakshadweep (UT)",
          "Delhi (UT)",
          "Chandigarh (UT)"
         ],
         "y": [
          0.10032686527201432,
          0.11267695242046039,
          0.14064012149623517,
          0.16667669663315704,
          0.20055890193397866,
          0.22256110297011134,
          0.22652300634445957,
          0.2323935011190753,
          0.24036800626552565,
          0.24917819789238957,
          0.24849609467765738,
          0.2615685112102424,
          0.2722289918542748,
          0.2762019463088348,
          0.2899875764593617,
          0.2958363428251343,
          0.3064722893209913,
          0.31918602144712227,
          0.28788210914372675,
          0.347971568661405,
          0.35612129875112,
          0.37441190385958606,
          0.38592454996986103,
          0.38667595348272366,
          0.42542921959297875,
          0.45230551891240145,
          0.4650125542246493,
          0.47692456168358194,
          0.4844236692764761,
          0.5122073703570706,
          0.6213788398712415,
          0.6812139559743036,
          0.7505950741427438,
          0.7802956276270687,
          0.7687529995489024,
          0.9717959164337486
         ]
        }
       ],
       "layout": {
        "title": {
         "text": "Rural and Urban Population by States in 2011"
        },
        "yaxis": {
         "title": {
          "text": "Proportion"
         }
        }
       }
      },
      "text/html": [
       "<div id=\"5432f9de-5d16-490b-9d58-42b18b88f325\" style=\"height: 525px; width: 100%;\" class=\"plotly-graph-div\"></div><script type=\"text/javascript\">require([\"plotly\"], function(Plotly) { window.PLOTLYENV=window.PLOTLYENV || {};window.PLOTLYENV.BASE_URL=\"https://plot.ly\";Plotly.newPlot(\"5432f9de-5d16-490b-9d58-42b18b88f325\", [{\"marker\": {\"color\": \"rgba(55, 128, 191, 0.7)\", \"line\": {\"color\": \"rgb(0,0,0)\", \"width\": 1.5}}, \"name\": \"Rural_pop_per\", \"x\": [\"Himachal Pradesh\", \"Bihar\", \"Assam\", \"Odisha\", \"Meghalaya\", \"Uttar Pradesh\", \"Arunachal Pradesh\", \"Chhattisgarh\", \"Jharkhand\", \"Rajasthan\", \"Sikkim\", \"Tripura\", \"Jammu and Kashmir\", \"Madhya Pradesh\", \"Nagaland\", \"Andhra Pradesh\", \"Uttarakhand\", \"West Bengal\", \"Manipur\", \"Haryana\", \"Andaman and Nicobar Islands (UT)\", \"Punjab\", \"Karnataka\", \"Telangana\", \"Gujarat\", \"Maharashtra\", \"Dadra and Nagar Haveli (UT)\", \"Kerala\", \"Tamil Nadu\", \"Mizoram\", \"Goa\", \"Puducherry (UT)\", \"Daman and Diu (UT)\", \"Lakshadweep (UT)\", \"Delhi (UT)\", \"Chandigarh (UT)\"], \"y\": [0.8984941880097346, 0.88449099616778, 0.858196817132938, 0.8326833867399269, 0.7984697101913822, 0.7762834929199893, 0.77267047618497, 0.7674106890852833, 0.7589682399131761, 0.751880542513318, 0.7467723153672674, 0.7376462233632387, 0.7283789195093141, 0.7233953924645099, 0.7110738326269066, 0.7041636571748657, 0.6965476510099053, 0.6815986416599786, 0.6651824326264429, 0.6520922935332093, 0.6422049445453136, 0.6241786766970867, 0.6146549872734066, 0.6133240465172763, 0.5736431780625222, 0.5476823697810068, 0.5324969669109625, 0.522225772143564, 0.5154644480860819, 0.48216743255140787, 0.3780575847848369, 0.31599026565904326, 0.2480236138575193, 0.2190219161509469, 0.05627414344617961, 0.027480221706381164], \"type\": \"bar\", \"uid\": \"846714c3-55b5-463c-b657-224a9b5395a3\"}, {\"marker\": {\"color\": \"rgba(219, 64, 82, 0.7)\", \"line\": {\"color\": \"rgb(0,0,0)\", \"width\": 1.5}}, \"name\": \"Urban_pop_per\", \"x\": [\"Himachal Pradesh\", \"Bihar\", \"Assam\", \"Odisha\", \"Meghalaya\", \"Uttar Pradesh\", \"Arunachal Pradesh\", \"Chhattisgarh\", \"Jharkhand\", \"Rajasthan\", \"Sikkim\", \"Tripura\", \"Jammu and Kashmir\", \"Madhya Pradesh\", \"Nagaland\", \"Andhra Pradesh\", \"Uttarakhand\", \"West Bengal\", \"Manipur\", \"Haryana\", \"Andaman and Nicobar Islands (UT)\", \"Punjab\", \"Karnataka\", \"Telangana\", \"Gujarat\", \"Maharashtra\", \"Dadra and Nagar Haveli (UT)\", \"Kerala\", \"Tamil Nadu\", \"Mizoram\", \"Goa\", \"Puducherry (UT)\", \"Daman and Diu (UT)\", \"Lakshadweep (UT)\", \"Delhi (UT)\", \"Chandigarh (UT)\"], \"y\": [0.10032686527201432, 0.11267695242046039, 0.14064012149623517, 0.16667669663315704, 0.20055890193397866, 0.22256110297011134, 0.22652300634445957, 0.2323935011190753, 0.24036800626552565, 0.24917819789238957, 0.24849609467765738, 0.2615685112102424, 0.2722289918542748, 0.2762019463088348, 0.2899875764593617, 0.2958363428251343, 0.3064722893209913, 0.31918602144712227, 0.28788210914372675, 0.347971568661405, 0.35612129875112, 0.37441190385958606, 0.38592454996986103, 0.38667595348272366, 0.42542921959297875, 0.45230551891240145, 0.4650125542246493, 0.47692456168358194, 0.4844236692764761, 0.5122073703570706, 0.6213788398712415, 0.6812139559743036, 0.7505950741427438, 0.7802956276270687, 0.7687529995489024, 0.9717959164337486], \"type\": \"bar\", \"uid\": \"403833ad-d67b-4c32-8496-d1c7fd3fd381\"}], {\"title\": {\"text\": \"Rural and Urban Population by States in 2011\"}, \"yaxis\": {\"title\": {\"text\": \"Proportion\"}}}, {\"showLink\": false, \"linkText\": \"Export to plot.ly\", \"plotlyServerURL\": \"https://plot.ly\"})});</script><script type=\"text/javascript\">window.addEventListener(\"resize\", function(){window._Plotly.Plots.resize(document.getElementById(\"5432f9de-5d16-490b-9d58-42b18b88f325\"));});</script>"
      ],
      "text/vnd.plotly.v1+html": [
       "<div id=\"5432f9de-5d16-490b-9d58-42b18b88f325\" style=\"height: 525px; width: 100%;\" class=\"plotly-graph-div\"></div><script type=\"text/javascript\">require([\"plotly\"], function(Plotly) { window.PLOTLYENV=window.PLOTLYENV || {};window.PLOTLYENV.BASE_URL=\"https://plot.ly\";Plotly.newPlot(\"5432f9de-5d16-490b-9d58-42b18b88f325\", [{\"marker\": {\"color\": \"rgba(55, 128, 191, 0.7)\", \"line\": {\"color\": \"rgb(0,0,0)\", \"width\": 1.5}}, \"name\": \"Rural_pop_per\", \"x\": [\"Himachal Pradesh\", \"Bihar\", \"Assam\", \"Odisha\", \"Meghalaya\", \"Uttar Pradesh\", \"Arunachal Pradesh\", \"Chhattisgarh\", \"Jharkhand\", \"Rajasthan\", \"Sikkim\", \"Tripura\", \"Jammu and Kashmir\", \"Madhya Pradesh\", \"Nagaland\", \"Andhra Pradesh\", \"Uttarakhand\", \"West Bengal\", \"Manipur\", \"Haryana\", \"Andaman and Nicobar Islands (UT)\", \"Punjab\", \"Karnataka\", \"Telangana\", \"Gujarat\", \"Maharashtra\", \"Dadra and Nagar Haveli (UT)\", \"Kerala\", \"Tamil Nadu\", \"Mizoram\", \"Goa\", \"Puducherry (UT)\", \"Daman and Diu (UT)\", \"Lakshadweep (UT)\", \"Delhi (UT)\", \"Chandigarh (UT)\"], \"y\": [0.8984941880097346, 0.88449099616778, 0.858196817132938, 0.8326833867399269, 0.7984697101913822, 0.7762834929199893, 0.77267047618497, 0.7674106890852833, 0.7589682399131761, 0.751880542513318, 0.7467723153672674, 0.7376462233632387, 0.7283789195093141, 0.7233953924645099, 0.7110738326269066, 0.7041636571748657, 0.6965476510099053, 0.6815986416599786, 0.6651824326264429, 0.6520922935332093, 0.6422049445453136, 0.6241786766970867, 0.6146549872734066, 0.6133240465172763, 0.5736431780625222, 0.5476823697810068, 0.5324969669109625, 0.522225772143564, 0.5154644480860819, 0.48216743255140787, 0.3780575847848369, 0.31599026565904326, 0.2480236138575193, 0.2190219161509469, 0.05627414344617961, 0.027480221706381164], \"type\": \"bar\", \"uid\": \"846714c3-55b5-463c-b657-224a9b5395a3\"}, {\"marker\": {\"color\": \"rgba(219, 64, 82, 0.7)\", \"line\": {\"color\": \"rgb(0,0,0)\", \"width\": 1.5}}, \"name\": \"Urban_pop_per\", \"x\": [\"Himachal Pradesh\", \"Bihar\", \"Assam\", \"Odisha\", \"Meghalaya\", \"Uttar Pradesh\", \"Arunachal Pradesh\", \"Chhattisgarh\", \"Jharkhand\", \"Rajasthan\", \"Sikkim\", \"Tripura\", \"Jammu and Kashmir\", \"Madhya Pradesh\", \"Nagaland\", \"Andhra Pradesh\", \"Uttarakhand\", \"West Bengal\", \"Manipur\", \"Haryana\", \"Andaman and Nicobar Islands (UT)\", \"Punjab\", \"Karnataka\", \"Telangana\", \"Gujarat\", \"Maharashtra\", \"Dadra and Nagar Haveli (UT)\", \"Kerala\", \"Tamil Nadu\", \"Mizoram\", \"Goa\", \"Puducherry (UT)\", \"Daman and Diu (UT)\", \"Lakshadweep (UT)\", \"Delhi (UT)\", \"Chandigarh (UT)\"], \"y\": [0.10032686527201432, 0.11267695242046039, 0.14064012149623517, 0.16667669663315704, 0.20055890193397866, 0.22256110297011134, 0.22652300634445957, 0.2323935011190753, 0.24036800626552565, 0.24917819789238957, 0.24849609467765738, 0.2615685112102424, 0.2722289918542748, 0.2762019463088348, 0.2899875764593617, 0.2958363428251343, 0.3064722893209913, 0.31918602144712227, 0.28788210914372675, 0.347971568661405, 0.35612129875112, 0.37441190385958606, 0.38592454996986103, 0.38667595348272366, 0.42542921959297875, 0.45230551891240145, 0.4650125542246493, 0.47692456168358194, 0.4844236692764761, 0.5122073703570706, 0.6213788398712415, 0.6812139559743036, 0.7505950741427438, 0.7802956276270687, 0.7687529995489024, 0.9717959164337486], \"type\": \"bar\", \"uid\": \"403833ad-d67b-4c32-8496-d1c7fd3fd381\"}], {\"title\": {\"text\": \"Rural and Urban Population by States in 2011\"}, \"yaxis\": {\"title\": {\"text\": \"Proportion\"}}}, {\"showLink\": false, \"linkText\": \"Export to plot.ly\", \"plotlyServerURL\": \"https://plot.ly\"})});</script><script type=\"text/javascript\">window.addEventListener(\"resize\", function(){window._Plotly.Plots.resize(document.getElementById(\"5432f9de-5d16-490b-9d58-42b18b88f325\"));});</script>"
      ]
     },
     "metadata": {},
     "output_type": "display_data"
    }
   ],
   "source": [
    "pop_dist_by_states_df_clean.sort_values(by  = 'Rural_pop_per',ascending = False,inplace = True )\n",
    "print(f\"Percentage of Population staying in Rural Areas in 2011:{pop_dist_by_states_df_clean['Rural_pop_per'].mean()*100:.2f}%\")\n",
    "print(f\"Percentage of Population staying in Urban Areas in 2011:{pop_dist_by_states_df_clean['Urban_pop_per'].mean()*100:.2f}%\")\n",
    "\n",
    "traces = []\n",
    "col_list = ['Rural_pop_per','Urban_pop_per']\n",
    "color_list = ['rgba(55, 128, 191, 0.7)','rgba(219, 64, 82, 0.7)']\n",
    "for i in range(2):\n",
    "    trace = go.Bar(\n",
    "                   x  = pop_dist_by_states_df_clean['State/UT'],\n",
    "                   y  =  pop_dist_by_states_df_clean[col_list[i]],\n",
    "                   name = col_list[i],\n",
    "                   marker = dict(color = color_list[i],\n",
    "                              line=dict(color='rgb(0,0,0)',width=1.5)))\n",
    "    traces.append(trace)\n",
    "\n",
    "data = traces\n",
    "layout = dict(title = 'Rural and Urban Population by States in 2011',\n",
    "             yaxis = dict(title = 'Proportion'))\n",
    "fig = {'data':data,'layout':layout}\n",
    "iplot(fig)"
   ]
  },
  {
   "cell_type": "code",
   "execution_count": 103,
   "metadata": {},
   "outputs": [],
   "source": [
    "def change_dtype(df,col_list):\n",
    "    df[col_list] = df[col_list].astype(float)\n",
    "    \n",
    "    return df[col_list]"
   ]
  },
  {
   "cell_type": "code",
   "execution_count": 104,
   "metadata": {},
   "outputs": [],
   "source": [
    "col_list = ['Overall (%)', 'Male (%)','Female (%)']\n",
    "literacy_rate_df_clean[col_list] = change_dtype(literacy_rate_df_clean,col_list)"
   ]
  },
  {
   "cell_type": "code",
   "execution_count": 105,
   "metadata": {},
   "outputs": [
    {
     "name": "stdout",
     "output_type": "stream",
     "text": [
      "Average Literacy rate in India is: 79.1497%\n"
     ]
    },
    {
     "data": {
      "application/vnd.plotly.v1+json": {
       "config": {
        "linkText": "Export to plot.ly",
        "plotlyServerURL": "https://plot.ly",
        "showLink": false
       },
       "data": [
        {
         "marker": {
          "color": "rgba(55, 128, 191, 0.7)",
          "line": {
           "color": "rgb(0,0,0)",
           "width": 1.5
          }
         },
         "name": "Overall (%)",
         "type": "bar",
         "uid": "35390757-fc13-40f0-bcf5-f359cf398451",
         "x": [
          "Kerala",
          "Lakshadweep",
          "Mizoram",
          "Tripura",
          "Goa",
          "Daman and Diu",
          "Jammu and Kashmir",
          "Puducherry",
          "Chandigarh",
          "Delhi",
          "Andaman and Nicobar Islands",
          "Himachal Pradesh",
          "Maharashtra",
          "Sikkim",
          "Tamil Nadu"
         ],
         "y": [
          93.91,
          92.28,
          91.58,
          87.75,
          87.4,
          87.07,
          86.61,
          86.55,
          86.43,
          86.34,
          86.27,
          83.78,
          83.2,
          82.2,
          80.33
         ]
        },
        {
         "marker": {
          "color": "rgba(219, 64, 82, 0.7)",
          "line": {
           "color": "rgb(0,0,0)",
           "width": 1.5
          }
         },
         "name": "Male (%)",
         "type": "bar",
         "uid": "747ac3b4-8d05-4284-9c0f-80031a5df787",
         "x": [
          "Kerala",
          "Lakshadweep",
          "Mizoram",
          "Tripura",
          "Goa",
          "Daman and Diu",
          "Jammu and Kashmir",
          "Puducherry",
          "Chandigarh",
          "Delhi",
          "Andaman and Nicobar Islands",
          "Himachal Pradesh",
          "Maharashtra",
          "Sikkim",
          "Tamil Nadu"
         ],
         "y": [
          96.02,
          96.11,
          93.72,
          92.18,
          92.81,
          91.48,
          87.26,
          92.12,
          90.54,
          91.03,
          90.11,
          90.83,
          89.82,
          87.29,
          86.81
         ]
        },
        {
         "marker": {
          "color": "rgba(50, 171, 96, 0.7)",
          "line": {
           "color": "rgb(0,0,0)",
           "width": 1.5
          }
         },
         "name": "Female (%)",
         "type": "bar",
         "uid": "8d3322b3-c771-4eed-b443-fe77b4dec656",
         "x": [
          "Kerala",
          "Lakshadweep",
          "Mizoram",
          "Tripura",
          "Goa",
          "Daman and Diu",
          "Jammu and Kashmir",
          "Puducherry",
          "Chandigarh",
          "Delhi",
          "Andaman and Nicobar Islands",
          "Himachal Pradesh",
          "Maharashtra",
          "Sikkim",
          "Tamil Nadu"
         ],
         "y": [
          91.98,
          88.25,
          89.4,
          83.15,
          81.84,
          79.59,
          86.23,
          81.22,
          81.38,
          80.93,
          81.84,
          76.6,
          75.48,
          76.43,
          73.86
         ]
        }
       ],
       "layout": {
        "title": {
         "text": "Top 15 States in Literacy Rate"
        },
        "yaxis": {
         "title": {
          "text": "Literacy Rate"
         }
        }
       }
      },
      "text/html": [
       "<div id=\"1a71214d-8edf-4e88-b5ed-28f165115950\" style=\"height: 525px; width: 100%;\" class=\"plotly-graph-div\"></div><script type=\"text/javascript\">require([\"plotly\"], function(Plotly) { window.PLOTLYENV=window.PLOTLYENV || {};window.PLOTLYENV.BASE_URL=\"https://plot.ly\";Plotly.newPlot(\"1a71214d-8edf-4e88-b5ed-28f165115950\", [{\"marker\": {\"color\": \"rgba(55, 128, 191, 0.7)\", \"line\": {\"color\": \"rgb(0,0,0)\", \"width\": 1.5}}, \"name\": \"Overall (%)\", \"x\": [\"Kerala\", \"Lakshadweep\", \"Mizoram\", \"Tripura\", \"Goa\", \"Daman and Diu\", \"Jammu and Kashmir\", \"Puducherry\", \"Chandigarh\", \"Delhi\", \"Andaman and Nicobar Islands\", \"Himachal Pradesh\", \"Maharashtra\", \"Sikkim\", \"Tamil Nadu\"], \"y\": [93.91, 92.28, 91.58, 87.75, 87.4, 87.07, 86.61, 86.55, 86.43, 86.34, 86.27, 83.78, 83.2, 82.2, 80.33], \"type\": \"bar\", \"uid\": \"45d89014-f72c-42ac-b5ac-37092f369803\"}, {\"marker\": {\"color\": \"rgba(219, 64, 82, 0.7)\", \"line\": {\"color\": \"rgb(0,0,0)\", \"width\": 1.5}}, \"name\": \"Male (%)\", \"x\": [\"Kerala\", \"Lakshadweep\", \"Mizoram\", \"Tripura\", \"Goa\", \"Daman and Diu\", \"Jammu and Kashmir\", \"Puducherry\", \"Chandigarh\", \"Delhi\", \"Andaman and Nicobar Islands\", \"Himachal Pradesh\", \"Maharashtra\", \"Sikkim\", \"Tamil Nadu\"], \"y\": [96.02, 96.11, 93.72, 92.18, 92.81, 91.48, 87.26, 92.12, 90.54, 91.03, 90.11, 90.83, 89.82, 87.29, 86.81], \"type\": \"bar\", \"uid\": \"4535fdab-b9f6-46da-9d19-990357367202\"}, {\"marker\": {\"color\": \"rgba(50, 171, 96, 0.7)\", \"line\": {\"color\": \"rgb(0,0,0)\", \"width\": 1.5}}, \"name\": \"Female (%)\", \"x\": [\"Kerala\", \"Lakshadweep\", \"Mizoram\", \"Tripura\", \"Goa\", \"Daman and Diu\", \"Jammu and Kashmir\", \"Puducherry\", \"Chandigarh\", \"Delhi\", \"Andaman and Nicobar Islands\", \"Himachal Pradesh\", \"Maharashtra\", \"Sikkim\", \"Tamil Nadu\"], \"y\": [91.98, 88.25, 89.4, 83.15, 81.84, 79.59, 86.23, 81.22, 81.38, 80.93, 81.84, 76.6, 75.48, 76.43, 73.86], \"type\": \"bar\", \"uid\": \"c5f522a2-e06e-4a77-9088-f2f9327a5e05\"}], {\"title\": {\"text\": \"Top 15 States in Literacy Rate\"}, \"yaxis\": {\"title\": {\"text\": \"Literacy Rate\"}}}, {\"showLink\": false, \"linkText\": \"Export to plot.ly\", \"plotlyServerURL\": \"https://plot.ly\"})});</script><script type=\"text/javascript\">window.addEventListener(\"resize\", function(){window._Plotly.Plots.resize(document.getElementById(\"1a71214d-8edf-4e88-b5ed-28f165115950\"));});</script>"
      ],
      "text/vnd.plotly.v1+html": [
       "<div id=\"1a71214d-8edf-4e88-b5ed-28f165115950\" style=\"height: 525px; width: 100%;\" class=\"plotly-graph-div\"></div><script type=\"text/javascript\">require([\"plotly\"], function(Plotly) { window.PLOTLYENV=window.PLOTLYENV || {};window.PLOTLYENV.BASE_URL=\"https://plot.ly\";Plotly.newPlot(\"1a71214d-8edf-4e88-b5ed-28f165115950\", [{\"marker\": {\"color\": \"rgba(55, 128, 191, 0.7)\", \"line\": {\"color\": \"rgb(0,0,0)\", \"width\": 1.5}}, \"name\": \"Overall (%)\", \"x\": [\"Kerala\", \"Lakshadweep\", \"Mizoram\", \"Tripura\", \"Goa\", \"Daman and Diu\", \"Jammu and Kashmir\", \"Puducherry\", \"Chandigarh\", \"Delhi\", \"Andaman and Nicobar Islands\", \"Himachal Pradesh\", \"Maharashtra\", \"Sikkim\", \"Tamil Nadu\"], \"y\": [93.91, 92.28, 91.58, 87.75, 87.4, 87.07, 86.61, 86.55, 86.43, 86.34, 86.27, 83.78, 83.2, 82.2, 80.33], \"type\": \"bar\", \"uid\": \"45d89014-f72c-42ac-b5ac-37092f369803\"}, {\"marker\": {\"color\": \"rgba(219, 64, 82, 0.7)\", \"line\": {\"color\": \"rgb(0,0,0)\", \"width\": 1.5}}, \"name\": \"Male (%)\", \"x\": [\"Kerala\", \"Lakshadweep\", \"Mizoram\", \"Tripura\", \"Goa\", \"Daman and Diu\", \"Jammu and Kashmir\", \"Puducherry\", \"Chandigarh\", \"Delhi\", \"Andaman and Nicobar Islands\", \"Himachal Pradesh\", \"Maharashtra\", \"Sikkim\", \"Tamil Nadu\"], \"y\": [96.02, 96.11, 93.72, 92.18, 92.81, 91.48, 87.26, 92.12, 90.54, 91.03, 90.11, 90.83, 89.82, 87.29, 86.81], \"type\": \"bar\", \"uid\": \"4535fdab-b9f6-46da-9d19-990357367202\"}, {\"marker\": {\"color\": \"rgba(50, 171, 96, 0.7)\", \"line\": {\"color\": \"rgb(0,0,0)\", \"width\": 1.5}}, \"name\": \"Female (%)\", \"x\": [\"Kerala\", \"Lakshadweep\", \"Mizoram\", \"Tripura\", \"Goa\", \"Daman and Diu\", \"Jammu and Kashmir\", \"Puducherry\", \"Chandigarh\", \"Delhi\", \"Andaman and Nicobar Islands\", \"Himachal Pradesh\", \"Maharashtra\", \"Sikkim\", \"Tamil Nadu\"], \"y\": [91.98, 88.25, 89.4, 83.15, 81.84, 79.59, 86.23, 81.22, 81.38, 80.93, 81.84, 76.6, 75.48, 76.43, 73.86], \"type\": \"bar\", \"uid\": \"c5f522a2-e06e-4a77-9088-f2f9327a5e05\"}], {\"title\": {\"text\": \"Top 15 States in Literacy Rate\"}, \"yaxis\": {\"title\": {\"text\": \"Literacy Rate\"}}}, {\"showLink\": false, \"linkText\": \"Export to plot.ly\", \"plotlyServerURL\": \"https://plot.ly\"})});</script><script type=\"text/javascript\">window.addEventListener(\"resize\", function(){window._Plotly.Plots.resize(document.getElementById(\"1a71214d-8edf-4e88-b5ed-28f165115950\"));});</script>"
      ]
     },
     "metadata": {},
     "output_type": "display_data"
    }
   ],
   "source": [
    "literacy_rate_df_clean.sort_values(by = 'Overall (%)',ascending = False,inplace = True)\n",
    "print(f\"Average Literacy rate in India is:{literacy_rate_df_clean['Overall (%)'].mean(): .4f}%\")\n",
    "\n",
    "traces = []\n",
    "col_list = literacy_rate_df_clean.columns\n",
    "color_list = [0,1,'rgba(55, 128, 191, 0.7)','rgba(219, 64, 82, 0.7)','rgba(50, 171, 96, 0.7)']\n",
    "for i in range(2,5):\n",
    "    trace = go.Bar(\n",
    "                   x  = literacy_rate_df_clean.iloc[:15,1],\n",
    "                   y = literacy_rate_df_clean.iloc[:15,i],\n",
    "                   name = col_list[i],\n",
    "                   marker = dict(\n",
    "                               color = color_list[i],\n",
    "                              line=dict(color='rgb(0,0,0)',width=1.5)))\n",
    "    traces.append(trace)\n",
    "\n",
    "\n",
    "data = traces\n",
    "layout = dict(title = 'Top 15 States in Literacy Rate',\n",
    "                 yaxis = dict(title = 'Literacy Rate'))\n",
    "\n",
    "fig = {'data':data,'layout' :layout}\n",
    "iplot(fig)\n"
   ]
  },
  {
   "cell_type": "markdown",
   "metadata": {},
   "source": [
    "Kerala has the highest literacy rate at the 2011 Census.\n",
    "\n",
    "Overall - 93.91%\n",
    "\n",
    "Male - 96.02\n",
    "\n",
    "Female - 91.98%"
   ]
  },
  {
   "cell_type": "code",
   "execution_count": 106,
   "metadata": {},
   "outputs": [
    {
     "name": "stdout",
     "output_type": "stream",
     "text": [
      "State with Lowest Litearcy Rate:\n"
     ]
    },
    {
     "data": {
      "text/html": [
       "<div>\n",
       "<style scoped>\n",
       "    .dataframe tbody tr th:only-of-type {\n",
       "        vertical-align: middle;\n",
       "    }\n",
       "\n",
       "    .dataframe tbody tr th {\n",
       "        vertical-align: top;\n",
       "    }\n",
       "\n",
       "    .dataframe thead th {\n",
       "        text-align: right;\n",
       "    }\n",
       "</style>\n",
       "<table border=\"1\" class=\"dataframe\">\n",
       "  <thead>\n",
       "    <tr style=\"text-align: right;\">\n",
       "      <th></th>\n",
       "      <th>State or UT</th>\n",
       "      <th>Overall (%)</th>\n",
       "    </tr>\n",
       "  </thead>\n",
       "  <tbody>\n",
       "    <tr>\n",
       "      <th>9</th>\n",
       "      <td>Bihar</td>\n",
       "      <td>63.82</td>\n",
       "    </tr>\n",
       "  </tbody>\n",
       "</table>\n",
       "</div>"
      ],
      "text/plain": [
       "  State or UT  Overall (%)\n",
       "9       Bihar        63.82"
      ]
     },
     "execution_count": 106,
     "metadata": {},
     "output_type": "execute_result"
    }
   ],
   "source": [
    "print(\"State with Lowest Litearcy Rate:\")\n",
    "literacy_rate_df_clean.loc[:,['State or UT','Overall (%)']].tail(1)"
   ]
  },
  {
   "cell_type": "code",
   "execution_count": 107,
   "metadata": {},
   "outputs": [
    {
     "data": {
      "text/html": [
       "<div>\n",
       "<style scoped>\n",
       "    .dataframe tbody tr th:only-of-type {\n",
       "        vertical-align: middle;\n",
       "    }\n",
       "\n",
       "    .dataframe tbody tr th {\n",
       "        vertical-align: top;\n",
       "    }\n",
       "\n",
       "    .dataframe thead th {\n",
       "        text-align: right;\n",
       "    }\n",
       "</style>\n",
       "<table border=\"1\" class=\"dataframe\">\n",
       "  <thead>\n",
       "    <tr style=\"text-align: right;\">\n",
       "      <th></th>\n",
       "      <th>Year</th>\n",
       "      <th>Average population(x 1000)</th>\n",
       "      <th>Live births1</th>\n",
       "      <th>Deaths1</th>\n",
       "      <th>Natural change</th>\n",
       "      <th>Crude birth rate(per 1000)</th>\n",
       "      <th>Crude death rate(per 1000)</th>\n",
       "      <th>Natural change(per 1000)</th>\n",
       "      <th>Total fertility rate</th>\n",
       "    </tr>\n",
       "  </thead>\n",
       "  <tbody>\n",
       "    <tr>\n",
       "      <th>0</th>\n",
       "      <td>1981</td>\n",
       "      <td>716493</td>\n",
       "      <td>24289000</td>\n",
       "      <td>8956000</td>\n",
       "      <td>15333000</td>\n",
       "      <td>33.9</td>\n",
       "      <td>12.5</td>\n",
       "      <td>21.4</td>\n",
       "      <td>NaN</td>\n",
       "    </tr>\n",
       "    <tr>\n",
       "      <th>1</th>\n",
       "      <td>1982</td>\n",
       "      <td>733152</td>\n",
       "      <td>24781000</td>\n",
       "      <td>8725000</td>\n",
       "      <td>16056000</td>\n",
       "      <td>33.8</td>\n",
       "      <td>11.9</td>\n",
       "      <td>21.9</td>\n",
       "      <td>NaN</td>\n",
       "    </tr>\n",
       "    <tr>\n",
       "      <th>2</th>\n",
       "      <td>1983</td>\n",
       "      <td>750034</td>\n",
       "      <td>25276000</td>\n",
       "      <td>8925000</td>\n",
       "      <td>16351000</td>\n",
       "      <td>33.7</td>\n",
       "      <td>11.9</td>\n",
       "      <td>21.8</td>\n",
       "      <td>NaN</td>\n",
       "    </tr>\n",
       "    <tr>\n",
       "      <th>3</th>\n",
       "      <td>1984</td>\n",
       "      <td>767147</td>\n",
       "      <td>26006000</td>\n",
       "      <td>9666000</td>\n",
       "      <td>16340000</td>\n",
       "      <td>33.9</td>\n",
       "      <td>12.6</td>\n",
       "      <td>21.3</td>\n",
       "      <td>NaN</td>\n",
       "    </tr>\n",
       "    <tr>\n",
       "      <th>4</th>\n",
       "      <td>1985</td>\n",
       "      <td>784491</td>\n",
       "      <td>25810000</td>\n",
       "      <td>9257000</td>\n",
       "      <td>16553000</td>\n",
       "      <td>32.9</td>\n",
       "      <td>11.8</td>\n",
       "      <td>21.1</td>\n",
       "      <td>NaN</td>\n",
       "    </tr>\n",
       "  </tbody>\n",
       "</table>\n",
       "</div>"
      ],
      "text/plain": [
       "   Year  Average population(x 1000)  Live births1  Deaths1  Natural change  \\\n",
       "0  1981                      716493      24289000  8956000        15333000   \n",
       "1  1982                      733152      24781000  8725000        16056000   \n",
       "2  1983                      750034      25276000  8925000        16351000   \n",
       "3  1984                      767147      26006000  9666000        16340000   \n",
       "4  1985                      784491      25810000  9257000        16553000   \n",
       "\n",
       "   Crude birth rate(per 1000)  Crude death rate(per 1000)  \\\n",
       "0                        33.9                        12.5   \n",
       "1                        33.8                        11.9   \n",
       "2                        33.7                        11.9   \n",
       "3                        33.9                        12.6   \n",
       "4                        32.9                        11.8   \n",
       "\n",
       "   Natural change(per 1000)  Total fertility rate  \n",
       "0                      21.4                   NaN  \n",
       "1                      21.9                   NaN  \n",
       "2                      21.8                   NaN  \n",
       "3                      21.3                   NaN  \n",
       "4                      21.1                   NaN  "
      ]
     },
     "execution_count": 107,
     "metadata": {},
     "output_type": "execute_result"
    }
   ],
   "source": [
    "col_list = ['Crude birth rate(per 1000)', 'Crude death rate(per 1000)','Natural change(per 1000)','Total fertility rate']\n",
    "census_df_clean[col_list] = change_dtype(census_df_clean,col_list)\n",
    "\n",
    "census_df_clean.head()"
   ]
  }
 ],
 "metadata": {
  "kernelspec": {
   "display_name": "Python 3",
   "language": "python",
   "name": "python3"
  },
  "language_info": {
   "codemirror_mode": {
    "name": "ipython",
    "version": 3
   },
   "file_extension": ".py",
   "mimetype": "text/x-python",
   "name": "python",
   "nbconvert_exporter": "python",
   "pygments_lexer": "ipython3",
   "version": "3.7.0"
  }
 },
 "nbformat": 4,
 "nbformat_minor": 2
}
