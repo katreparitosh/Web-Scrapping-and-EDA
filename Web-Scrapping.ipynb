{
 "cells": [
  {
   "cell_type": "code",
   "execution_count": 140,
   "metadata": {},
   "outputs": [
    {
     "data": {
      "text/html": [
       "<script type=\"text/javascript\">window.PlotlyConfig = {MathJaxConfig: 'local'};</script><script type=\"text/javascript\">if (window.MathJax) {MathJax.Hub.Config({SVG: {font: \"STIX-Web\"}});}</script><script>requirejs.config({paths: { 'plotly': ['https://cdn.plot.ly/plotly-latest.min']},});if(!window._Plotly) {require(['plotly'],function(plotly) {window._Plotly=plotly;});}</script>"
      ],
      "text/vnd.plotly.v1+html": [
       "<script type=\"text/javascript\">window.PlotlyConfig = {MathJaxConfig: 'local'};</script><script type=\"text/javascript\">if (window.MathJax) {MathJax.Hub.Config({SVG: {font: \"STIX-Web\"}});}</script><script>requirejs.config({paths: { 'plotly': ['https://cdn.plot.ly/plotly-latest.min']},});if(!window._Plotly) {require(['plotly'],function(plotly) {window._Plotly=plotly;});}</script>"
      ]
     },
     "metadata": {},
     "output_type": "display_data"
    }
   ],
   "source": [
    "# import necessary libraries\n",
    "import pandas as pd\n",
    "import numpy as np\n",
    "% matplotlib inline\n",
    "from matplotlib import pyplot as plt\n",
    "import seaborn as sns\n",
    "import requests\n",
    "from bs4 import BeautifulSoup  \n",
    "import plotly.plotly as py\n",
    "from plotly.offline import init_notebook_mode, iplot\n",
    "init_notebook_mode(connected = True)\n",
    "import plotly.graph_objs as go\n",
    "from plotly import tools"
   ]
  },
  {
   "cell_type": "markdown",
   "metadata": {},
   "source": [
    "## DATA GATHERING"
   ]
  },
  {
   "cell_type": "code",
   "execution_count": 141,
   "metadata": {},
   "outputs": [
    {
     "data": {
      "text/plain": [
       "<Response [200]>"
      ]
     },
     "execution_count": 141,
     "metadata": {},
     "output_type": "execute_result"
    }
   ],
   "source": [
    "url = 'https://en.wikipedia.org/wiki/Demographics_of_India'\n",
    "response = requests.get(url)\n",
    "response"
   ]
  },
  {
   "cell_type": "code",
   "execution_count": 142,
   "metadata": {},
   "outputs": [],
   "source": [
    "#create beautifulsoup\n",
    "soup = BeautifulSoup(response.content, 'lxml')"
   ]
  },
  {
   "cell_type": "code",
   "execution_count": 143,
   "metadata": {},
   "outputs": [
    {
     "name": "stdout",
     "output_type": "stream",
     "text": [
      "Number of tables : 18\n"
     ]
    }
   ],
   "source": [
    "# get all tables data - id starts from 0.\n",
    "\n",
    "all_tables = soup.find_all('table', class_ = 'wikitable sortable')\n",
    "print(f\"Number of tables : {len(all_tables)}\")"
   ]
  },
  {
   "cell_type": "code",
   "execution_count": 144,
   "metadata": {},
   "outputs": [
    {
     "data": {
      "text/plain": [
       "<table class=\"wikitable sortable\" style=\"text-align:right\">\n",
       "<tbody><tr>\n",
       "<th>Years</th>\n",
       "<th>1880</th>\n",
       "<th>1881</th>\n",
       "<th>1882</th>\n",
       "<th>1883</th>\n",
       "<th>1884</th>\n",
       "<th>1885</th>\n",
       "<th>1886</th>\n",
       "<th>1887</th>\n",
       "<th>1888</th>\n",
       "<th>1889</th>\n",
       "<th>1890</th>\n",
       "<th>1902<sup class=\"reference\" id=\"cite_ref-ourworldindata.org_33-1\"><a href=\"#cite_note-ourworldindata.org-33\">[33]</a></sup>\n",
       "</th></tr>\n",
       "<tr>\n",
       "<td align=\"left\">Total Fertility Rate in India</td>\n",
       "<td style=\"text-align:right; color:blue;\">5.95</td>\n",
       "<td style=\"text-align:right; color:blue;\">5.92</td>\n",
       "<td style=\"text-align:right; color:blue;\">5.89</td>\n",
       "<td style=\"text-align:right; color:blue;\">5.86</td>\n",
       "<td style=\"text-align:right; color:blue;\">5.82</td>\n",
       "<td style=\"text-align:right; color:blue;\">5.79</td>\n",
       "<td style=\"text-align:right; color:blue;\">4.38</td>\n",
       "<td style=\"text-align:right; color:blue;\">5.76</td>\n",
       "<td style=\"text-align:right; color:blue;\">5.76</td>\n",
       "<td style=\"text-align:right; color:blue;\">5.75</td>\n",
       "<td style=\"text-align:right; color:blue;\">5.75</td>\n",
       "<td style=\"text-align:right; color:blue;\">5.75\n",
       "</td></tr></tbody></table>"
      ]
     },
     "execution_count": 144,
     "metadata": {},
     "output_type": "execute_result"
    }
   ],
   "source": [
    "all_tables[0]"
   ]
  },
  {
   "cell_type": "code",
   "execution_count": null,
   "metadata": {},
   "outputs": [],
   "source": []
  },
  {
   "cell_type": "markdown",
   "metadata": {},
   "source": [
    "#### FUNCTION -\n",
    "*get_data* function returns a list with only text.\n"
   ]
  },
  {
   "cell_type": "code",
   "execution_count": 145,
   "metadata": {
    "scrolled": true
   },
   "outputs": [],
   "source": [
    "def get_data(all_data):\n",
    "    df_list = []\n",
    "    for data in all_data:\n",
    "        df_list.append(data.text.strip())\n",
    "    return df_list"
   ]
  },
  {
   "cell_type": "code",
   "execution_count": 146,
   "metadata": {},
   "outputs": [
    {
     "data": {
      "text/plain": [
       "'113'"
      ]
     },
     "execution_count": 146,
     "metadata": {},
     "output_type": "execute_result"
    }
   ],
   "source": [
    "'121121341'[0::3]"
   ]
  },
  {
   "cell_type": "markdown",
   "metadata": {},
   "source": [
    "#### FUNCTION - \n",
    "*get_dataframe* function collects soup for **individual table.**\n",
    "It gathers data under `td` then creates a list for each column in respective table.\n",
    "\n",
    "To create dataframe we need *dictionary* structure, therefore create a dictionary *df_dict* which takes i in every column.\n",
    "\n",
    "`sample` : it contains the table number returned by all_tables.\n",
    "\n",
    "`num`    : it contains number of columns the table has, inspecting the page."
   ]
  },
  {
   "cell_type": "code",
   "execution_count": 147,
   "metadata": {},
   "outputs": [],
   "source": [
    "def get_dataframe(sample,num):\n",
    "    all_data = sample.find_all('td')\n",
    "    df_list = []\n",
    "    for i in range(num):\n",
    "        df_list.append(all_data[i::num])\n",
    "        \n",
    "    df_dict = {i:[] for i in range(num)}\n",
    "    for i in range(len(df_dict)):\n",
    "        data = get_data(df_list[i])\n",
    "        df_dict[i] = data\n",
    "    title = collect_col_names(sample)\n",
    "    return df_dict,title"
   ]
  },
  {
   "cell_type": "code",
   "execution_count": 148,
   "metadata": {},
   "outputs": [],
   "source": [
    "# collect_col_names function collectes column name of each table\n",
    "def collect_col_names(sample):\n",
    "    all_data = sample.find_all('th')\n",
    "    col_title=  [] \n",
    "    for header in all_data:\n",
    "        col_title.append(header.text.strip())\n",
    "    return col_title"
   ]
  },
  {
   "cell_type": "code",
   "execution_count": 149,
   "metadata": {},
   "outputs": [],
   "source": [
    "pop_under_british_dict,pop_under_british_cols = get_dataframe(all_tables[2],3)\n",
    "\n",
    "pop_per_decade_dict,pop_per_decade_cols = get_dataframe(all_tables[3],3)\n",
    "\n",
    "pop_dist_by_states_dict,pop_dist_by_states_cols = get_dataframe(all_tables[4],12)\n",
    "\n",
    "pop_bet_age_0_6_dict,pop_bet_age_0_6_cols = get_dataframe(all_tables[7],6)\n",
    "\n",
    "pop_abv_7_dict,pop_abv_7_cols = get_dataframe(all_tables[8],5)\n",
    "\n",
    "literacy_rate_dict,literacy_rate_cols = get_dataframe(all_tables[9],5)\n",
    "\n",
    "native_speakers_dict,native_speakers_cols = get_dataframe(all_tables[10],4)\n",
    "\n",
    "un_stat_dict,un_stat_cols = get_dataframe(all_tables[11],9)\n",
    "\n",
    "census_dict,census_cols = get_dataframe(all_tables[12],9)\n",
    "\n",
    "pop_struc_dict,pop_struc_cols = get_dataframe(all_tables[13],5)\n",
    "\n",
    "pop_struc_2016_dict,pop_struc_2016_cols = get_dataframe(all_tables[14],4)\n",
    "\n",
    "fertility_rate_dict,fertility_rate_cols = get_dataframe(all_tables[15],7)\n",
    "\n",
    "crude_birth_rate_dict,crude_birth_rate_cols = get_dataframe(all_tables[16],7)\n",
    "\n",
    "regional_stats_dict,regional_stats_cols = get_dataframe(all_tables[17],13)"
   ]
  },
  {
   "cell_type": "code",
   "execution_count": 150,
   "metadata": {},
   "outputs": [
    {
     "data": {
      "text/plain": [
       "{0: ['1871[35]',\n",
       "  '1881[36]',\n",
       "  '1891[35]',\n",
       "  '1901[35]',\n",
       "  '1911[37]',\n",
       "  '1921[37]',\n",
       "  '1931[37]',\n",
       "  '1941[37]'],\n",
       " 1: ['238,830,958',\n",
       "  '253,896,330',\n",
       "  '287,223,431',\n",
       "  '293,550,310',\n",
       "  '315,156,396',\n",
       "  '318,942,480',\n",
       "  '352,837,778',\n",
       "  '388,997,955'],\n",
       " 2: ['–', '6.3', '13.1', '2.2', '7.4', '1.2', '10.6', '10.2']}"
      ]
     },
     "execution_count": 150,
     "metadata": {},
     "output_type": "execute_result"
    }
   ],
   "source": [
    "pop_under_british_dict"
   ]
  },
  {
   "cell_type": "code",
   "execution_count": 151,
   "metadata": {},
   "outputs": [
    {
     "data": {
      "text/plain": [
       "['Census year', 'Population', 'Growth (%)']"
      ]
     },
     "execution_count": 151,
     "metadata": {},
     "output_type": "execute_result"
    }
   ],
   "source": [
    "pop_under_british_cols"
   ]
  },
  {
   "cell_type": "code",
   "execution_count": 152,
   "metadata": {},
   "outputs": [
    {
     "data": {
      "text/html": [
       "<div>\n",
       "<style scoped>\n",
       "    .dataframe tbody tr th:only-of-type {\n",
       "        vertical-align: middle;\n",
       "    }\n",
       "\n",
       "    .dataframe tbody tr th {\n",
       "        vertical-align: top;\n",
       "    }\n",
       "\n",
       "    .dataframe thead th {\n",
       "        text-align: right;\n",
       "    }\n",
       "</style>\n",
       "<table border=\"1\" class=\"dataframe\">\n",
       "  <thead>\n",
       "    <tr style=\"text-align: right;\">\n",
       "      <th></th>\n",
       "      <th>city</th>\n",
       "      <th>state</th>\n",
       "      <th>population</th>\n",
       "    </tr>\n",
       "  </thead>\n",
       "  <tbody>\n",
       "    <tr>\n",
       "      <th>0</th>\n",
       "      <td>Mumbai</td>\n",
       "      <td>Maharashtra</td>\n",
       "      <td>12,478,447</td>\n",
       "    </tr>\n",
       "    <tr>\n",
       "      <th>1</th>\n",
       "      <td>Kanpur</td>\n",
       "      <td>Uttar Pradesh</td>\n",
       "      <td>2,920,067</td>\n",
       "    </tr>\n",
       "    <tr>\n",
       "      <th>2</th>\n",
       "      <td>Delhi</td>\n",
       "      <td>Delhi</td>\n",
       "      <td>11,007,835</td>\n",
       "    </tr>\n",
       "    <tr>\n",
       "      <th>3</th>\n",
       "      <td>Lucknow</td>\n",
       "      <td>Uttar Pradesh</td>\n",
       "      <td>2,901,474</td>\n",
       "    </tr>\n",
       "    <tr>\n",
       "      <th>4</th>\n",
       "      <td>Bangalore</td>\n",
       "      <td>Karnataka</td>\n",
       "      <td>8,425,970</td>\n",
       "    </tr>\n",
       "  </tbody>\n",
       "</table>\n",
       "</div>"
      ],
      "text/plain": [
       "        city          state  population\n",
       "0     Mumbai    Maharashtra  12,478,447\n",
       "1     Kanpur  Uttar Pradesh   2,920,067\n",
       "2      Delhi          Delhi  11,007,835\n",
       "3    Lucknow  Uttar Pradesh   2,901,474\n",
       "4  Bangalore      Karnataka   8,425,970"
      ]
     },
     "execution_count": 152,
     "metadata": {},
     "output_type": "execute_result"
    }
   ],
   "source": [
    "lc = soup.find_all('table', class_ = 'navbox')[0].find_all('td')[1:]\n",
    "largest_cities = []\n",
    "for i in lc:\n",
    "    largest_cities.append(i.text.strip())\n",
    "\n",
    "index = largest_cities.index('BangaloreHyderabad')\n",
    "\n",
    "del largest_cities[index]\n",
    "\n",
    "df_dict = {}\n",
    "for i in range(1,4):\n",
    "    df_dict[i] = largest_cities[i::4]\n",
    "\n",
    "    \n",
    "largest_cities_df = pd.DataFrame(df_dict)\n",
    "largest_cities_df.columns = ['city','state','population']\n",
    "largest_cities_df.head()"
   ]
  },
  {
   "cell_type": "code",
   "execution_count": 153,
   "metadata": {},
   "outputs": [
    {
     "data": {
      "text/html": [
       "<div>\n",
       "<style scoped>\n",
       "    .dataframe tbody tr th:only-of-type {\n",
       "        vertical-align: middle;\n",
       "    }\n",
       "\n",
       "    .dataframe tbody tr th {\n",
       "        vertical-align: top;\n",
       "    }\n",
       "\n",
       "    .dataframe thead th {\n",
       "        text-align: right;\n",
       "    }\n",
       "</style>\n",
       "<table border=\"1\" class=\"dataframe\">\n",
       "  <thead>\n",
       "    <tr style=\"text-align: right;\">\n",
       "      <th></th>\n",
       "      <th>period</th>\n",
       "      <th>life_expec_in_years</th>\n",
       "    </tr>\n",
       "  </thead>\n",
       "  <tbody>\n",
       "    <tr>\n",
       "      <th>0</th>\n",
       "      <td>1950–1955</td>\n",
       "      <td>36.6</td>\n",
       "    </tr>\n",
       "    <tr>\n",
       "      <th>1</th>\n",
       "      <td>1985–1990</td>\n",
       "      <td>56.7</td>\n",
       "    </tr>\n",
       "    <tr>\n",
       "      <th>2</th>\n",
       "      <td>1955–1960</td>\n",
       "      <td>39.7</td>\n",
       "    </tr>\n",
       "    <tr>\n",
       "      <th>3</th>\n",
       "      <td>1990–1995</td>\n",
       "      <td>59.1</td>\n",
       "    </tr>\n",
       "    <tr>\n",
       "      <th>4</th>\n",
       "      <td>1960–1965</td>\n",
       "      <td>42.7</td>\n",
       "    </tr>\n",
       "  </tbody>\n",
       "</table>\n",
       "</div>"
      ],
      "text/plain": [
       "      period life_expec_in_years\n",
       "0  1950–1955                36.6\n",
       "1  1985–1990                56.7\n",
       "2  1955–1960                39.7\n",
       "3  1990–1995                59.1\n",
       "4  1960–1965                42.7"
      ]
     },
     "execution_count": 153,
     "metadata": {},
     "output_type": "execute_result"
    }
   ],
   "source": [
    "life_expec = soup.find_all('table',class_ = 'wikitable')[18]\n",
    "life_dict = {i:[] for i in range(2)}\n",
    "life_dict\n",
    "\n",
    "life_expectaion = []\n",
    "for i in range(0,2):\n",
    "    life_expectaion.append(life_expec.find_all('td')[i::2])\n",
    "    \n",
    "for i in range(len(life_dict)):\n",
    "    data = get_data(life_expectaion[i])\n",
    "    life_dict[i] = data\n",
    "    \n",
    "life_expe_df = pd.DataFrame(life_dict)\n",
    "life_expe_df.columns = ['period','life_expec_in_years']\n",
    "life_expe_df.head()"
   ]
  },
  {
   "cell_type": "markdown",
   "metadata": {},
   "source": [
    "## DATA CLEANING"
   ]
  },
  {
   "cell_type": "markdown",
   "metadata": {},
   "source": [
    "*create_dataframe* function return a dataframe by a taking dictionary and column names. "
   ]
  },
  {
   "cell_type": "code",
   "execution_count": 154,
   "metadata": {},
   "outputs": [],
   "source": [
    "def create_dataframe(df,cols):\n",
    "    df=pd.DataFrame(df)\n",
    "    df.columns = cols\n",
    "    return df"
   ]
  },
  {
   "cell_type": "markdown",
   "metadata": {},
   "source": [
    "### Dataframe has population and growth % under british raj."
   ]
  },
  {
   "cell_type": "code",
   "execution_count": 155,
   "metadata": {},
   "outputs": [
    {
     "name": "stdout",
     "output_type": "stream",
     "text": [
      "Number of obseration:(8, 3)\n"
     ]
    },
    {
     "data": {
      "text/html": [
       "<div>\n",
       "<style scoped>\n",
       "    .dataframe tbody tr th:only-of-type {\n",
       "        vertical-align: middle;\n",
       "    }\n",
       "\n",
       "    .dataframe tbody tr th {\n",
       "        vertical-align: top;\n",
       "    }\n",
       "\n",
       "    .dataframe thead th {\n",
       "        text-align: right;\n",
       "    }\n",
       "</style>\n",
       "<table border=\"1\" class=\"dataframe\">\n",
       "  <thead>\n",
       "    <tr style=\"text-align: right;\">\n",
       "      <th></th>\n",
       "      <th>Census year</th>\n",
       "      <th>Population</th>\n",
       "      <th>Growth (%)</th>\n",
       "    </tr>\n",
       "  </thead>\n",
       "  <tbody>\n",
       "    <tr>\n",
       "      <th>0</th>\n",
       "      <td>1871[35]</td>\n",
       "      <td>238,830,958</td>\n",
       "      <td>–</td>\n",
       "    </tr>\n",
       "    <tr>\n",
       "      <th>1</th>\n",
       "      <td>1881[36]</td>\n",
       "      <td>253,896,330</td>\n",
       "      <td>6.3</td>\n",
       "    </tr>\n",
       "    <tr>\n",
       "      <th>2</th>\n",
       "      <td>1891[35]</td>\n",
       "      <td>287,223,431</td>\n",
       "      <td>13.1</td>\n",
       "    </tr>\n",
       "    <tr>\n",
       "      <th>3</th>\n",
       "      <td>1901[35]</td>\n",
       "      <td>293,550,310</td>\n",
       "      <td>2.2</td>\n",
       "    </tr>\n",
       "    <tr>\n",
       "      <th>4</th>\n",
       "      <td>1911[37]</td>\n",
       "      <td>315,156,396</td>\n",
       "      <td>7.4</td>\n",
       "    </tr>\n",
       "  </tbody>\n",
       "</table>\n",
       "</div>"
      ],
      "text/plain": [
       "  Census year   Population Growth (%)\n",
       "0    1871[35]  238,830,958          –\n",
       "1    1881[36]  253,896,330        6.3\n",
       "2    1891[35]  287,223,431       13.1\n",
       "3    1901[35]  293,550,310        2.2\n",
       "4    1911[37]  315,156,396        7.4"
      ]
     },
     "execution_count": 155,
     "metadata": {},
     "output_type": "execute_result"
    }
   ],
   "source": [
    "pop_under_british_df = create_dataframe(pop_under_british_dict,pop_under_british_cols)\n",
    "print(f'Number of obseration:{pop_under_british_df.shape}')\n",
    "pop_under_british_df.head()"
   ]
  },
  {
   "cell_type": "markdown",
   "metadata": {},
   "source": [
    "### Dataframe has information about population growth per decade."
   ]
  },
  {
   "cell_type": "code",
   "execution_count": 156,
   "metadata": {},
   "outputs": [
    {
     "name": "stdout",
     "output_type": "stream",
     "text": [
      "Number of observations:(7, 3)\n"
     ]
    },
    {
     "data": {
      "text/html": [
       "<div>\n",
       "<style scoped>\n",
       "    .dataframe tbody tr th:only-of-type {\n",
       "        vertical-align: middle;\n",
       "    }\n",
       "\n",
       "    .dataframe tbody tr th {\n",
       "        vertical-align: top;\n",
       "    }\n",
       "\n",
       "    .dataframe thead th {\n",
       "        text-align: right;\n",
       "    }\n",
       "</style>\n",
       "<table border=\"1\" class=\"dataframe\">\n",
       "  <thead>\n",
       "    <tr style=\"text-align: right;\">\n",
       "      <th></th>\n",
       "      <th>Census year</th>\n",
       "      <th>Population</th>\n",
       "      <th>Change (%)</th>\n",
       "    </tr>\n",
       "  </thead>\n",
       "  <tbody>\n",
       "    <tr>\n",
       "      <th>0</th>\n",
       "      <td>1951</td>\n",
       "      <td>361,088,000</td>\n",
       "      <td>–</td>\n",
       "    </tr>\n",
       "    <tr>\n",
       "      <th>1</th>\n",
       "      <td>1961</td>\n",
       "      <td>439,235,000</td>\n",
       "      <td>21.6</td>\n",
       "    </tr>\n",
       "    <tr>\n",
       "      <th>2</th>\n",
       "      <td>1971</td>\n",
       "      <td>548,160,000</td>\n",
       "      <td>24.8</td>\n",
       "    </tr>\n",
       "    <tr>\n",
       "      <th>3</th>\n",
       "      <td>1981</td>\n",
       "      <td>683,329,000</td>\n",
       "      <td>24.7</td>\n",
       "    </tr>\n",
       "    <tr>\n",
       "      <th>4</th>\n",
       "      <td>1991</td>\n",
       "      <td>846,387,888</td>\n",
       "      <td>23.9</td>\n",
       "    </tr>\n",
       "  </tbody>\n",
       "</table>\n",
       "</div>"
      ],
      "text/plain": [
       "  Census year   Population Change (%)\n",
       "0        1951  361,088,000          –\n",
       "1        1961  439,235,000       21.6\n",
       "2        1971  548,160,000       24.8\n",
       "3        1981  683,329,000       24.7\n",
       "4        1991  846,387,888       23.9"
      ]
     },
     "execution_count": 156,
     "metadata": {},
     "output_type": "execute_result"
    }
   ],
   "source": [
    "pop_per_decade_df = create_dataframe(pop_per_decade_dict, pop_per_decade_cols)\n",
    "print(f'Number of observations:{pop_per_decade_df.shape}')\n",
    "pop_per_decade_df.head()"
   ]
  },
  {
   "cell_type": "markdown",
   "metadata": {},
   "source": [
    "### Dataframe has information about population distribution by states."
   ]
  },
  {
   "cell_type": "code",
   "execution_count": 157,
   "metadata": {},
   "outputs": [
    {
     "name": "stdout",
     "output_type": "stream",
     "text": [
      "['Rank', 'State/UT', 'Population[51]', 'Percent (%)', 'Male', 'Female', 'Difference between male and female', 'Sex Ratio', 'Rural[52]', 'Urban[52]', 'Area[53] (km2)', 'Density (per km2)']\n"
     ]
    }
   ],
   "source": [
    "print(pop_dist_by_states_cols[:-12])"
   ]
  },
  {
   "cell_type": "code",
   "execution_count": 158,
   "metadata": {},
   "outputs": [
    {
     "name": "stdout",
     "output_type": "stream",
     "text": [
      "Number of observations:(36, 12)\n"
     ]
    },
    {
     "data": {
      "text/html": [
       "<div>\n",
       "<style scoped>\n",
       "    .dataframe tbody tr th:only-of-type {\n",
       "        vertical-align: middle;\n",
       "    }\n",
       "\n",
       "    .dataframe tbody tr th {\n",
       "        vertical-align: top;\n",
       "    }\n",
       "\n",
       "    .dataframe thead th {\n",
       "        text-align: right;\n",
       "    }\n",
       "</style>\n",
       "<table border=\"1\" class=\"dataframe\">\n",
       "  <thead>\n",
       "    <tr style=\"text-align: right;\">\n",
       "      <th></th>\n",
       "      <th>Rank</th>\n",
       "      <th>State/UT</th>\n",
       "      <th>Population[51]</th>\n",
       "      <th>Percent (%)</th>\n",
       "      <th>Male</th>\n",
       "      <th>Female</th>\n",
       "      <th>Difference between male and female</th>\n",
       "      <th>Sex Ratio</th>\n",
       "      <th>Rural[52]</th>\n",
       "      <th>Urban[52]</th>\n",
       "      <th>Area[53] (km2)</th>\n",
       "      <th>Density (per km2)</th>\n",
       "    </tr>\n",
       "  </thead>\n",
       "  <tbody>\n",
       "    <tr>\n",
       "      <th>0</th>\n",
       "      <td>1</td>\n",
       "      <td>Uttar Pradesh</td>\n",
       "      <td>199,812,341</td>\n",
       "      <td>16.50</td>\n",
       "      <td>104,480,510</td>\n",
       "      <td>95,331,831</td>\n",
       "      <td>9,148,679</td>\n",
       "      <td>930</td>\n",
       "      <td>155,111,022</td>\n",
       "      <td>44,470,455</td>\n",
       "      <td>240,928</td>\n",
       "      <td>828</td>\n",
       "    </tr>\n",
       "    <tr>\n",
       "      <th>1</th>\n",
       "      <td>2</td>\n",
       "      <td>Maharashtra</td>\n",
       "      <td>112,374,333</td>\n",
       "      <td>9.28</td>\n",
       "      <td>58,243,056</td>\n",
       "      <td>54,131,277</td>\n",
       "      <td>4,111,779</td>\n",
       "      <td>929</td>\n",
       "      <td>61,545,441</td>\n",
       "      <td>50,827,531</td>\n",
       "      <td>307,713</td>\n",
       "      <td>365</td>\n",
       "    </tr>\n",
       "    <tr>\n",
       "      <th>2</th>\n",
       "      <td>3</td>\n",
       "      <td>Bihar</td>\n",
       "      <td>104,099,452</td>\n",
       "      <td>8.60</td>\n",
       "      <td>54,278,157</td>\n",
       "      <td>49,821,295</td>\n",
       "      <td>4,456,862</td>\n",
       "      <td>918</td>\n",
       "      <td>92,075,028</td>\n",
       "      <td>11,729,609</td>\n",
       "      <td>94,163</td>\n",
       "      <td>1,102</td>\n",
       "    </tr>\n",
       "    <tr>\n",
       "      <th>3</th>\n",
       "      <td>4</td>\n",
       "      <td>West Bengal</td>\n",
       "      <td>91,276,115</td>\n",
       "      <td>7.54</td>\n",
       "      <td>46,809,027</td>\n",
       "      <td>44,467,088</td>\n",
       "      <td>2,341,939</td>\n",
       "      <td>950</td>\n",
       "      <td>62,213,676</td>\n",
       "      <td>29,134,060</td>\n",
       "      <td>88,752</td>\n",
       "      <td>1,030</td>\n",
       "    </tr>\n",
       "    <tr>\n",
       "      <th>4</th>\n",
       "      <td>5</td>\n",
       "      <td>Madhya Pradesh</td>\n",
       "      <td>72,626,809</td>\n",
       "      <td>6.00</td>\n",
       "      <td>37,612,306</td>\n",
       "      <td>35,014,503</td>\n",
       "      <td>2,597,803</td>\n",
       "      <td>931</td>\n",
       "      <td>52,537,899</td>\n",
       "      <td>20,059,666</td>\n",
       "      <td>308,245</td>\n",
       "      <td>236</td>\n",
       "    </tr>\n",
       "  </tbody>\n",
       "</table>\n",
       "</div>"
      ],
      "text/plain": [
       "  Rank        State/UT Population[51] Percent (%)         Male      Female  \\\n",
       "0    1   Uttar Pradesh    199,812,341       16.50  104,480,510  95,331,831   \n",
       "1    2     Maharashtra    112,374,333        9.28   58,243,056  54,131,277   \n",
       "2    3           Bihar    104,099,452        8.60   54,278,157  49,821,295   \n",
       "3    4     West Bengal     91,276,115        7.54   46,809,027  44,467,088   \n",
       "4    5  Madhya Pradesh     72,626,809        6.00   37,612,306  35,014,503   \n",
       "\n",
       "  Difference between male and female Sex Ratio    Rural[52]   Urban[52]  \\\n",
       "0                          9,148,679       930  155,111,022  44,470,455   \n",
       "1                          4,111,779       929   61,545,441  50,827,531   \n",
       "2                          4,456,862       918   92,075,028  11,729,609   \n",
       "3                          2,341,939       950   62,213,676  29,134,060   \n",
       "4                          2,597,803       931   52,537,899  20,059,666   \n",
       "\n",
       "  Area[53] (km2) Density (per km2)  \n",
       "0        240,928               828  \n",
       "1        307,713               365  \n",
       "2         94,163             1,102  \n",
       "3         88,752             1,030  \n",
       "4        308,245               236  "
      ]
     },
     "execution_count": 158,
     "metadata": {},
     "output_type": "execute_result"
    }
   ],
   "source": [
    "pop_dist_by_states_df = create_dataframe(pop_dist_by_states_dict, pop_dist_by_states_cols[:-12])\n",
    "print(f'Number of observations:{pop_dist_by_states_df.shape}')\n",
    "pop_dist_by_states_df.head()"
   ]
  },
  {
   "cell_type": "markdown",
   "metadata": {},
   "source": [
    "### Dataframe has information about population distribution between age 0 and 6 by states."
   ]
  },
  {
   "cell_type": "code",
   "execution_count": 159,
   "metadata": {},
   "outputs": [
    {
     "data": {
      "text/plain": [
       "['State or UT code', 'State or UT', 'Total', 'Male', 'Female', 'Difference']"
      ]
     },
     "execution_count": 159,
     "metadata": {},
     "output_type": "execute_result"
    }
   ],
   "source": [
    "pop_bet_age_0_6_cols[:-6]"
   ]
  },
  {
   "cell_type": "code",
   "execution_count": 160,
   "metadata": {},
   "outputs": [
    {
     "name": "stdout",
     "output_type": "stream",
     "text": [
      "Number of observations:(35, 6)\n"
     ]
    },
    {
     "data": {
      "text/html": [
       "<div>\n",
       "<style scoped>\n",
       "    .dataframe tbody tr th:only-of-type {\n",
       "        vertical-align: middle;\n",
       "    }\n",
       "\n",
       "    .dataframe tbody tr th {\n",
       "        vertical-align: top;\n",
       "    }\n",
       "\n",
       "    .dataframe thead th {\n",
       "        text-align: right;\n",
       "    }\n",
       "</style>\n",
       "<table border=\"1\" class=\"dataframe\">\n",
       "  <thead>\n",
       "    <tr style=\"text-align: right;\">\n",
       "      <th></th>\n",
       "      <th>State or UT code</th>\n",
       "      <th>State or UT</th>\n",
       "      <th>Total</th>\n",
       "      <th>Male</th>\n",
       "      <th>Female</th>\n",
       "      <th>Difference</th>\n",
       "    </tr>\n",
       "  </thead>\n",
       "  <tbody>\n",
       "    <tr>\n",
       "      <th>0</th>\n",
       "      <td>1</td>\n",
       "      <td>Jammu and Kashmir</td>\n",
       "      <td>2,008,670</td>\n",
       "      <td>1,080,662</td>\n",
       "      <td>927,982</td>\n",
       "      <td>152,680</td>\n",
       "    </tr>\n",
       "    <tr>\n",
       "      <th>1</th>\n",
       "      <td>2</td>\n",
       "      <td>Himachal Pradesh</td>\n",
       "      <td>763,864</td>\n",
       "      <td>400,681</td>\n",
       "      <td>363,183</td>\n",
       "      <td>37,498</td>\n",
       "    </tr>\n",
       "    <tr>\n",
       "      <th>2</th>\n",
       "      <td>3</td>\n",
       "      <td>Punjab</td>\n",
       "      <td>2,941,570</td>\n",
       "      <td>1,593,262</td>\n",
       "      <td>1,348,308</td>\n",
       "      <td>244,954</td>\n",
       "    </tr>\n",
       "    <tr>\n",
       "      <th>3</th>\n",
       "      <td>4</td>\n",
       "      <td>Chandigarh</td>\n",
       "      <td>117,953</td>\n",
       "      <td>63,187</td>\n",
       "      <td>54,766</td>\n",
       "      <td>8,421</td>\n",
       "    </tr>\n",
       "    <tr>\n",
       "      <th>4</th>\n",
       "      <td>5</td>\n",
       "      <td>Uttarakhand</td>\n",
       "      <td>1,328,844</td>\n",
       "      <td>704,769</td>\n",
       "      <td>624,075</td>\n",
       "      <td>80,694</td>\n",
       "    </tr>\n",
       "  </tbody>\n",
       "</table>\n",
       "</div>"
      ],
      "text/plain": [
       "  State or UT code        State or UT      Total       Male     Female  \\\n",
       "0                1  Jammu and Kashmir  2,008,670  1,080,662    927,982   \n",
       "1                2   Himachal Pradesh    763,864    400,681    363,183   \n",
       "2                3             Punjab  2,941,570  1,593,262  1,348,308   \n",
       "3                4         Chandigarh    117,953     63,187     54,766   \n",
       "4                5        Uttarakhand  1,328,844    704,769    624,075   \n",
       "\n",
       "  Difference  \n",
       "0    152,680  \n",
       "1     37,498  \n",
       "2    244,954  \n",
       "3      8,421  \n",
       "4     80,694  "
      ]
     },
     "execution_count": 160,
     "metadata": {},
     "output_type": "execute_result"
    }
   ],
   "source": [
    "pop_bet_age_0_6_df = create_dataframe(pop_bet_age_0_6_dict, pop_bet_age_0_6_cols[:-6])\n",
    "print(f'Number of observations:{pop_bet_age_0_6_df.shape}')\n",
    "pop_bet_age_0_6_df.head()"
   ]
  },
  {
   "cell_type": "markdown",
   "metadata": {},
   "source": [
    "### Dataframe has information about population distribution above age 7 by states."
   ]
  },
  {
   "cell_type": "code",
   "execution_count": 161,
   "metadata": {},
   "outputs": [
    {
     "data": {
      "text/plain": [
       "['State or UT code', 'State or UT', 'Total', 'Male', 'Female']"
      ]
     },
     "execution_count": 161,
     "metadata": {},
     "output_type": "execute_result"
    }
   ],
   "source": [
    "pop_abv_7_cols[:-5]\n"
   ]
  },
  {
   "cell_type": "code",
   "execution_count": 162,
   "metadata": {},
   "outputs": [
    {
     "name": "stdout",
     "output_type": "stream",
     "text": [
      "Number of observations:(35, 5)\n"
     ]
    },
    {
     "data": {
      "text/html": [
       "<div>\n",
       "<style scoped>\n",
       "    .dataframe tbody tr th:only-of-type {\n",
       "        vertical-align: middle;\n",
       "    }\n",
       "\n",
       "    .dataframe tbody tr th {\n",
       "        vertical-align: top;\n",
       "    }\n",
       "\n",
       "    .dataframe thead th {\n",
       "        text-align: right;\n",
       "    }\n",
       "</style>\n",
       "<table border=\"1\" class=\"dataframe\">\n",
       "  <thead>\n",
       "    <tr style=\"text-align: right;\">\n",
       "      <th></th>\n",
       "      <th>State or UT code</th>\n",
       "      <th>State or UT</th>\n",
       "      <th>Total</th>\n",
       "      <th>Male</th>\n",
       "      <th>Female</th>\n",
       "    </tr>\n",
       "  </thead>\n",
       "  <tbody>\n",
       "    <tr>\n",
       "      <th>0</th>\n",
       "      <td>1</td>\n",
       "      <td>Jammu and Kashmir</td>\n",
       "      <td>–</td>\n",
       "      <td>–</td>\n",
       "      <td>–</td>\n",
       "    </tr>\n",
       "    <tr>\n",
       "      <th>1</th>\n",
       "      <td>2</td>\n",
       "      <td>Himachal Pradesh</td>\n",
       "      <td>–</td>\n",
       "      <td>–</td>\n",
       "      <td>–</td>\n",
       "    </tr>\n",
       "    <tr>\n",
       "      <th>2</th>\n",
       "      <td>3</td>\n",
       "      <td>Punjab</td>\n",
       "      <td>–</td>\n",
       "      <td>–</td>\n",
       "      <td>–</td>\n",
       "    </tr>\n",
       "    <tr>\n",
       "      <th>3</th>\n",
       "      <td>4</td>\n",
       "      <td>Chandigarh</td>\n",
       "      <td>–</td>\n",
       "      <td>–</td>\n",
       "      <td>–</td>\n",
       "    </tr>\n",
       "    <tr>\n",
       "      <th>4</th>\n",
       "      <td>5</td>\n",
       "      <td>Uttarakhand</td>\n",
       "      <td>–</td>\n",
       "      <td>–</td>\n",
       "      <td>–</td>\n",
       "    </tr>\n",
       "  </tbody>\n",
       "</table>\n",
       "</div>"
      ],
      "text/plain": [
       "  State or UT code        State or UT Total Male Female\n",
       "0                1  Jammu and Kashmir     –    –      –\n",
       "1                2   Himachal Pradesh     –    –      –\n",
       "2                3             Punjab     –    –      –\n",
       "3                4         Chandigarh     –    –      –\n",
       "4                5        Uttarakhand     –    –      –"
      ]
     },
     "execution_count": 162,
     "metadata": {},
     "output_type": "execute_result"
    }
   ],
   "source": [
    "pop_abv_7_df = create_dataframe(pop_abv_7_dict,pop_abv_7_cols[:-5])\n",
    "print(f\"Number of observations:{pop_abv_7_df.shape}\")\n",
    "pop_abv_7_df.head()"
   ]
  },
  {
   "cell_type": "markdown",
   "metadata": {},
   "source": [
    "### Dataframe has information about literacy rate by states."
   ]
  },
  {
   "cell_type": "code",
   "execution_count": 163,
   "metadata": {},
   "outputs": [
    {
     "data": {
      "text/plain": [
       "['State or UT code', 'State or UT', 'Overall (%)', 'Male (%)', 'Female (%)']"
      ]
     },
     "execution_count": 163,
     "metadata": {},
     "output_type": "execute_result"
    }
   ],
   "source": [
    "literacy_rate_cols[:-5]"
   ]
  },
  {
   "cell_type": "code",
   "execution_count": 164,
   "metadata": {},
   "outputs": [
    {
     "name": "stdout",
     "output_type": "stream",
     "text": [
      "Number of observations:(35, 5)\n"
     ]
    },
    {
     "data": {
      "text/html": [
       "<div>\n",
       "<style scoped>\n",
       "    .dataframe tbody tr th:only-of-type {\n",
       "        vertical-align: middle;\n",
       "    }\n",
       "\n",
       "    .dataframe tbody tr th {\n",
       "        vertical-align: top;\n",
       "    }\n",
       "\n",
       "    .dataframe thead th {\n",
       "        text-align: right;\n",
       "    }\n",
       "</style>\n",
       "<table border=\"1\" class=\"dataframe\">\n",
       "  <thead>\n",
       "    <tr style=\"text-align: right;\">\n",
       "      <th></th>\n",
       "      <th>State or UT code</th>\n",
       "      <th>State or UT</th>\n",
       "      <th>Overall (%)</th>\n",
       "      <th>Male (%)</th>\n",
       "      <th>Female (%)</th>\n",
       "    </tr>\n",
       "  </thead>\n",
       "  <tbody>\n",
       "    <tr>\n",
       "      <th>0</th>\n",
       "      <td>1</td>\n",
       "      <td>Jammu and Kashmir</td>\n",
       "      <td>86.61</td>\n",
       "      <td>87.26</td>\n",
       "      <td>86.23</td>\n",
       "    </tr>\n",
       "    <tr>\n",
       "      <th>1</th>\n",
       "      <td>2</td>\n",
       "      <td>Himachal Pradesh</td>\n",
       "      <td>83.78</td>\n",
       "      <td>90.83</td>\n",
       "      <td>76.60</td>\n",
       "    </tr>\n",
       "    <tr>\n",
       "      <th>2</th>\n",
       "      <td>3</td>\n",
       "      <td>Punjab</td>\n",
       "      <td>76.60</td>\n",
       "      <td>81.48</td>\n",
       "      <td>71.34</td>\n",
       "    </tr>\n",
       "    <tr>\n",
       "      <th>3</th>\n",
       "      <td>4</td>\n",
       "      <td>Chandigarh</td>\n",
       "      <td>86.43</td>\n",
       "      <td>90.54</td>\n",
       "      <td>81.38</td>\n",
       "    </tr>\n",
       "    <tr>\n",
       "      <th>4</th>\n",
       "      <td>5</td>\n",
       "      <td>Uttarakhand</td>\n",
       "      <td>79.63</td>\n",
       "      <td>88.33</td>\n",
       "      <td>70.70</td>\n",
       "    </tr>\n",
       "  </tbody>\n",
       "</table>\n",
       "</div>"
      ],
      "text/plain": [
       "  State or UT code        State or UT Overall (%) Male (%) Female (%)\n",
       "0                1  Jammu and Kashmir       86.61    87.26      86.23\n",
       "1                2   Himachal Pradesh       83.78    90.83      76.60\n",
       "2                3             Punjab       76.60    81.48      71.34\n",
       "3                4         Chandigarh       86.43    90.54      81.38\n",
       "4                5        Uttarakhand       79.63    88.33      70.70"
      ]
     },
     "execution_count": 164,
     "metadata": {},
     "output_type": "execute_result"
    }
   ],
   "source": [
    "literacy_rate_df = create_dataframe(literacy_rate_dict,literacy_rate_cols[:-5])\n",
    "print(f\"Number of observations:{literacy_rate_df.shape}\")\n",
    "literacy_rate_df.head()"
   ]
  },
  {
   "cell_type": "markdown",
   "metadata": {},
   "source": [
    "### Dataframe has information about languages of india by number of native speakers at the 2001 census."
   ]
  },
  {
   "cell_type": "code",
   "execution_count": 165,
   "metadata": {},
   "outputs": [
    {
     "name": "stdout",
     "output_type": "stream",
     "text": [
      "Number of observations:(29, 4)\n"
     ]
    },
    {
     "data": {
      "text/html": [
       "<div>\n",
       "<style scoped>\n",
       "    .dataframe tbody tr th:only-of-type {\n",
       "        vertical-align: middle;\n",
       "    }\n",
       "\n",
       "    .dataframe tbody tr th {\n",
       "        vertical-align: top;\n",
       "    }\n",
       "\n",
       "    .dataframe thead th {\n",
       "        text-align: right;\n",
       "    }\n",
       "</style>\n",
       "<table border=\"1\" class=\"dataframe\">\n",
       "  <thead>\n",
       "    <tr style=\"text-align: right;\">\n",
       "      <th></th>\n",
       "      <th>Rank</th>\n",
       "      <th>Language</th>\n",
       "      <th>Speakers</th>\n",
       "      <th>Percentage (%)</th>\n",
       "    </tr>\n",
       "  </thead>\n",
       "  <tbody>\n",
       "    <tr>\n",
       "      <th>0</th>\n",
       "      <td>1</td>\n",
       "      <td>Hindi[74]</td>\n",
       "      <td>422,048,642</td>\n",
       "      <td>41.030</td>\n",
       "    </tr>\n",
       "    <tr>\n",
       "      <th>1</th>\n",
       "      <td>2</td>\n",
       "      <td>Bengali</td>\n",
       "      <td>83,369,769</td>\n",
       "      <td>8.110</td>\n",
       "    </tr>\n",
       "    <tr>\n",
       "      <th>2</th>\n",
       "      <td>3</td>\n",
       "      <td>Telugu</td>\n",
       "      <td>74,002,856</td>\n",
       "      <td>7.190</td>\n",
       "    </tr>\n",
       "    <tr>\n",
       "      <th>3</th>\n",
       "      <td>4</td>\n",
       "      <td>Marathi</td>\n",
       "      <td>71,936,894</td>\n",
       "      <td>6.990</td>\n",
       "    </tr>\n",
       "    <tr>\n",
       "      <th>4</th>\n",
       "      <td>5</td>\n",
       "      <td>Tamil</td>\n",
       "      <td>60,793,814</td>\n",
       "      <td>5.910</td>\n",
       "    </tr>\n",
       "  </tbody>\n",
       "</table>\n",
       "</div>"
      ],
      "text/plain": [
       "  Rank   Language     Speakers Percentage (%)\n",
       "0    1  Hindi[74]  422,048,642         41.030\n",
       "1    2    Bengali   83,369,769          8.110\n",
       "2    3     Telugu   74,002,856          7.190\n",
       "3    4    Marathi   71,936,894          6.990\n",
       "4    5      Tamil   60,793,814          5.910"
      ]
     },
     "execution_count": 165,
     "metadata": {},
     "output_type": "execute_result"
    }
   ],
   "source": [
    "native_speakers_df  = create_dataframe(native_speakers_dict,native_speakers_cols)\n",
    "print(f\"Number of observations:{native_speakers_df.shape}\")\n",
    "native_speakers_df.head()"
   ]
  },
  {
   "cell_type": "markdown",
   "metadata": {},
   "source": [
    "### Dataframe has information about United Nations, World Population Prospects: The 2015 revision – India."
   ]
  },
  {
   "cell_type": "code",
   "execution_count": 166,
   "metadata": {},
   "outputs": [
    {
     "name": "stdout",
     "output_type": "stream",
     "text": [
      "Number of observations:(13, 9)\n"
     ]
    },
    {
     "data": {
      "text/html": [
       "<div>\n",
       "<style scoped>\n",
       "    .dataframe tbody tr th:only-of-type {\n",
       "        vertical-align: middle;\n",
       "    }\n",
       "\n",
       "    .dataframe tbody tr th {\n",
       "        vertical-align: top;\n",
       "    }\n",
       "\n",
       "    .dataframe thead th {\n",
       "        text-align: right;\n",
       "    }\n",
       "</style>\n",
       "<table border=\"1\" class=\"dataframe\">\n",
       "  <thead>\n",
       "    <tr style=\"text-align: right;\">\n",
       "      <th></th>\n",
       "      <th>Period</th>\n",
       "      <th>Births per year</th>\n",
       "      <th>Deaths per year</th>\n",
       "      <th>Natural change per year</th>\n",
       "      <th>CBR1</th>\n",
       "      <th>CDR1</th>\n",
       "      <th>NC1</th>\n",
       "      <th>TFR1</th>\n",
       "      <th>IMR1</th>\n",
       "    </tr>\n",
       "  </thead>\n",
       "  <tbody>\n",
       "    <tr>\n",
       "      <th>0</th>\n",
       "      <td>1950–1955</td>\n",
       "      <td>16,832,000</td>\n",
       "      <td>9,928,000</td>\n",
       "      <td>6,904,000</td>\n",
       "      <td>43.3</td>\n",
       "      <td>25.5</td>\n",
       "      <td>17.7</td>\n",
       "      <td>5.90</td>\n",
       "      <td>165.0</td>\n",
       "    </tr>\n",
       "    <tr>\n",
       "      <th>1</th>\n",
       "      <td>1955–1960</td>\n",
       "      <td>17,981,000</td>\n",
       "      <td>9,686,000</td>\n",
       "      <td>8,295,000</td>\n",
       "      <td>42.1</td>\n",
       "      <td>22.7</td>\n",
       "      <td>19.4</td>\n",
       "      <td>5.90</td>\n",
       "      <td>153.1</td>\n",
       "    </tr>\n",
       "    <tr>\n",
       "      <th>2</th>\n",
       "      <td>1960–1965</td>\n",
       "      <td>19,086,000</td>\n",
       "      <td>9,358,000</td>\n",
       "      <td>9,728,000</td>\n",
       "      <td>40.4</td>\n",
       "      <td>19.8</td>\n",
       "      <td>20.6</td>\n",
       "      <td>5.82</td>\n",
       "      <td>140.1</td>\n",
       "    </tr>\n",
       "    <tr>\n",
       "      <th>3</th>\n",
       "      <td>1965–1970</td>\n",
       "      <td>20,611,000</td>\n",
       "      <td>9,057,000</td>\n",
       "      <td>11,554,000</td>\n",
       "      <td>39.2</td>\n",
       "      <td>17.2</td>\n",
       "      <td>22.0</td>\n",
       "      <td>5.69</td>\n",
       "      <td>128.5</td>\n",
       "    </tr>\n",
       "    <tr>\n",
       "      <th>4</th>\n",
       "      <td>1970–1975</td>\n",
       "      <td>22,022,000</td>\n",
       "      <td>8,821,000</td>\n",
       "      <td>13,201,000</td>\n",
       "      <td>37.5</td>\n",
       "      <td>15.0</td>\n",
       "      <td>22.5</td>\n",
       "      <td>5.26</td>\n",
       "      <td>118.0</td>\n",
       "    </tr>\n",
       "  </tbody>\n",
       "</table>\n",
       "</div>"
      ],
      "text/plain": [
       "      Period Births per year Deaths per year Natural change per year  CBR1  \\\n",
       "0  1950–1955      16,832,000       9,928,000               6,904,000  43.3   \n",
       "1  1955–1960      17,981,000       9,686,000               8,295,000  42.1   \n",
       "2  1960–1965      19,086,000       9,358,000               9,728,000  40.4   \n",
       "3  1965–1970      20,611,000       9,057,000              11,554,000  39.2   \n",
       "4  1970–1975      22,022,000       8,821,000              13,201,000  37.5   \n",
       "\n",
       "   CDR1   NC1  TFR1   IMR1  \n",
       "0  25.5  17.7  5.90  165.0  \n",
       "1  22.7  19.4  5.90  153.1  \n",
       "2  19.8  20.6  5.82  140.1  \n",
       "3  17.2  22.0  5.69  128.5  \n",
       "4  15.0  22.5  5.26  118.0  "
      ]
     },
     "execution_count": 166,
     "metadata": {},
     "output_type": "execute_result"
    }
   ],
   "source": [
    "del un_stat_dict[0][-1]\n",
    "un_stat_df = create_dataframe(un_stat_dict,un_stat_cols)\n",
    "print(f\"Number of observations:{un_stat_df.shape}\")\n",
    "un_stat_df.head()"
   ]
  },
  {
   "cell_type": "markdown",
   "metadata": {},
   "source": [
    "### Dataframe has information about Census of India."
   ]
  },
  {
   "cell_type": "code",
   "execution_count": 167,
   "metadata": {},
   "outputs": [
    {
     "name": "stdout",
     "output_type": "stream",
     "text": [
      "Number of observations:(36, 9)\n"
     ]
    },
    {
     "data": {
      "text/html": [
       "<div>\n",
       "<style scoped>\n",
       "    .dataframe tbody tr th:only-of-type {\n",
       "        vertical-align: middle;\n",
       "    }\n",
       "\n",
       "    .dataframe tbody tr th {\n",
       "        vertical-align: top;\n",
       "    }\n",
       "\n",
       "    .dataframe thead th {\n",
       "        text-align: right;\n",
       "    }\n",
       "</style>\n",
       "<table border=\"1\" class=\"dataframe\">\n",
       "  <thead>\n",
       "    <tr style=\"text-align: right;\">\n",
       "      <th></th>\n",
       "      <th>Year</th>\n",
       "      <th>Average population(x 1000)</th>\n",
       "      <th>Live births1</th>\n",
       "      <th>Deaths1</th>\n",
       "      <th>Natural change</th>\n",
       "      <th>Crude birth rate(per 1000)</th>\n",
       "      <th>Crude death rate(per 1000)</th>\n",
       "      <th>Natural change(per 1000)</th>\n",
       "      <th>Total fertility rate</th>\n",
       "    </tr>\n",
       "  </thead>\n",
       "  <tbody>\n",
       "    <tr>\n",
       "      <th>0</th>\n",
       "      <td>1981</td>\n",
       "      <td>716,493</td>\n",
       "      <td>24,289,000</td>\n",
       "      <td>8,956,000</td>\n",
       "      <td>15,333,000</td>\n",
       "      <td>33.9</td>\n",
       "      <td>12.5</td>\n",
       "      <td>21.4</td>\n",
       "      <td>–</td>\n",
       "    </tr>\n",
       "    <tr>\n",
       "      <th>1</th>\n",
       "      <td>1982</td>\n",
       "      <td>733,152</td>\n",
       "      <td>24,781,000</td>\n",
       "      <td>8,725,000</td>\n",
       "      <td>16,056,000</td>\n",
       "      <td>33.8</td>\n",
       "      <td>11.9</td>\n",
       "      <td>21.9</td>\n",
       "      <td>–</td>\n",
       "    </tr>\n",
       "    <tr>\n",
       "      <th>2</th>\n",
       "      <td>1983</td>\n",
       "      <td>750,034</td>\n",
       "      <td>25,276,000</td>\n",
       "      <td>8,925,000</td>\n",
       "      <td>16,351,000</td>\n",
       "      <td>33.7</td>\n",
       "      <td>11.9</td>\n",
       "      <td>21.8</td>\n",
       "      <td>–</td>\n",
       "    </tr>\n",
       "    <tr>\n",
       "      <th>3</th>\n",
       "      <td>1984</td>\n",
       "      <td>767,147</td>\n",
       "      <td>26,006,000</td>\n",
       "      <td>9,666,000</td>\n",
       "      <td>16,340,000</td>\n",
       "      <td>33.9</td>\n",
       "      <td>12.6</td>\n",
       "      <td>21.3</td>\n",
       "      <td>–</td>\n",
       "    </tr>\n",
       "    <tr>\n",
       "      <th>4</th>\n",
       "      <td>1985</td>\n",
       "      <td>784,491</td>\n",
       "      <td>25,810,000</td>\n",
       "      <td>9,257,000</td>\n",
       "      <td>16,553,000</td>\n",
       "      <td>32.9</td>\n",
       "      <td>11.8</td>\n",
       "      <td>21.1</td>\n",
       "      <td>–</td>\n",
       "    </tr>\n",
       "  </tbody>\n",
       "</table>\n",
       "</div>"
      ],
      "text/plain": [
       "   Year Average population(x 1000) Live births1    Deaths1 Natural change  \\\n",
       "0  1981                    716,493   24,289,000  8,956,000     15,333,000   \n",
       "1  1982                    733,152   24,781,000  8,725,000     16,056,000   \n",
       "2  1983                    750,034   25,276,000  8,925,000     16,351,000   \n",
       "3  1984                    767,147   26,006,000  9,666,000     16,340,000   \n",
       "4  1985                    784,491   25,810,000  9,257,000     16,553,000   \n",
       "\n",
       "  Crude birth rate(per 1000) Crude death rate(per 1000)  \\\n",
       "0                       33.9                       12.5   \n",
       "1                       33.8                       11.9   \n",
       "2                       33.7                       11.9   \n",
       "3                       33.9                       12.6   \n",
       "4                       32.9                       11.8   \n",
       "\n",
       "  Natural change(per 1000) Total fertility rate  \n",
       "0                     21.4                    –  \n",
       "1                     21.9                    –  \n",
       "2                     21.8                    –  \n",
       "3                     21.3                    –  \n",
       "4                     21.1                    –  "
      ]
     },
     "execution_count": 167,
     "metadata": {},
     "output_type": "execute_result"
    }
   ],
   "source": [
    "del census_dict[0][-1]\n",
    "census_df = create_dataframe(census_dict,census_cols)\n",
    "print(f\"Number of observations:{census_df.shape}\")\n",
    "census_df.head()"
   ]
  },
  {
   "cell_type": "markdown",
   "metadata": {},
   "source": [
    "### Dataframe has structure of the population (09.02.2011) (Census) (Includes data for the Indian-administered part of Jammu and Kashmir)."
   ]
  },
  {
   "cell_type": "code",
   "execution_count": 168,
   "metadata": {},
   "outputs": [
    {
     "name": "stdout",
     "output_type": "stream",
     "text": [
      "Number of observations:(22, 5)\n"
     ]
    },
    {
     "data": {
      "text/html": [
       "<div>\n",
       "<style scoped>\n",
       "    .dataframe tbody tr th:only-of-type {\n",
       "        vertical-align: middle;\n",
       "    }\n",
       "\n",
       "    .dataframe tbody tr th {\n",
       "        vertical-align: top;\n",
       "    }\n",
       "\n",
       "    .dataframe thead th {\n",
       "        text-align: right;\n",
       "    }\n",
       "</style>\n",
       "<table border=\"1\" class=\"dataframe\">\n",
       "  <thead>\n",
       "    <tr style=\"text-align: right;\">\n",
       "      <th></th>\n",
       "      <th>Age group</th>\n",
       "      <th>Male</th>\n",
       "      <th>Female</th>\n",
       "      <th>Total</th>\n",
       "      <th>Percentage (%)</th>\n",
       "    </tr>\n",
       "  </thead>\n",
       "  <tbody>\n",
       "    <tr>\n",
       "      <th>0</th>\n",
       "      <td>0–4</td>\n",
       "      <td>58,632,074</td>\n",
       "      <td>54,174,704</td>\n",
       "      <td>112,806,778</td>\n",
       "      <td>9.32</td>\n",
       "    </tr>\n",
       "    <tr>\n",
       "      <th>1</th>\n",
       "      <td>5–9</td>\n",
       "      <td>66,300,466</td>\n",
       "      <td>60,627,660</td>\n",
       "      <td>126,928,126</td>\n",
       "      <td>10.48</td>\n",
       "    </tr>\n",
       "    <tr>\n",
       "      <th>2</th>\n",
       "      <td>10–14</td>\n",
       "      <td>69,418,835</td>\n",
       "      <td>63,290,377</td>\n",
       "      <td>132,709,212</td>\n",
       "      <td>10.96</td>\n",
       "    </tr>\n",
       "    <tr>\n",
       "      <th>3</th>\n",
       "      <td>15–19</td>\n",
       "      <td>63,982,396</td>\n",
       "      <td>56,544,053</td>\n",
       "      <td>120,526,449</td>\n",
       "      <td>9.95</td>\n",
       "    </tr>\n",
       "    <tr>\n",
       "      <th>4</th>\n",
       "      <td>20–24</td>\n",
       "      <td>57,584,693</td>\n",
       "      <td>53,839,529</td>\n",
       "      <td>111,424,222</td>\n",
       "      <td>9.20</td>\n",
       "    </tr>\n",
       "  </tbody>\n",
       "</table>\n",
       "</div>"
      ],
      "text/plain": [
       "  Age group        Male      Female        Total Percentage (%)\n",
       "0       0–4  58,632,074  54,174,704  112,806,778           9.32\n",
       "1       5–9  66,300,466  60,627,660  126,928,126          10.48\n",
       "2     10–14  69,418,835  63,290,377  132,709,212          10.96\n",
       "3     15–19  63,982,396  56,544,053  120,526,449           9.95\n",
       "4     20–24  57,584,693  53,839,529  111,424,222           9.20"
      ]
     },
     "execution_count": 168,
     "metadata": {},
     "output_type": "execute_result"
    }
   ],
   "source": [
    "pop_struc_df = create_dataframe(pop_struc_dict,pop_struc_cols[:-5])\n",
    "print(f\"Number of observations:{pop_struc_df.shape}\")\n",
    "pop_struc_df.head()"
   ]
  },
  {
   "cell_type": "markdown",
   "metadata": {},
   "source": [
    "### Dataframe has population pyramid 2016 (estimates)."
   ]
  },
  {
   "cell_type": "code",
   "execution_count": 169,
   "metadata": {},
   "outputs": [
    {
     "name": "stdout",
     "output_type": "stream",
     "text": [
      "Number of observations:(21, 4)\n"
     ]
    },
    {
     "data": {
      "text/html": [
       "<div>\n",
       "<style scoped>\n",
       "    .dataframe tbody tr th:only-of-type {\n",
       "        vertical-align: middle;\n",
       "    }\n",
       "\n",
       "    .dataframe tbody tr th {\n",
       "        vertical-align: top;\n",
       "    }\n",
       "\n",
       "    .dataframe thead th {\n",
       "        text-align: right;\n",
       "    }\n",
       "</style>\n",
       "<table border=\"1\" class=\"dataframe\">\n",
       "  <thead>\n",
       "    <tr style=\"text-align: right;\">\n",
       "      <th></th>\n",
       "      <th>Age group</th>\n",
       "      <th>Male</th>\n",
       "      <th>Female</th>\n",
       "      <th>Total</th>\n",
       "    </tr>\n",
       "  </thead>\n",
       "  <tbody>\n",
       "    <tr>\n",
       "      <th>0</th>\n",
       "      <td>0–4</td>\n",
       "      <td>8.7</td>\n",
       "      <td>8.2</td>\n",
       "      <td>8.5</td>\n",
       "    </tr>\n",
       "    <tr>\n",
       "      <th>1</th>\n",
       "      <td>5–9</td>\n",
       "      <td>9.1</td>\n",
       "      <td>8.8</td>\n",
       "      <td>8.9</td>\n",
       "    </tr>\n",
       "    <tr>\n",
       "      <th>2</th>\n",
       "      <td>10–14</td>\n",
       "      <td>9.8</td>\n",
       "      <td>9.4</td>\n",
       "      <td>9.6</td>\n",
       "    </tr>\n",
       "    <tr>\n",
       "      <th>3</th>\n",
       "      <td>15–19</td>\n",
       "      <td>10.4</td>\n",
       "      <td>9.9</td>\n",
       "      <td>10.1</td>\n",
       "    </tr>\n",
       "    <tr>\n",
       "      <th>4</th>\n",
       "      <td>20–24</td>\n",
       "      <td>10.2</td>\n",
       "      <td>10.7</td>\n",
       "      <td>10.4</td>\n",
       "    </tr>\n",
       "  </tbody>\n",
       "</table>\n",
       "</div>"
      ],
      "text/plain": [
       "  Age group  Male Female Total\n",
       "0       0–4   8.7    8.2   8.5\n",
       "1       5–9   9.1    8.8   8.9\n",
       "2     10–14   9.8    9.4   9.6\n",
       "3     15–19  10.4    9.9  10.1\n",
       "4     20–24  10.2   10.7  10.4"
      ]
     },
     "execution_count": 169,
     "metadata": {},
     "output_type": "execute_result"
    }
   ],
   "source": [
    "pop_struc_2016_df = create_dataframe(pop_struc_2016_dict,pop_struc_2016_cols )\n",
    "print(f\"Number of observations:{pop_struc_2016_df.shape}\")\n",
    "pop_struc_2016_df.head()"
   ]
  },
  {
   "cell_type": "code",
   "execution_count": 170,
   "metadata": {},
   "outputs": [
    {
     "name": "stdout",
     "output_type": "stream",
     "text": [
      "Number of observations:(29, 7)\n"
     ]
    },
    {
     "data": {
      "text/html": [
       "<div>\n",
       "<style scoped>\n",
       "    .dataframe tbody tr th:only-of-type {\n",
       "        vertical-align: middle;\n",
       "    }\n",
       "\n",
       "    .dataframe tbody tr th {\n",
       "        vertical-align: top;\n",
       "    }\n",
       "\n",
       "    .dataframe thead th {\n",
       "        text-align: right;\n",
       "    }\n",
       "</style>\n",
       "<table border=\"1\" class=\"dataframe\">\n",
       "  <thead>\n",
       "    <tr style=\"text-align: right;\">\n",
       "      <th></th>\n",
       "      <th>State (Population 2011)</th>\n",
       "      <th>CBR – Total</th>\n",
       "      <th>TFR – Total1</th>\n",
       "      <th>CBR – Urban</th>\n",
       "      <th>TFR – Urban1</th>\n",
       "      <th>CBR – Rural</th>\n",
       "      <th>TFR – Rural1</th>\n",
       "    </tr>\n",
       "  </thead>\n",
       "  <tbody>\n",
       "    <tr>\n",
       "      <th>0</th>\n",
       "      <td>Uttar Pradesh (199 812 341)</td>\n",
       "      <td>22.6</td>\n",
       "      <td>2.74 (2.06)</td>\n",
       "      <td>18.6</td>\n",
       "      <td>2.08 (1.62)</td>\n",
       "      <td>24.0</td>\n",
       "      <td>2.99 (2.22)</td>\n",
       "    </tr>\n",
       "    <tr>\n",
       "      <th>1</th>\n",
       "      <td>Maharashtra (112 374 333)</td>\n",
       "      <td>16.6</td>\n",
       "      <td>1.87 (1.57)</td>\n",
       "      <td>15.5</td>\n",
       "      <td>1.68 (1.41)</td>\n",
       "      <td>17.5</td>\n",
       "      <td>2.06 (1.73)</td>\n",
       "    </tr>\n",
       "    <tr>\n",
       "      <th>2</th>\n",
       "      <td>Bihar (104 099 452)</td>\n",
       "      <td>27.1</td>\n",
       "      <td>3.41 (2.48)</td>\n",
       "      <td>20.4</td>\n",
       "      <td>2.42 (1.83)</td>\n",
       "      <td>28.0</td>\n",
       "      <td>3.56 (2.58)</td>\n",
       "    </tr>\n",
       "    <tr>\n",
       "      <th>3</th>\n",
       "      <td>West Bengal (91 276 115)</td>\n",
       "      <td>16.6</td>\n",
       "      <td>1.77 (1.53)</td>\n",
       "      <td>14.0</td>\n",
       "      <td>1.57 (1.38)</td>\n",
       "      <td>18.0</td>\n",
       "      <td>1.85 (1.58)</td>\n",
       "    </tr>\n",
       "    <tr>\n",
       "      <th>4</th>\n",
       "      <td>Madhya Pradesh (72 626 809)</td>\n",
       "      <td>20.2</td>\n",
       "      <td>2.32 (1.82)</td>\n",
       "      <td>17.7</td>\n",
       "      <td>1.95 (1.61)</td>\n",
       "      <td>21.3</td>\n",
       "      <td>2.48 (1.91)</td>\n",
       "    </tr>\n",
       "  </tbody>\n",
       "</table>\n",
       "</div>"
      ],
      "text/plain": [
       "       State (Population 2011) CBR – Total TFR – Total1 CBR – Urban  \\\n",
       "0  Uttar Pradesh (199 812 341)        22.6  2.74 (2.06)        18.6   \n",
       "1    Maharashtra (112 374 333)        16.6  1.87 (1.57)        15.5   \n",
       "2          Bihar (104 099 452)        27.1  3.41 (2.48)        20.4   \n",
       "3     West Bengal (91 276 115)        16.6  1.77 (1.53)        14.0   \n",
       "4  Madhya Pradesh (72 626 809)        20.2  2.32 (1.82)        17.7   \n",
       "\n",
       "  TFR – Urban1 CBR – Rural TFR – Rural1  \n",
       "0  2.08 (1.62)        24.0  2.99 (2.22)  \n",
       "1  1.68 (1.41)        17.5  2.06 (1.73)  \n",
       "2  2.42 (1.83)        28.0  3.56 (2.58)  \n",
       "3  1.57 (1.38)        18.0  1.85 (1.58)  \n",
       "4  1.95 (1.61)        21.3  2.48 (1.91)  "
      ]
     },
     "execution_count": 170,
     "metadata": {},
     "output_type": "execute_result"
    }
   ],
   "source": [
    "del crude_birth_rate_dict[0][-1]\n",
    "del crude_birth_rate_dict[1][-1]\n",
    "crude_birth_rate_df = create_dataframe(crude_birth_rate_dict,crude_birth_rate_cols)\n",
    "print(f\"Number of observations:{crude_birth_rate_df.shape}\")\n",
    "crude_birth_rate_df.head()"
   ]
  },
  {
   "cell_type": "code",
   "execution_count": 171,
   "metadata": {},
   "outputs": [
    {
     "name": "stdout",
     "output_type": "stream",
     "text": [
      "Number of observations:(4, 7)\n"
     ]
    },
    {
     "data": {
      "text/html": [
       "<div>\n",
       "<style scoped>\n",
       "    .dataframe tbody tr th:only-of-type {\n",
       "        vertical-align: middle;\n",
       "    }\n",
       "\n",
       "    .dataframe tbody tr th {\n",
       "        vertical-align: top;\n",
       "    }\n",
       "\n",
       "    .dataframe thead th {\n",
       "        text-align: right;\n",
       "    }\n",
       "</style>\n",
       "<table border=\"1\" class=\"dataframe\">\n",
       "  <thead>\n",
       "    <tr style=\"text-align: right;\">\n",
       "      <th></th>\n",
       "      <th>Year</th>\n",
       "      <th>CBR – Total</th>\n",
       "      <th>TFR – Total1</th>\n",
       "      <th>CBR – Urban</th>\n",
       "      <th>TFR – Urban1</th>\n",
       "      <th>CBR – Rural</th>\n",
       "      <th>TFR – Rural1</th>\n",
       "    </tr>\n",
       "  </thead>\n",
       "  <tbody>\n",
       "    <tr>\n",
       "      <th>0</th>\n",
       "      <td>1992–1993</td>\n",
       "      <td>28.7</td>\n",
       "      <td>3.39 (2.64)</td>\n",
       "      <td>24.1</td>\n",
       "      <td>2.70 (2.09)</td>\n",
       "      <td>30.4</td>\n",
       "      <td>3.67 (2.86)</td>\n",
       "    </tr>\n",
       "    <tr>\n",
       "      <th>1</th>\n",
       "      <td>1998–1999</td>\n",
       "      <td>24.8</td>\n",
       "      <td>2.85 (2.13)</td>\n",
       "      <td>20.9</td>\n",
       "      <td>2.27 (1.73)</td>\n",
       "      <td>26.2</td>\n",
       "      <td>3.07 (2.28)</td>\n",
       "    </tr>\n",
       "    <tr>\n",
       "      <th>2</th>\n",
       "      <td>2005–2006</td>\n",
       "      <td>23.1</td>\n",
       "      <td>2.68 (1.90)</td>\n",
       "      <td>18.8</td>\n",
       "      <td>2.06 (1.60)</td>\n",
       "      <td>25.0</td>\n",
       "      <td>2.98 (2.10)</td>\n",
       "    </tr>\n",
       "    <tr>\n",
       "      <th>3</th>\n",
       "      <td>2015–2016</td>\n",
       "      <td>19.0</td>\n",
       "      <td>2.18 (1.8)</td>\n",
       "      <td>15.8</td>\n",
       "      <td>1.75 (1.5)</td>\n",
       "      <td>20.7</td>\n",
       "      <td>2.41 (1.9)</td>\n",
       "    </tr>\n",
       "  </tbody>\n",
       "</table>\n",
       "</div>"
      ],
      "text/plain": [
       "        Year CBR – Total TFR – Total1 CBR – Urban TFR – Urban1 CBR – Rural  \\\n",
       "0  1992–1993        28.7  3.39 (2.64)        24.1  2.70 (2.09)        30.4   \n",
       "1  1998–1999        24.8  2.85 (2.13)        20.9  2.27 (1.73)        26.2   \n",
       "2  2005–2006        23.1  2.68 (1.90)        18.8  2.06 (1.60)        25.0   \n",
       "3  2015–2016        19.0   2.18 (1.8)        15.8   1.75 (1.5)        20.7   \n",
       "\n",
       "  TFR – Rural1  \n",
       "0  3.67 (2.86)  \n",
       "1  3.07 (2.28)  \n",
       "2  2.98 (2.10)  \n",
       "3   2.41 (1.9)  "
      ]
     },
     "execution_count": 171,
     "metadata": {},
     "output_type": "execute_result"
    }
   ],
   "source": [
    "del fertility_rate_dict[0][-1]\n",
    "fertility_rate_df = create_dataframe(fertility_rate_dict,fertility_rate_cols)\n",
    "print(f\"Number of observations:{fertility_rate_df.shape}\")\n",
    "fertility_rate_df.head()"
   ]
  },
  {
   "cell_type": "markdown",
   "metadata": {},
   "source": [
    "### Birth rate, death rate, natural growth rate, and infant mortality rate, by state or UT(2010)."
   ]
  },
  {
   "cell_type": "code",
   "execution_count": 172,
   "metadata": {},
   "outputs": [
    {
     "name": "stdout",
     "output_type": "stream",
     "text": [
      "Number of observations:(35, 13)\n"
     ]
    },
    {
     "data": {
      "text/html": [
       "<div>\n",
       "<style scoped>\n",
       "    .dataframe tbody tr th:only-of-type {\n",
       "        vertical-align: middle;\n",
       "    }\n",
       "\n",
       "    .dataframe tbody tr th {\n",
       "        vertical-align: top;\n",
       "    }\n",
       "\n",
       "    .dataframe thead th {\n",
       "        text-align: right;\n",
       "    }\n",
       "</style>\n",
       "<table border=\"1\" class=\"dataframe\">\n",
       "  <thead>\n",
       "    <tr style=\"text-align: right;\">\n",
       "      <th></th>\n",
       "      <th>state</th>\n",
       "      <th>birth_rate_total</th>\n",
       "      <th>birth_rate_rural</th>\n",
       "      <th>birth_rate_urban</th>\n",
       "      <th>death_rate_total</th>\n",
       "      <th>death_rate_rural</th>\n",
       "      <th>death_rate_urban</th>\n",
       "      <th>natural_growth_rate_total</th>\n",
       "      <th>natural_growth_rate_rural</th>\n",
       "      <th>natural_growth_rate_urban</th>\n",
       "      <th>infant_moratatily_rate_total</th>\n",
       "      <th>infant_moratatily_rate_rural</th>\n",
       "      <th>infant_moratatily_rate_urban</th>\n",
       "    </tr>\n",
       "  </thead>\n",
       "  <tbody>\n",
       "    <tr>\n",
       "      <th>0</th>\n",
       "      <td>Andaman and Nicobar Islands</td>\n",
       "      <td>15.6</td>\n",
       "      <td>15.5</td>\n",
       "      <td>15.8</td>\n",
       "      <td>4.3</td>\n",
       "      <td>4.8</td>\n",
       "      <td>3.3</td>\n",
       "      <td>11.3</td>\n",
       "      <td>10.7</td>\n",
       "      <td>12.6</td>\n",
       "      <td>25</td>\n",
       "      <td>29</td>\n",
       "      <td>18</td>\n",
       "    </tr>\n",
       "    <tr>\n",
       "      <th>1</th>\n",
       "      <td>Andhra Pradesh</td>\n",
       "      <td>17.9</td>\n",
       "      <td>18.3</td>\n",
       "      <td>16.7</td>\n",
       "      <td>7.6</td>\n",
       "      <td>8.6</td>\n",
       "      <td>5.4</td>\n",
       "      <td>10.2</td>\n",
       "      <td>9.7</td>\n",
       "      <td>11.3</td>\n",
       "      <td>46</td>\n",
       "      <td>51</td>\n",
       "      <td>33</td>\n",
       "    </tr>\n",
       "    <tr>\n",
       "      <th>2</th>\n",
       "      <td>Arunachal Pradesh</td>\n",
       "      <td>20.5</td>\n",
       "      <td>22.1</td>\n",
       "      <td>14.6</td>\n",
       "      <td>5.9</td>\n",
       "      <td>6.9</td>\n",
       "      <td>2.3</td>\n",
       "      <td>14.6</td>\n",
       "      <td>15.2</td>\n",
       "      <td>12.3</td>\n",
       "      <td>31</td>\n",
       "      <td>34</td>\n",
       "      <td>12</td>\n",
       "    </tr>\n",
       "    <tr>\n",
       "      <th>3</th>\n",
       "      <td>Assam</td>\n",
       "      <td>23.2</td>\n",
       "      <td>24.4</td>\n",
       "      <td>15.8</td>\n",
       "      <td>8.2</td>\n",
       "      <td>8.6</td>\n",
       "      <td>5.8</td>\n",
       "      <td>14.9</td>\n",
       "      <td>15.8</td>\n",
       "      <td>10.1</td>\n",
       "      <td>58</td>\n",
       "      <td>60</td>\n",
       "      <td>36</td>\n",
       "    </tr>\n",
       "    <tr>\n",
       "      <th>4</th>\n",
       "      <td>Bihar</td>\n",
       "      <td>28.1</td>\n",
       "      <td>28.8</td>\n",
       "      <td>22.0</td>\n",
       "      <td>6.8</td>\n",
       "      <td>7.0</td>\n",
       "      <td>5.6</td>\n",
       "      <td>21.3</td>\n",
       "      <td>21.8</td>\n",
       "      <td>16.4</td>\n",
       "      <td>48</td>\n",
       "      <td>49</td>\n",
       "      <td>38</td>\n",
       "    </tr>\n",
       "  </tbody>\n",
       "</table>\n",
       "</div>"
      ],
      "text/plain": [
       "                         state birth_rate_total birth_rate_rural  \\\n",
       "0  Andaman and Nicobar Islands             15.6             15.5   \n",
       "1               Andhra Pradesh             17.9             18.3   \n",
       "2            Arunachal Pradesh             20.5             22.1   \n",
       "3                        Assam             23.2             24.4   \n",
       "4                        Bihar             28.1             28.8   \n",
       "\n",
       "  birth_rate_urban death_rate_total death_rate_rural death_rate_urban  \\\n",
       "0             15.8              4.3              4.8              3.3   \n",
       "1             16.7              7.6              8.6              5.4   \n",
       "2             14.6              5.9              6.9              2.3   \n",
       "3             15.8              8.2              8.6              5.8   \n",
       "4             22.0              6.8              7.0              5.6   \n",
       "\n",
       "  natural_growth_rate_total natural_growth_rate_rural  \\\n",
       "0                      11.3                      10.7   \n",
       "1                      10.2                       9.7   \n",
       "2                      14.6                      15.2   \n",
       "3                      14.9                      15.8   \n",
       "4                      21.3                      21.8   \n",
       "\n",
       "  natural_growth_rate_urban infant_moratatily_rate_total  \\\n",
       "0                      12.6                           25   \n",
       "1                      11.3                           46   \n",
       "2                      12.3                           31   \n",
       "3                      10.1                           58   \n",
       "4                      16.4                           48   \n",
       "\n",
       "  infant_moratatily_rate_rural infant_moratatily_rate_urban  \n",
       "0                           29                           18  \n",
       "1                           51                           33  \n",
       "2                           34                           12  \n",
       "3                           60                           36  \n",
       "4                           49                           38  "
      ]
     },
     "execution_count": 172,
     "metadata": {},
     "output_type": "execute_result"
    }
   ],
   "source": [
    "regional_stats_df = pd.DataFrame(regional_stats_dict)\n",
    "regional_stats_df.columns = ['state','birth_rate_total','birth_rate_rural','birth_rate_urban','death_rate_total','death_rate_rural','death_rate_urban','natural_growth_rate_total','natural_growth_rate_rural','natural_growth_rate_urban','infant_moratatily_rate_total','infant_moratatily_rate_rural','infant_moratatily_rate_urban']\n",
    "print(f\"Number of observations:{regional_stats_df.shape}\")\n",
    "regional_stats_df.head()"
   ]
  },
  {
   "cell_type": "markdown",
   "metadata": {},
   "source": [
    "- Values in columns are separated by commas. Eg. Population column in pop_under_british_df\n",
    "- Missing data is represented by '-'\n",
    "- Multiple information is available in one column\n",
    "- Total fertitliy column has '~' before number\n",
    "- dtype of certain columns should be int or float instead of string object\n",
    "\n",
    "Copy Dataframes into another to move to cleaning process."
   ]
  },
  {
   "cell_type": "code",
   "execution_count": 173,
   "metadata": {},
   "outputs": [],
   "source": [
    "pop_under_british_df_clean = pop_under_british_df.copy()\n",
    "regional_stats_df_clean = regional_stats_df.copy()\n",
    "fertility_rate_df_clean = fertility_rate_df.copy()\n",
    "crude_birth_rate_df_clean = crude_birth_rate_df.copy()\n",
    "pop_struc_2016_df_clean = pop_struc_2016_df.copy()\n",
    "pop_struc_df_clean =  pop_struc_df.copy()\n",
    "census_df_clean =  census_df.copy()\n",
    "un_stat_df_clean =  un_stat_df.copy()\n",
    "native_speakers_df_clean =  native_speakers_df.copy()\n",
    "literacy_rate_df_clean =  literacy_rate_df.copy()\n",
    "pop_abv_7_df_clean =  pop_abv_7_df.copy()\n",
    "pop_bet_age_0_6_df_clean =  pop_bet_age_0_6_df.copy()\n",
    "pop_dist_by_states_df_clean =  pop_dist_by_states_df.copy()\n",
    "pop_per_decade_df_clean = pop_per_decade_df.copy()\n",
    "life_expe_df_clean = life_expe_df.copy()\n",
    "largest_cities_df_clean = largest_cities_df.copy()"
   ]
  },
  {
   "cell_type": "markdown",
   "metadata": {},
   "source": [
    "- Get rows containing '~' and replace them with space."
   ]
  },
  {
   "cell_type": "code",
   "execution_count": 176,
   "metadata": {},
   "outputs": [],
   "source": [
    "mask = census_df_clean['Total fertility rate'].str.contains('~')\n",
    "census_df_clean.loc[mask, 'Total fertility rate'] = census_df_clean.loc[mask, 'Total fertility rate'].str.replace('~', '')"
   ]
  },
  {
   "cell_type": "code",
   "execution_count": 177,
   "metadata": {},
   "outputs": [
    {
     "data": {
      "text/plain": [
       "31     2.4\n",
       "32     2.3\n",
       "33     2.3\n",
       "34     2.2\n",
       "35     2.2\n",
       "Name: Total fertility rate, dtype: object"
      ]
     },
     "execution_count": 177,
     "metadata": {},
     "output_type": "execute_result"
    }
   ],
   "source": [
    "census_df_clean['Total fertility rate'].tail()"
   ]
  },
  {
   "cell_type": "markdown",
   "metadata": {},
   "source": [
    "- Get rows having '-' and put NaN "
   ]
  },
  {
   "cell_type": "code",
   "execution_count": 243,
   "metadata": {},
   "outputs": [],
   "source": [
    "df_missing_list1 = [pop_abv_7_df_clean, census_df_clean, pop_under_british_df_clean,\n",
    "                  pop_per_decade_df_clean, un_stat_df_clean]\n",
    "\n",
    "errors_missing1 = {}\n",
    "for df in df_missing_list1:\n",
    "    cols = df.columns\n",
    "    for col in cols:\n",
    "        try:\n",
    "            masks = df.loc[:,col] == '–'\n",
    "            df.loc[masks, col] = np.nan\n",
    "        except Exception as e:\n",
    "            errors_missing1[col] = str(e)"
   ]
  },
  {
   "cell_type": "code",
   "execution_count": 244,
   "metadata": {
    "scrolled": true
   },
   "outputs": [
    {
     "data": {
      "text/plain": [
       "{}"
      ]
     },
     "execution_count": 244,
     "metadata": {},
     "output_type": "execute_result"
    }
   ],
   "source": [
    "errors_missing1"
   ]
  },
  {
   "cell_type": "code",
   "execution_count": 245,
   "metadata": {},
   "outputs": [
    {
     "data": {
      "text/html": [
       "<div>\n",
       "<style scoped>\n",
       "    .dataframe tbody tr th:only-of-type {\n",
       "        vertical-align: middle;\n",
       "    }\n",
       "\n",
       "    .dataframe tbody tr th {\n",
       "        vertical-align: top;\n",
       "    }\n",
       "\n",
       "    .dataframe thead th {\n",
       "        text-align: right;\n",
       "    }\n",
       "</style>\n",
       "<table border=\"1\" class=\"dataframe\">\n",
       "  <thead>\n",
       "    <tr style=\"text-align: right;\">\n",
       "      <th></th>\n",
       "      <th>Census year</th>\n",
       "      <th>Population</th>\n",
       "      <th>Growth (%)</th>\n",
       "    </tr>\n",
       "  </thead>\n",
       "  <tbody>\n",
       "    <tr>\n",
       "      <th>0</th>\n",
       "      <td>1871[35]</td>\n",
       "      <td>238,830,958</td>\n",
       "      <td>NaN</td>\n",
       "    </tr>\n",
       "    <tr>\n",
       "      <th>1</th>\n",
       "      <td>1881[36]</td>\n",
       "      <td>253,896,330</td>\n",
       "      <td>6.3</td>\n",
       "    </tr>\n",
       "    <tr>\n",
       "      <th>2</th>\n",
       "      <td>1891[35]</td>\n",
       "      <td>287,223,431</td>\n",
       "      <td>13.1</td>\n",
       "    </tr>\n",
       "    <tr>\n",
       "      <th>3</th>\n",
       "      <td>1901[35]</td>\n",
       "      <td>293,550,310</td>\n",
       "      <td>2.2</td>\n",
       "    </tr>\n",
       "    <tr>\n",
       "      <th>4</th>\n",
       "      <td>1911[37]</td>\n",
       "      <td>315,156,396</td>\n",
       "      <td>7.4</td>\n",
       "    </tr>\n",
       "  </tbody>\n",
       "</table>\n",
       "</div>"
      ],
      "text/plain": [
       "  Census year   Population Growth (%)\n",
       "0    1871[35]  238,830,958        NaN\n",
       "1    1881[36]  253,896,330        6.3\n",
       "2    1891[35]  287,223,431       13.1\n",
       "3    1901[35]  293,550,310        2.2\n",
       "4    1911[37]  315,156,396        7.4"
      ]
     },
     "execution_count": 245,
     "metadata": {},
     "output_type": "execute_result"
    }
   ],
   "source": [
    "pop_under_british_df_clean.head()"
   ]
  },
  {
   "cell_type": "markdown",
   "metadata": {},
   "source": [
    "#### Data Type\n",
    "\n",
    "##### Few of the columns in dataframes are integer type but stored as object also the number are separated by commas.\n",
    "\n",
    "- Create a dictionary with dataframe and an assigned key value.\n",
    "- Apply a for loop to dictionry to take column names of each df in a variable and apply a for loop to check if resp column contains a comma. If yes, then replace it and change the dtype.\n",
    "- if error occurs, collect it in another dictionary and handle it separately."
   ]
  },
  {
   "cell_type": "code",
   "execution_count": 249,
   "metadata": {},
   "outputs": [],
   "source": [
    "df_dict = {0:pop_under_british_df_clean,\n",
    "           1:regional_stats_df_clean,\n",
    "           2:fertility_rate_df_clean,\n",
    "           3:crude_birth_rate_df_clean,\n",
    "           4:pop_struc_2016_df_clean,\n",
    "           5:pop_struc_df_clean,\n",
    "           6:census_df_clean,\n",
    "           7:un_stat_df_clean,\n",
    "           8:native_speakers_df_clean,\n",
    "           9:literacy_rate_df_clean,\n",
    "           10:pop_abv_7_df_clean,\n",
    "           11:pop_bet_age_0_6_df_clean,\n",
    "           12:pop_dist_by_states_df_clean,\n",
    "           13:pop_per_decade_df_clean,\n",
    "           14:life_expe_df_clean,\n",
    "           15:largest_cities_df_clean}"
   ]
  },
  {
   "cell_type": "code",
   "execution_count": 250,
   "metadata": {},
   "outputs": [],
   "source": [
    "errors = {}\n",
    "for key , df in df_dict.items():\n",
    "    cols = df.columns\n",
    "    for col in cols:\n",
    "        if (df[col].str.contains(',')).any():\n",
    "            try:\n",
    "                df[col] = df[col].str.replace(',','').astype(int)\n",
    "            except Exception as e:\n",
    "                errors[key] = col"
   ]
  },
  {
   "cell_type": "code",
   "execution_count": 254,
   "metadata": {},
   "outputs": [
    {
     "name": "stdout",
     "output_type": "stream",
     "text": [
      "{6: 'Natural change', 7: 'Natural change per year', 10: 'Female', 15: 'population'}\n"
     ]
    }
   ],
   "source": [
    "print(errors)"
   ]
  },
  {
   "cell_type": "markdown",
   "metadata": {},
   "source": [
    "#### TEST"
   ]
  },
  {
   "cell_type": "code",
   "execution_count": 257,
   "metadata": {},
   "outputs": [
    {
     "name": "stdout",
     "output_type": "stream",
     "text": [
      "Before Cleaning\n",
      "Census year    object\n",
      "Population     object\n",
      "Growth (%)     object\n",
      "dtype: object\n",
      "After Cleaning\n",
      "Census year    object\n",
      "Population      int32\n",
      "Growth (%)     object\n",
      "dtype: object\n"
     ]
    }
   ],
   "source": [
    "print(f\"Before Cleaning\\n{pop_under_british_df.dtypes}\")\n",
    "print(f\"After Cleaning\\n{pop_under_british_df_clean.dtypes}\")"
   ]
  },
  {
   "cell_type": "markdown",
   "metadata": {},
   "source": [
    "Population columns have now changed to integer type."
   ]
  },
  {
   "cell_type": "markdown",
   "metadata": {},
   "source": [
    "## Exploratory Analysis\n"
   ]
  },
  {
   "cell_type": "code",
   "execution_count": 258,
   "metadata": {},
   "outputs": [],
   "source": [
    "def att_line_plot(X,Y,T,XA,YA):\n",
    "    trace = go.Scatter(\n",
    "     x = X,\n",
    "     y =Y,\n",
    "     mode = 'lines+markers',\n",
    "     marker = dict(size = (Y/ Y.mean())*50,\n",
    "                    color = np.random.randn(len(Y)),\n",
    "                    opacity = 0.6,\n",
    "                    line = dict( color = 'rgb(0,0,0)'))\n",
    "    \n",
    "    )\n",
    "    \n",
    "    layout = dict(title = T, \n",
    "                  xaxis = dict(title = XA),\n",
    "                  yaxis = dict(title = YA))\n",
    "    \n",
    "    data = [trace]\n",
    "    fig = {'data':data,'layout':layout}\n",
    "    return fig"
   ]
  },
  {
   "cell_type": "code",
   "execution_count": 259,
   "metadata": {},
   "outputs": [
    {
     "data": {
      "application/vnd.plotly.v1+json": {
       "config": {
        "linkText": "Export to plot.ly",
        "plotlyServerURL": "https://plot.ly",
        "showLink": false
       },
       "data": [
        {
         "marker": {
          "color": [
           0.08460050726190115,
           -0.8452159555681562,
           0.170351476965599,
           -0.7968548826493967,
           0.6236963383505726,
           1.1549007330532253,
           1.040667110519203,
           2.474634077056601
          ],
          "line": {
           "color": "rgb(0,0,0)"
          },
          "opacity": 0.6,
          "size": [
           39.00179360418042,
           41.46201289164063,
           46.90442590841409,
           47.937623744167965,
           51.46596074797537,
           52.08423933284831,
           57.61944058070409,
           63.524503190069126
          ]
         },
         "mode": "lines+markers",
         "type": "scatter",
         "uid": "cb29e404-ab89-4c1d-9735-ae1cdc537bc4",
         "x": [
          "1871",
          "1881",
          "1891",
          "1901",
          "1911",
          "1921",
          "1931",
          "1941"
         ],
         "y": [
          238830958,
          253896330,
          287223431,
          293550310,
          315156396,
          318942480,
          352837778,
          388997955
         ]
        }
       ],
       "layout": {
        "title": {
         "text": "Population Growth under British Raj"
        },
        "xaxis": {
         "title": {
          "text": "Year"
         }
        },
        "yaxis": {
         "title": {
          "text": "Population in Millions"
         }
        }
       }
      },
      "text/html": [
       "<div id=\"f0ef7008-d4f0-4767-bf0a-57e47ef8389e\" style=\"height: 525px; width: 100%;\" class=\"plotly-graph-div\"></div><script type=\"text/javascript\">require([\"plotly\"], function(Plotly) { window.PLOTLYENV=window.PLOTLYENV || {};window.PLOTLYENV.BASE_URL=\"https://plot.ly\";Plotly.newPlot(\"f0ef7008-d4f0-4767-bf0a-57e47ef8389e\", [{\"marker\": {\"color\": [0.08460050726190115, -0.8452159555681562, 0.170351476965599, -0.7968548826493967, 0.6236963383505726, 1.1549007330532253, 1.040667110519203, 2.474634077056601], \"line\": {\"color\": \"rgb(0,0,0)\"}, \"opacity\": 0.6, \"size\": [39.00179360418042, 41.46201289164063, 46.90442590841409, 47.937623744167965, 51.46596074797537, 52.08423933284831, 57.61944058070409, 63.524503190069126]}, \"mode\": \"lines+markers\", \"x\": [\"1871\", \"1881\", \"1891\", \"1901\", \"1911\", \"1921\", \"1931\", \"1941\"], \"y\": [238830958, 253896330, 287223431, 293550310, 315156396, 318942480, 352837778, 388997955], \"type\": \"scatter\", \"uid\": \"81c3705d-5c46-4c5c-8f9d-df6a1fe0a16c\"}], {\"title\": {\"text\": \"Population Growth under British Raj\"}, \"xaxis\": {\"title\": {\"text\": \"Year\"}}, \"yaxis\": {\"title\": {\"text\": \"Population in Millions\"}}}, {\"showLink\": false, \"linkText\": \"Export to plot.ly\", \"plotlyServerURL\": \"https://plot.ly\"})});</script><script type=\"text/javascript\">window.addEventListener(\"resize\", function(){window._Plotly.Plots.resize(document.getElementById(\"f0ef7008-d4f0-4767-bf0a-57e47ef8389e\"));});</script>"
      ],
      "text/vnd.plotly.v1+html": [
       "<div id=\"f0ef7008-d4f0-4767-bf0a-57e47ef8389e\" style=\"height: 525px; width: 100%;\" class=\"plotly-graph-div\"></div><script type=\"text/javascript\">require([\"plotly\"], function(Plotly) { window.PLOTLYENV=window.PLOTLYENV || {};window.PLOTLYENV.BASE_URL=\"https://plot.ly\";Plotly.newPlot(\"f0ef7008-d4f0-4767-bf0a-57e47ef8389e\", [{\"marker\": {\"color\": [0.08460050726190115, -0.8452159555681562, 0.170351476965599, -0.7968548826493967, 0.6236963383505726, 1.1549007330532253, 1.040667110519203, 2.474634077056601], \"line\": {\"color\": \"rgb(0,0,0)\"}, \"opacity\": 0.6, \"size\": [39.00179360418042, 41.46201289164063, 46.90442590841409, 47.937623744167965, 51.46596074797537, 52.08423933284831, 57.61944058070409, 63.524503190069126]}, \"mode\": \"lines+markers\", \"x\": [\"1871\", \"1881\", \"1891\", \"1901\", \"1911\", \"1921\", \"1931\", \"1941\"], \"y\": [238830958, 253896330, 287223431, 293550310, 315156396, 318942480, 352837778, 388997955], \"type\": \"scatter\", \"uid\": \"81c3705d-5c46-4c5c-8f9d-df6a1fe0a16c\"}], {\"title\": {\"text\": \"Population Growth under British Raj\"}, \"xaxis\": {\"title\": {\"text\": \"Year\"}}, \"yaxis\": {\"title\": {\"text\": \"Population in Millions\"}}}, {\"showLink\": false, \"linkText\": \"Export to plot.ly\", \"plotlyServerURL\": \"https://plot.ly\"})});</script><script type=\"text/javascript\">window.addEventListener(\"resize\", function(){window._Plotly.Plots.resize(document.getElementById(\"f0ef7008-d4f0-4767-bf0a-57e47ef8389e\"));});</script>"
      ]
     },
     "metadata": {},
     "output_type": "display_data"
    }
   ],
   "source": [
    "#Census year has [35] after a year hence remove it.\n",
    "pop_under_british_df_clean['Census year'] = pop_under_british_df_clean['Census year'].apply(lambda x:x.split('[')[0])\n",
    "\n",
    "FIG = att_line_plot(pop_under_british_df_clean['Census year'],pop_under_british_df_clean['Population'],'Population Growth under British Raj','Year','Population in Millions')\n",
    "iplot(FIG)"
   ]
  },
  {
   "cell_type": "markdown",
   "metadata": {},
   "source": [
    "- Population is increased by 63% in 70 years. 1870 -1940."
   ]
  },
  {
   "cell_type": "code",
   "execution_count": 260,
   "metadata": {},
   "outputs": [
    {
     "data": {
      "application/vnd.plotly.v1+json": {
       "config": {
        "linkText": "Export to plot.ly",
        "plotlyServerURL": "https://plot.ly",
        "showLink": false
       },
       "data": [
        {
         "marker": {
          "color": [
           -0.1369349612763202,
           -1.0141400635324405,
           0.3544850671255203,
           2.5156460358350103,
           -0.10704503355531433,
           1.478550777219259,
           0.5955520069418513
          ],
          "line": {
           "color": "rgb(0,0,0)"
          },
          "opacity": 0.6,
          "size": [
           24.695015866238176,
           30.039534113587617,
           37.4889774715225,
           46.73326307398935,
           57.88495414733201,
           70.35594454596436,
           82.80231078136596
          ]
         },
         "mode": "lines+markers",
         "type": "scatter",
         "uid": "46bb2799-6cff-4a9f-aeb7-f1d379edb53d",
         "x": [
          "1951",
          "1961",
          "1971",
          "1981",
          "1991",
          "2001",
          "2011"
         ],
         "y": [
          361088000,
          439235000,
          548160000,
          683329000,
          846387888,
          1028737436,
          1210726932
         ]
        }
       ],
       "layout": {
        "title": {
         "text": "Population Growth after Independence"
        },
        "xaxis": {
         "title": {
          "text": "Year"
         }
        },
        "yaxis": {
         "title": {
          "text": "Population in Billions"
         }
        }
       }
      },
      "text/html": [
       "<div id=\"1ee71aee-bb8f-4c94-a7f4-2baf3f44b7b8\" style=\"height: 525px; width: 100%;\" class=\"plotly-graph-div\"></div><script type=\"text/javascript\">require([\"plotly\"], function(Plotly) { window.PLOTLYENV=window.PLOTLYENV || {};window.PLOTLYENV.BASE_URL=\"https://plot.ly\";Plotly.newPlot(\"1ee71aee-bb8f-4c94-a7f4-2baf3f44b7b8\", [{\"marker\": {\"color\": [-0.1369349612763202, -1.0141400635324405, 0.3544850671255203, 2.5156460358350103, -0.10704503355531433, 1.478550777219259, 0.5955520069418513], \"line\": {\"color\": \"rgb(0,0,0)\"}, \"opacity\": 0.6, \"size\": [24.695015866238176, 30.039534113587617, 37.4889774715225, 46.73326307398935, 57.88495414733201, 70.35594454596436, 82.80231078136596]}, \"mode\": \"lines+markers\", \"x\": [\"1951\", \"1961\", \"1971\", \"1981\", \"1991\", \"2001\", \"2011\"], \"y\": [361088000, 439235000, 548160000, 683329000, 846387888, 1028737436, 1210726932], \"type\": \"scatter\", \"uid\": \"ca7f0219-474a-4707-a465-ebd10e40018a\"}], {\"title\": {\"text\": \"Population Growth after Independence\"}, \"xaxis\": {\"title\": {\"text\": \"Year\"}}, \"yaxis\": {\"title\": {\"text\": \"Population in Billions\"}}}, {\"showLink\": false, \"linkText\": \"Export to plot.ly\", \"plotlyServerURL\": \"https://plot.ly\"})});</script><script type=\"text/javascript\">window.addEventListener(\"resize\", function(){window._Plotly.Plots.resize(document.getElementById(\"1ee71aee-bb8f-4c94-a7f4-2baf3f44b7b8\"));});</script>"
      ],
      "text/vnd.plotly.v1+html": [
       "<div id=\"1ee71aee-bb8f-4c94-a7f4-2baf3f44b7b8\" style=\"height: 525px; width: 100%;\" class=\"plotly-graph-div\"></div><script type=\"text/javascript\">require([\"plotly\"], function(Plotly) { window.PLOTLYENV=window.PLOTLYENV || {};window.PLOTLYENV.BASE_URL=\"https://plot.ly\";Plotly.newPlot(\"1ee71aee-bb8f-4c94-a7f4-2baf3f44b7b8\", [{\"marker\": {\"color\": [-0.1369349612763202, -1.0141400635324405, 0.3544850671255203, 2.5156460358350103, -0.10704503355531433, 1.478550777219259, 0.5955520069418513], \"line\": {\"color\": \"rgb(0,0,0)\"}, \"opacity\": 0.6, \"size\": [24.695015866238176, 30.039534113587617, 37.4889774715225, 46.73326307398935, 57.88495414733201, 70.35594454596436, 82.80231078136596]}, \"mode\": \"lines+markers\", \"x\": [\"1951\", \"1961\", \"1971\", \"1981\", \"1991\", \"2001\", \"2011\"], \"y\": [361088000, 439235000, 548160000, 683329000, 846387888, 1028737436, 1210726932], \"type\": \"scatter\", \"uid\": \"ca7f0219-474a-4707-a465-ebd10e40018a\"}], {\"title\": {\"text\": \"Population Growth after Independence\"}, \"xaxis\": {\"title\": {\"text\": \"Year\"}}, \"yaxis\": {\"title\": {\"text\": \"Population in Billions\"}}}, {\"showLink\": false, \"linkText\": \"Export to plot.ly\", \"plotlyServerURL\": \"https://plot.ly\"})});</script><script type=\"text/javascript\">window.addEventListener(\"resize\", function(){window._Plotly.Plots.resize(document.getElementById(\"1ee71aee-bb8f-4c94-a7f4-2baf3f44b7b8\"));});</script>"
      ]
     },
     "metadata": {},
     "output_type": "display_data"
    }
   ],
   "source": [
    "FIG = att_line_plot(pop_per_decade_df_clean['Census year'],pop_per_decade_df_clean['Population'],'Population Growth after Independence','Year','Population in Billions')\n",
    "iplot(FIG)"
   ]
  },
  {
   "cell_type": "markdown",
   "metadata": {},
   "source": [
    "- In next 60 years population increased by 235%.\n",
    "- From 1970 to 2010 population almost doubled to 1.2 Billion.\n",
    "- Decade population growth rate was 1.77%.(2001 to 2010)"
   ]
  }
 ],
 "metadata": {
  "kernelspec": {
   "display_name": "Python 3",
   "language": "python",
   "name": "python3"
  },
  "language_info": {
   "codemirror_mode": {
    "name": "ipython",
    "version": 3
   },
   "file_extension": ".py",
   "mimetype": "text/x-python",
   "name": "python",
   "nbconvert_exporter": "python",
   "pygments_lexer": "ipython3",
   "version": "3.7.0"
  }
 },
 "nbformat": 4,
 "nbformat_minor": 2
}
