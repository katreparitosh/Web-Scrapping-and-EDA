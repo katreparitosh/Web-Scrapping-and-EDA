{
 "cells": [
  {
   "cell_type": "code",
   "execution_count": 1,
   "metadata": {},
   "outputs": [
    {
     "data": {
      "text/html": [
       "<script type=\"text/javascript\">window.PlotlyConfig = {MathJaxConfig: 'local'};</script><script type=\"text/javascript\">if (window.MathJax) {MathJax.Hub.Config({SVG: {font: \"STIX-Web\"}});}</script><script>requirejs.config({paths: { 'plotly': ['https://cdn.plot.ly/plotly-latest.min']},});if(!window._Plotly) {require(['plotly'],function(plotly) {window._Plotly=plotly;});}</script>"
      ],
      "text/vnd.plotly.v1+html": [
       "<script type=\"text/javascript\">window.PlotlyConfig = {MathJaxConfig: 'local'};</script><script type=\"text/javascript\">if (window.MathJax) {MathJax.Hub.Config({SVG: {font: \"STIX-Web\"}});}</script><script>requirejs.config({paths: { 'plotly': ['https://cdn.plot.ly/plotly-latest.min']},});if(!window._Plotly) {require(['plotly'],function(plotly) {window._Plotly=plotly;});}</script>"
      ]
     },
     "metadata": {},
     "output_type": "display_data"
    }
   ],
   "source": [
    "# import necessary libraries\n",
    "import pandas as pd\n",
    "import numpy as np\n",
    "% matplotlib inline\n",
    "from matplotlib import pyplot as plt\n",
    "import seaborn as sns\n",
    "import requests\n",
    "from bs4 import BeautifulSoup  \n",
    "import plotly.plotly as py\n",
    "from plotly.offline import init_notebook_mode, iplot\n",
    "init_notebook_mode(connected = True)\n",
    "import plotly.graph_objs as go\n",
    "from plotly import tools"
   ]
  },
  {
   "cell_type": "markdown",
   "metadata": {},
   "source": [
    "## DATA GATHERING"
   ]
  },
  {
   "cell_type": "code",
   "execution_count": 2,
   "metadata": {},
   "outputs": [
    {
     "data": {
      "text/plain": [
       "<Response [200]>"
      ]
     },
     "execution_count": 2,
     "metadata": {},
     "output_type": "execute_result"
    }
   ],
   "source": [
    "url = 'https://en.wikipedia.org/wiki/Demographics_of_India'\n",
    "response = requests.get(url)\n",
    "response"
   ]
  },
  {
   "cell_type": "code",
   "execution_count": 3,
   "metadata": {},
   "outputs": [],
   "source": [
    "#create beautifulsoup\n",
    "soup = BeautifulSoup(response.content, 'lxml')"
   ]
  },
  {
   "cell_type": "code",
   "execution_count": 14,
   "metadata": {},
   "outputs": [
    {
     "name": "stdout",
     "output_type": "stream",
     "text": [
      "Number of tables : 18\n"
     ]
    }
   ],
   "source": [
    "# get all tables data - id starts from 0.\n",
    "\n",
    "all_tables = soup.find_all('table', class_ = 'wikitable sortable')\n",
    "print(f\"Number of tables : {len(all_tables)}\")"
   ]
  },
  {
   "cell_type": "code",
   "execution_count": 15,
   "metadata": {},
   "outputs": [
    {
     "data": {
      "text/plain": [
       "<table class=\"wikitable sortable\" style=\"text-align:right\">\n",
       "<tbody><tr>\n",
       "<th>Years</th>\n",
       "<th>1880</th>\n",
       "<th>1881</th>\n",
       "<th>1882</th>\n",
       "<th>1883</th>\n",
       "<th>1884</th>\n",
       "<th>1885</th>\n",
       "<th>1886</th>\n",
       "<th>1887</th>\n",
       "<th>1888</th>\n",
       "<th>1889</th>\n",
       "<th>1890</th>\n",
       "<th>1902<sup class=\"reference\" id=\"cite_ref-ourworldindata.org_33-1\"><a href=\"#cite_note-ourworldindata.org-33\">[33]</a></sup>\n",
       "</th></tr>\n",
       "<tr>\n",
       "<td align=\"left\">Total Fertility Rate in India</td>\n",
       "<td style=\"text-align:right; color:blue;\">5.95</td>\n",
       "<td style=\"text-align:right; color:blue;\">5.92</td>\n",
       "<td style=\"text-align:right; color:blue;\">5.89</td>\n",
       "<td style=\"text-align:right; color:blue;\">5.86</td>\n",
       "<td style=\"text-align:right; color:blue;\">5.82</td>\n",
       "<td style=\"text-align:right; color:blue;\">5.79</td>\n",
       "<td style=\"text-align:right; color:blue;\">4.38</td>\n",
       "<td style=\"text-align:right; color:blue;\">5.76</td>\n",
       "<td style=\"text-align:right; color:blue;\">5.76</td>\n",
       "<td style=\"text-align:right; color:blue;\">5.75</td>\n",
       "<td style=\"text-align:right; color:blue;\">5.75</td>\n",
       "<td style=\"text-align:right; color:blue;\">5.75\n",
       "</td></tr></tbody></table>"
      ]
     },
     "execution_count": 15,
     "metadata": {},
     "output_type": "execute_result"
    }
   ],
   "source": [
    "all_tables[0]"
   ]
  },
  {
   "cell_type": "code",
   "execution_count": null,
   "metadata": {},
   "outputs": [],
   "source": []
  },
  {
   "cell_type": "markdown",
   "metadata": {},
   "source": [
    "#### FUNCTION -\n",
    "*get_data* function returns a list with only text.\n"
   ]
  },
  {
   "cell_type": "code",
   "execution_count": 8,
   "metadata": {
    "scrolled": true
   },
   "outputs": [],
   "source": [
    "def get_data(all_data):\n",
    "    df_list = []\n",
    "    for data in all_data:\n",
    "        df_list.append(data.text.strip())\n",
    "    return df_list"
   ]
  },
  {
   "cell_type": "code",
   "execution_count": 49,
   "metadata": {},
   "outputs": [
    {
     "data": {
      "text/plain": [
       "'113'"
      ]
     },
     "execution_count": 49,
     "metadata": {},
     "output_type": "execute_result"
    }
   ],
   "source": [
    "'121121341'[0::3]"
   ]
  },
  {
   "cell_type": "markdown",
   "metadata": {},
   "source": [
    "#### FUNCTION - \n",
    "*get_dataframe* function collects soup for **individual table.**\n",
    "It gathers data under `td` then creates a list for each column in respective table.\n",
    "\n",
    "To create dataframe we need *dictionary* structure, therefore create a dictionary *df_dict* which takes i in every column.\n",
    "\n",
    "`sample` : it contains the table number returned by all_tables.\n",
    "\n",
    "`num`    : it contains number of columns the table has, inspecting the page."
   ]
  },
  {
   "cell_type": "code",
   "execution_count": 52,
   "metadata": {},
   "outputs": [],
   "source": [
    "def get_dataframe(sample,num):\n",
    "    all_data = sample.find_all('td')\n",
    "    df_list = []\n",
    "    for i in range(num):\n",
    "        df_list.append(all_data[i::num])\n",
    "        \n",
    "    df_dict = {i:[] for i in range(num)}\n",
    "    for i in range(len(df_dict)):\n",
    "        data = get_data(df_list[i])\n",
    "        df_dict[i] = data\n",
    "    title = collect_col_names(sample)\n",
    "    return df_dict,title"
   ]
  },
  {
   "cell_type": "code",
   "execution_count": 53,
   "metadata": {},
   "outputs": [],
   "source": [
    "# collect_col_names function collectes column name of each table\n",
    "def collect_col_names(sample):\n",
    "    all_data = sample.find_all('th')\n",
    "    col_title=  [] \n",
    "    for header in all_data:\n",
    "        col_title.append(header.text.strip())\n",
    "    return col_title"
   ]
  },
  {
   "cell_type": "code",
   "execution_count": 54,
   "metadata": {},
   "outputs": [],
   "source": [
    "pop_under_british_dict,pop_under_british_cols = get_dataframe(all_tables[2],3)\n",
    "\n",
    "pop_per_decade_dict,pop_per_decade_cols = get_dataframe(all_tables[3],3)\n",
    "\n",
    "pop_dist_by_states_dict,pop_dist_by_states_cols = get_dataframe(all_tables[4],12)\n",
    "\n",
    "pop_bet_age_0_6_dict,pop_bet_age_0_6_cols = get_dataframe(all_tables[7],6)\n",
    "\n",
    "pop_abv_7_dict,pop_abv_7_cols = get_dataframe(all_tables[8],5)\n",
    "\n",
    "literacy_rate_dict,literacy_rate_cols = get_dataframe(all_tables[9],5)\n",
    "\n",
    "native_speakers_dict,native_speakers_cols = get_dataframe(all_tables[10],4)\n",
    "\n",
    "un_stat_dict,un_stat_cols = get_dataframe(all_tables[11],9)\n",
    "\n",
    "census_dict,census_cols = get_dataframe(all_tables[12],9)\n",
    "\n",
    "pop_struc_dict,pop_struc_cols = get_dataframe(all_tables[13],5)\n",
    "\n",
    "pop_struc_2016_dict,pop_struc_2016_cols = get_dataframe(all_tables[14],4)\n",
    "\n",
    "fertility_rate_dict,fertility_rate_cols = get_dataframe(all_tables[15],7)\n",
    "\n",
    "crude_birth_rate_dict,crude_birth_rate_cols = get_dataframe(all_tables[16],7)\n",
    "\n",
    "regional_stats_dict,regional_stats_cols = get_dataframe(all_tables[17],13)"
   ]
  },
  {
   "cell_type": "code",
   "execution_count": 57,
   "metadata": {},
   "outputs": [
    {
     "data": {
      "text/plain": [
       "{0: ['1871[35]',\n",
       "  '1881[36]',\n",
       "  '1891[35]',\n",
       "  '1901[35]',\n",
       "  '1911[37]',\n",
       "  '1921[37]',\n",
       "  '1931[37]',\n",
       "  '1941[37]'],\n",
       " 1: ['238,830,958',\n",
       "  '253,896,330',\n",
       "  '287,223,431',\n",
       "  '293,550,310',\n",
       "  '315,156,396',\n",
       "  '318,942,480',\n",
       "  '352,837,778',\n",
       "  '388,997,955'],\n",
       " 2: ['–', '6.3', '13.1', '2.2', '7.4', '1.2', '10.6', '10.2']}"
      ]
     },
     "execution_count": 57,
     "metadata": {},
     "output_type": "execute_result"
    }
   ],
   "source": [
    "pop_under_british_dict"
   ]
  },
  {
   "cell_type": "code",
   "execution_count": 58,
   "metadata": {},
   "outputs": [
    {
     "data": {
      "text/plain": [
       "['Census year', 'Population', 'Growth (%)']"
      ]
     },
     "execution_count": 58,
     "metadata": {},
     "output_type": "execute_result"
    }
   ],
   "source": [
    "pop_under_british_cols"
   ]
  },
  {
   "cell_type": "code",
   "execution_count": 62,
   "metadata": {},
   "outputs": [
    {
     "data": {
      "text/html": [
       "<div>\n",
       "<style scoped>\n",
       "    .dataframe tbody tr th:only-of-type {\n",
       "        vertical-align: middle;\n",
       "    }\n",
       "\n",
       "    .dataframe tbody tr th {\n",
       "        vertical-align: top;\n",
       "    }\n",
       "\n",
       "    .dataframe thead th {\n",
       "        text-align: right;\n",
       "    }\n",
       "</style>\n",
       "<table border=\"1\" class=\"dataframe\">\n",
       "  <thead>\n",
       "    <tr style=\"text-align: right;\">\n",
       "      <th></th>\n",
       "      <th>city</th>\n",
       "      <th>state</th>\n",
       "      <th>population</th>\n",
       "    </tr>\n",
       "  </thead>\n",
       "  <tbody>\n",
       "    <tr>\n",
       "      <th>0</th>\n",
       "      <td>Mumbai</td>\n",
       "      <td>Maharashtra</td>\n",
       "      <td>12,478,447</td>\n",
       "    </tr>\n",
       "    <tr>\n",
       "      <th>1</th>\n",
       "      <td>Kanpur</td>\n",
       "      <td>Uttar Pradesh</td>\n",
       "      <td>2,920,067</td>\n",
       "    </tr>\n",
       "    <tr>\n",
       "      <th>2</th>\n",
       "      <td>Delhi</td>\n",
       "      <td>Delhi</td>\n",
       "      <td>11,007,835</td>\n",
       "    </tr>\n",
       "    <tr>\n",
       "      <th>3</th>\n",
       "      <td>Lucknow</td>\n",
       "      <td>Uttar Pradesh</td>\n",
       "      <td>2,901,474</td>\n",
       "    </tr>\n",
       "    <tr>\n",
       "      <th>4</th>\n",
       "      <td>Bangalore</td>\n",
       "      <td>Karnataka</td>\n",
       "      <td>8,425,970</td>\n",
       "    </tr>\n",
       "  </tbody>\n",
       "</table>\n",
       "</div>"
      ],
      "text/plain": [
       "        city          state  population\n",
       "0     Mumbai    Maharashtra  12,478,447\n",
       "1     Kanpur  Uttar Pradesh   2,920,067\n",
       "2      Delhi          Delhi  11,007,835\n",
       "3    Lucknow  Uttar Pradesh   2,901,474\n",
       "4  Bangalore      Karnataka   8,425,970"
      ]
     },
     "execution_count": 62,
     "metadata": {},
     "output_type": "execute_result"
    }
   ],
   "source": [
    "lc = soup.find_all('table', class_ = 'navbox')[0].find_all('td')[1:]\n",
    "largest_cities = []\n",
    "for i in lc:\n",
    "    largest_cities.append(i.text.strip())\n",
    "\n",
    "index = largest_cities.index('BangaloreHyderabad')\n",
    "\n",
    "del largest_cities[index]\n",
    "\n",
    "df_dict = {}\n",
    "for i in range(1,4):\n",
    "    df_dict[i] = largest_cities[i::4]\n",
    "\n",
    "    \n",
    "largest_cities_df = pd.DataFrame(df_dict)\n",
    "largest_cities_df.columns = ['city','state','population']\n",
    "largest_cities_df.head()"
   ]
  },
  {
   "cell_type": "code",
   "execution_count": 63,
   "metadata": {},
   "outputs": [
    {
     "data": {
      "text/html": [
       "<div>\n",
       "<style scoped>\n",
       "    .dataframe tbody tr th:only-of-type {\n",
       "        vertical-align: middle;\n",
       "    }\n",
       "\n",
       "    .dataframe tbody tr th {\n",
       "        vertical-align: top;\n",
       "    }\n",
       "\n",
       "    .dataframe thead th {\n",
       "        text-align: right;\n",
       "    }\n",
       "</style>\n",
       "<table border=\"1\" class=\"dataframe\">\n",
       "  <thead>\n",
       "    <tr style=\"text-align: right;\">\n",
       "      <th></th>\n",
       "      <th>period</th>\n",
       "      <th>life_expec_in_years</th>\n",
       "    </tr>\n",
       "  </thead>\n",
       "  <tbody>\n",
       "    <tr>\n",
       "      <th>0</th>\n",
       "      <td>1950–1955</td>\n",
       "      <td>36.6</td>\n",
       "    </tr>\n",
       "    <tr>\n",
       "      <th>1</th>\n",
       "      <td>1985–1990</td>\n",
       "      <td>56.7</td>\n",
       "    </tr>\n",
       "    <tr>\n",
       "      <th>2</th>\n",
       "      <td>1955–1960</td>\n",
       "      <td>39.7</td>\n",
       "    </tr>\n",
       "    <tr>\n",
       "      <th>3</th>\n",
       "      <td>1990–1995</td>\n",
       "      <td>59.1</td>\n",
       "    </tr>\n",
       "    <tr>\n",
       "      <th>4</th>\n",
       "      <td>1960–1965</td>\n",
       "      <td>42.7</td>\n",
       "    </tr>\n",
       "  </tbody>\n",
       "</table>\n",
       "</div>"
      ],
      "text/plain": [
       "      period life_expec_in_years\n",
       "0  1950–1955                36.6\n",
       "1  1985–1990                56.7\n",
       "2  1955–1960                39.7\n",
       "3  1990–1995                59.1\n",
       "4  1960–1965                42.7"
      ]
     },
     "execution_count": 63,
     "metadata": {},
     "output_type": "execute_result"
    }
   ],
   "source": [
    "life_expec = soup.find_all('table',class_ = 'wikitable')[18]\n",
    "life_dict = {i:[] for i in range(2)}\n",
    "life_dict\n",
    "\n",
    "life_expectaion = []\n",
    "for i in range(0,2):\n",
    "    life_expectaion.append(life_expec.find_all('td')[i::2])\n",
    "    \n",
    "for i in range(len(life_dict)):\n",
    "    data = get_data(life_expectaion[i])\n",
    "    life_dict[i] = data\n",
    "    \n",
    "life_expe_df = pd.DataFrame(life_dict)\n",
    "life_expe_df.columns = ['period','life_expec_in_years']\n",
    "life_expe_df.head()"
   ]
  },
  {
   "cell_type": "markdown",
   "metadata": {},
   "source": [
    "## DATA CLEANING"
   ]
  },
  {
   "cell_type": "markdown",
   "metadata": {},
   "source": [
    "*create_dataframe* function return a dataframe by a taking dictionary and column names. "
   ]
  },
  {
   "cell_type": "code",
   "execution_count": 65,
   "metadata": {},
   "outputs": [],
   "source": [
    "def create_dataframe(df,cols):\n",
    "    df=pd.DataFrame(df)\n",
    "    df.columns = cols\n",
    "    return df"
   ]
  },
  {
   "cell_type": "markdown",
   "metadata": {},
   "source": [
    "### Dataframe has population and growth % under british raj."
   ]
  },
  {
   "cell_type": "code",
   "execution_count": 68,
   "metadata": {},
   "outputs": [
    {
     "name": "stdout",
     "output_type": "stream",
     "text": [
      "Number of obseration:(8, 3)\n"
     ]
    },
    {
     "data": {
      "text/html": [
       "<div>\n",
       "<style scoped>\n",
       "    .dataframe tbody tr th:only-of-type {\n",
       "        vertical-align: middle;\n",
       "    }\n",
       "\n",
       "    .dataframe tbody tr th {\n",
       "        vertical-align: top;\n",
       "    }\n",
       "\n",
       "    .dataframe thead th {\n",
       "        text-align: right;\n",
       "    }\n",
       "</style>\n",
       "<table border=\"1\" class=\"dataframe\">\n",
       "  <thead>\n",
       "    <tr style=\"text-align: right;\">\n",
       "      <th></th>\n",
       "      <th>Census year</th>\n",
       "      <th>Population</th>\n",
       "      <th>Growth (%)</th>\n",
       "    </tr>\n",
       "  </thead>\n",
       "  <tbody>\n",
       "    <tr>\n",
       "      <th>0</th>\n",
       "      <td>1871[35]</td>\n",
       "      <td>238,830,958</td>\n",
       "      <td>–</td>\n",
       "    </tr>\n",
       "    <tr>\n",
       "      <th>1</th>\n",
       "      <td>1881[36]</td>\n",
       "      <td>253,896,330</td>\n",
       "      <td>6.3</td>\n",
       "    </tr>\n",
       "    <tr>\n",
       "      <th>2</th>\n",
       "      <td>1891[35]</td>\n",
       "      <td>287,223,431</td>\n",
       "      <td>13.1</td>\n",
       "    </tr>\n",
       "    <tr>\n",
       "      <th>3</th>\n",
       "      <td>1901[35]</td>\n",
       "      <td>293,550,310</td>\n",
       "      <td>2.2</td>\n",
       "    </tr>\n",
       "    <tr>\n",
       "      <th>4</th>\n",
       "      <td>1911[37]</td>\n",
       "      <td>315,156,396</td>\n",
       "      <td>7.4</td>\n",
       "    </tr>\n",
       "  </tbody>\n",
       "</table>\n",
       "</div>"
      ],
      "text/plain": [
       "  Census year   Population Growth (%)\n",
       "0    1871[35]  238,830,958          –\n",
       "1    1881[36]  253,896,330        6.3\n",
       "2    1891[35]  287,223,431       13.1\n",
       "3    1901[35]  293,550,310        2.2\n",
       "4    1911[37]  315,156,396        7.4"
      ]
     },
     "execution_count": 68,
     "metadata": {},
     "output_type": "execute_result"
    }
   ],
   "source": [
    "pop_under_british_df = create_dataframe(pop_under_british_dict,pop_under_british_cols)\n",
    "print(f'Number of obseration:{pop_under_british_df.shape}')\n",
    "pop_under_british_df.head()"
   ]
  },
  {
   "cell_type": "markdown",
   "metadata": {},
   "source": [
    "### Dataframe has information about population growth per decade."
   ]
  },
  {
   "cell_type": "code",
   "execution_count": 73,
   "metadata": {},
   "outputs": [
    {
     "name": "stdout",
     "output_type": "stream",
     "text": [
      "Number of observations:(7, 3)\n"
     ]
    },
    {
     "data": {
      "text/html": [
       "<div>\n",
       "<style scoped>\n",
       "    .dataframe tbody tr th:only-of-type {\n",
       "        vertical-align: middle;\n",
       "    }\n",
       "\n",
       "    .dataframe tbody tr th {\n",
       "        vertical-align: top;\n",
       "    }\n",
       "\n",
       "    .dataframe thead th {\n",
       "        text-align: right;\n",
       "    }\n",
       "</style>\n",
       "<table border=\"1\" class=\"dataframe\">\n",
       "  <thead>\n",
       "    <tr style=\"text-align: right;\">\n",
       "      <th></th>\n",
       "      <th>Census year</th>\n",
       "      <th>Population</th>\n",
       "      <th>Change (%)</th>\n",
       "    </tr>\n",
       "  </thead>\n",
       "  <tbody>\n",
       "    <tr>\n",
       "      <th>0</th>\n",
       "      <td>1951</td>\n",
       "      <td>361,088,000</td>\n",
       "      <td>–</td>\n",
       "    </tr>\n",
       "    <tr>\n",
       "      <th>1</th>\n",
       "      <td>1961</td>\n",
       "      <td>439,235,000</td>\n",
       "      <td>21.6</td>\n",
       "    </tr>\n",
       "    <tr>\n",
       "      <th>2</th>\n",
       "      <td>1971</td>\n",
       "      <td>548,160,000</td>\n",
       "      <td>24.8</td>\n",
       "    </tr>\n",
       "    <tr>\n",
       "      <th>3</th>\n",
       "      <td>1981</td>\n",
       "      <td>683,329,000</td>\n",
       "      <td>24.7</td>\n",
       "    </tr>\n",
       "    <tr>\n",
       "      <th>4</th>\n",
       "      <td>1991</td>\n",
       "      <td>846,387,888</td>\n",
       "      <td>23.9</td>\n",
       "    </tr>\n",
       "  </tbody>\n",
       "</table>\n",
       "</div>"
      ],
      "text/plain": [
       "  Census year   Population Change (%)\n",
       "0        1951  361,088,000          –\n",
       "1        1961  439,235,000       21.6\n",
       "2        1971  548,160,000       24.8\n",
       "3        1981  683,329,000       24.7\n",
       "4        1991  846,387,888       23.9"
      ]
     },
     "execution_count": 73,
     "metadata": {},
     "output_type": "execute_result"
    }
   ],
   "source": [
    "pop_per_decade_df = create_dataframe(pop_per_decade_dict, pop_per_decade_cols)\n",
    "print(f'Number of observations:{pop_per_decade_df.shape}')\n",
    "pop_per_decade_df.head()"
   ]
  },
  {
   "cell_type": "markdown",
   "metadata": {},
   "source": [
    "### Dataframe has information about population distribution by states."
   ]
  },
  {
   "cell_type": "code",
   "execution_count": 74,
   "metadata": {},
   "outputs": [
    {
     "name": "stdout",
     "output_type": "stream",
     "text": [
      "['Rank', 'State/UT', 'Population[51]', 'Percent (%)', 'Male', 'Female', 'Difference between male and female', 'Sex Ratio', 'Rural[52]', 'Urban[52]', 'Area[53] (km2)', 'Density (per km2)']\n"
     ]
    }
   ],
   "source": [
    "print(pop_dist_by_states_cols[:-12])"
   ]
  },
  {
   "cell_type": "code",
   "execution_count": 76,
   "metadata": {},
   "outputs": [
    {
     "name": "stdout",
     "output_type": "stream",
     "text": [
      "Number of observations:(36, 12)\n"
     ]
    },
    {
     "data": {
      "text/html": [
       "<div>\n",
       "<style scoped>\n",
       "    .dataframe tbody tr th:only-of-type {\n",
       "        vertical-align: middle;\n",
       "    }\n",
       "\n",
       "    .dataframe tbody tr th {\n",
       "        vertical-align: top;\n",
       "    }\n",
       "\n",
       "    .dataframe thead th {\n",
       "        text-align: right;\n",
       "    }\n",
       "</style>\n",
       "<table border=\"1\" class=\"dataframe\">\n",
       "  <thead>\n",
       "    <tr style=\"text-align: right;\">\n",
       "      <th></th>\n",
       "      <th>Rank</th>\n",
       "      <th>State/UT</th>\n",
       "      <th>Population[51]</th>\n",
       "      <th>Percent (%)</th>\n",
       "      <th>Male</th>\n",
       "      <th>Female</th>\n",
       "      <th>Difference between male and female</th>\n",
       "      <th>Sex Ratio</th>\n",
       "      <th>Rural[52]</th>\n",
       "      <th>Urban[52]</th>\n",
       "      <th>Area[53] (km2)</th>\n",
       "      <th>Density (per km2)</th>\n",
       "    </tr>\n",
       "  </thead>\n",
       "  <tbody>\n",
       "    <tr>\n",
       "      <th>0</th>\n",
       "      <td>1</td>\n",
       "      <td>Uttar Pradesh</td>\n",
       "      <td>199,812,341</td>\n",
       "      <td>16.50</td>\n",
       "      <td>104,480,510</td>\n",
       "      <td>95,331,831</td>\n",
       "      <td>9,148,679</td>\n",
       "      <td>930</td>\n",
       "      <td>155,111,022</td>\n",
       "      <td>44,470,455</td>\n",
       "      <td>240,928</td>\n",
       "      <td>828</td>\n",
       "    </tr>\n",
       "    <tr>\n",
       "      <th>1</th>\n",
       "      <td>2</td>\n",
       "      <td>Maharashtra</td>\n",
       "      <td>112,374,333</td>\n",
       "      <td>9.28</td>\n",
       "      <td>58,243,056</td>\n",
       "      <td>54,131,277</td>\n",
       "      <td>4,111,779</td>\n",
       "      <td>929</td>\n",
       "      <td>61,545,441</td>\n",
       "      <td>50,827,531</td>\n",
       "      <td>307,713</td>\n",
       "      <td>365</td>\n",
       "    </tr>\n",
       "    <tr>\n",
       "      <th>2</th>\n",
       "      <td>3</td>\n",
       "      <td>Bihar</td>\n",
       "      <td>104,099,452</td>\n",
       "      <td>8.60</td>\n",
       "      <td>54,278,157</td>\n",
       "      <td>49,821,295</td>\n",
       "      <td>4,456,862</td>\n",
       "      <td>918</td>\n",
       "      <td>92,075,028</td>\n",
       "      <td>11,729,609</td>\n",
       "      <td>94,163</td>\n",
       "      <td>1,102</td>\n",
       "    </tr>\n",
       "    <tr>\n",
       "      <th>3</th>\n",
       "      <td>4</td>\n",
       "      <td>West Bengal</td>\n",
       "      <td>91,276,115</td>\n",
       "      <td>7.54</td>\n",
       "      <td>46,809,027</td>\n",
       "      <td>44,467,088</td>\n",
       "      <td>2,341,939</td>\n",
       "      <td>950</td>\n",
       "      <td>62,213,676</td>\n",
       "      <td>29,134,060</td>\n",
       "      <td>88,752</td>\n",
       "      <td>1,030</td>\n",
       "    </tr>\n",
       "    <tr>\n",
       "      <th>4</th>\n",
       "      <td>5</td>\n",
       "      <td>Madhya Pradesh</td>\n",
       "      <td>72,626,809</td>\n",
       "      <td>6.00</td>\n",
       "      <td>37,612,306</td>\n",
       "      <td>35,014,503</td>\n",
       "      <td>2,597,803</td>\n",
       "      <td>931</td>\n",
       "      <td>52,537,899</td>\n",
       "      <td>20,059,666</td>\n",
       "      <td>308,245</td>\n",
       "      <td>236</td>\n",
       "    </tr>\n",
       "  </tbody>\n",
       "</table>\n",
       "</div>"
      ],
      "text/plain": [
       "  Rank        State/UT Population[51] Percent (%)         Male      Female  \\\n",
       "0    1   Uttar Pradesh    199,812,341       16.50  104,480,510  95,331,831   \n",
       "1    2     Maharashtra    112,374,333        9.28   58,243,056  54,131,277   \n",
       "2    3           Bihar    104,099,452        8.60   54,278,157  49,821,295   \n",
       "3    4     West Bengal     91,276,115        7.54   46,809,027  44,467,088   \n",
       "4    5  Madhya Pradesh     72,626,809        6.00   37,612,306  35,014,503   \n",
       "\n",
       "  Difference between male and female Sex Ratio    Rural[52]   Urban[52]  \\\n",
       "0                          9,148,679       930  155,111,022  44,470,455   \n",
       "1                          4,111,779       929   61,545,441  50,827,531   \n",
       "2                          4,456,862       918   92,075,028  11,729,609   \n",
       "3                          2,341,939       950   62,213,676  29,134,060   \n",
       "4                          2,597,803       931   52,537,899  20,059,666   \n",
       "\n",
       "  Area[53] (km2) Density (per km2)  \n",
       "0        240,928               828  \n",
       "1        307,713               365  \n",
       "2         94,163             1,102  \n",
       "3         88,752             1,030  \n",
       "4        308,245               236  "
      ]
     },
     "execution_count": 76,
     "metadata": {},
     "output_type": "execute_result"
    }
   ],
   "source": [
    "pop_dist_by_states_df = create_dataframe(pop_dist_by_states_dict, pop_dist_by_states_cols[:-12])\n",
    "print(f'Number of observations:{pop_dist_by_states_df.shape}')\n",
    "pop_dist_by_states_df.head()"
   ]
  },
  {
   "cell_type": "markdown",
   "metadata": {},
   "source": [
    "### Dataframe has information about population distribution between age 0 and 6 by states."
   ]
  },
  {
   "cell_type": "code",
   "execution_count": 87,
   "metadata": {},
   "outputs": [
    {
     "data": {
      "text/plain": [
       "['State or UT code', 'State or UT', 'Total', 'Male', 'Female', 'Difference']"
      ]
     },
     "execution_count": 87,
     "metadata": {},
     "output_type": "execute_result"
    }
   ],
   "source": [
    "pop_bet_age_0_6_cols[:-6]"
   ]
  },
  {
   "cell_type": "code",
   "execution_count": 89,
   "metadata": {},
   "outputs": [
    {
     "name": "stdout",
     "output_type": "stream",
     "text": [
      "Number of observations:(35, 6)\n"
     ]
    },
    {
     "data": {
      "text/html": [
       "<div>\n",
       "<style scoped>\n",
       "    .dataframe tbody tr th:only-of-type {\n",
       "        vertical-align: middle;\n",
       "    }\n",
       "\n",
       "    .dataframe tbody tr th {\n",
       "        vertical-align: top;\n",
       "    }\n",
       "\n",
       "    .dataframe thead th {\n",
       "        text-align: right;\n",
       "    }\n",
       "</style>\n",
       "<table border=\"1\" class=\"dataframe\">\n",
       "  <thead>\n",
       "    <tr style=\"text-align: right;\">\n",
       "      <th></th>\n",
       "      <th>State or UT code</th>\n",
       "      <th>State or UT</th>\n",
       "      <th>Total</th>\n",
       "      <th>Male</th>\n",
       "      <th>Female</th>\n",
       "      <th>Difference</th>\n",
       "    </tr>\n",
       "  </thead>\n",
       "  <tbody>\n",
       "    <tr>\n",
       "      <th>0</th>\n",
       "      <td>1</td>\n",
       "      <td>Jammu and Kashmir</td>\n",
       "      <td>2,008,670</td>\n",
       "      <td>1,080,662</td>\n",
       "      <td>927,982</td>\n",
       "      <td>152,680</td>\n",
       "    </tr>\n",
       "    <tr>\n",
       "      <th>1</th>\n",
       "      <td>2</td>\n",
       "      <td>Himachal Pradesh</td>\n",
       "      <td>763,864</td>\n",
       "      <td>400,681</td>\n",
       "      <td>363,183</td>\n",
       "      <td>37,498</td>\n",
       "    </tr>\n",
       "    <tr>\n",
       "      <th>2</th>\n",
       "      <td>3</td>\n",
       "      <td>Punjab</td>\n",
       "      <td>2,941,570</td>\n",
       "      <td>1,593,262</td>\n",
       "      <td>1,348,308</td>\n",
       "      <td>244,954</td>\n",
       "    </tr>\n",
       "    <tr>\n",
       "      <th>3</th>\n",
       "      <td>4</td>\n",
       "      <td>Chandigarh</td>\n",
       "      <td>117,953</td>\n",
       "      <td>63,187</td>\n",
       "      <td>54,766</td>\n",
       "      <td>8,421</td>\n",
       "    </tr>\n",
       "    <tr>\n",
       "      <th>4</th>\n",
       "      <td>5</td>\n",
       "      <td>Uttarakhand</td>\n",
       "      <td>1,328,844</td>\n",
       "      <td>704,769</td>\n",
       "      <td>624,075</td>\n",
       "      <td>80,694</td>\n",
       "    </tr>\n",
       "  </tbody>\n",
       "</table>\n",
       "</div>"
      ],
      "text/plain": [
       "  State or UT code        State or UT      Total       Male     Female  \\\n",
       "0                1  Jammu and Kashmir  2,008,670  1,080,662    927,982   \n",
       "1                2   Himachal Pradesh    763,864    400,681    363,183   \n",
       "2                3             Punjab  2,941,570  1,593,262  1,348,308   \n",
       "3                4         Chandigarh    117,953     63,187     54,766   \n",
       "4                5        Uttarakhand  1,328,844    704,769    624,075   \n",
       "\n",
       "  Difference  \n",
       "0    152,680  \n",
       "1     37,498  \n",
       "2    244,954  \n",
       "3      8,421  \n",
       "4     80,694  "
      ]
     },
     "execution_count": 89,
     "metadata": {},
     "output_type": "execute_result"
    }
   ],
   "source": [
    "pop_bet_age_0_6_df = create_dataframe(pop_bet_age_0_6_dict, pop_bet_age_0_6_cols[:-6])\n",
    "print(f'Number of observations:{pop_bet_age_0_6_df.shape}')\n",
    "pop_bet_age_0_6_df.head()"
   ]
  },
  {
   "cell_type": "markdown",
   "metadata": {},
   "source": [
    "### Dataframe has information about population distribution above age 7 by states."
   ]
  },
  {
   "cell_type": "code",
   "execution_count": 90,
   "metadata": {},
   "outputs": [
    {
     "data": {
      "text/plain": [
       "['State or UT code', 'State or UT', 'Total', 'Male', 'Female']"
      ]
     },
     "execution_count": 90,
     "metadata": {},
     "output_type": "execute_result"
    }
   ],
   "source": [
    "pop_abv_7_cols[:-5]\n"
   ]
  },
  {
   "cell_type": "code",
   "execution_count": 91,
   "metadata": {},
   "outputs": [
    {
     "name": "stdout",
     "output_type": "stream",
     "text": [
      "Number of observations:(35, 5)\n"
     ]
    },
    {
     "data": {
      "text/html": [
       "<div>\n",
       "<style scoped>\n",
       "    .dataframe tbody tr th:only-of-type {\n",
       "        vertical-align: middle;\n",
       "    }\n",
       "\n",
       "    .dataframe tbody tr th {\n",
       "        vertical-align: top;\n",
       "    }\n",
       "\n",
       "    .dataframe thead th {\n",
       "        text-align: right;\n",
       "    }\n",
       "</style>\n",
       "<table border=\"1\" class=\"dataframe\">\n",
       "  <thead>\n",
       "    <tr style=\"text-align: right;\">\n",
       "      <th></th>\n",
       "      <th>State or UT code</th>\n",
       "      <th>State or UT</th>\n",
       "      <th>Total</th>\n",
       "      <th>Male</th>\n",
       "      <th>Female</th>\n",
       "    </tr>\n",
       "  </thead>\n",
       "  <tbody>\n",
       "    <tr>\n",
       "      <th>0</th>\n",
       "      <td>1</td>\n",
       "      <td>Jammu and Kashmir</td>\n",
       "      <td>–</td>\n",
       "      <td>–</td>\n",
       "      <td>–</td>\n",
       "    </tr>\n",
       "    <tr>\n",
       "      <th>1</th>\n",
       "      <td>2</td>\n",
       "      <td>Himachal Pradesh</td>\n",
       "      <td>–</td>\n",
       "      <td>–</td>\n",
       "      <td>–</td>\n",
       "    </tr>\n",
       "    <tr>\n",
       "      <th>2</th>\n",
       "      <td>3</td>\n",
       "      <td>Punjab</td>\n",
       "      <td>–</td>\n",
       "      <td>–</td>\n",
       "      <td>–</td>\n",
       "    </tr>\n",
       "    <tr>\n",
       "      <th>3</th>\n",
       "      <td>4</td>\n",
       "      <td>Chandigarh</td>\n",
       "      <td>–</td>\n",
       "      <td>–</td>\n",
       "      <td>–</td>\n",
       "    </tr>\n",
       "    <tr>\n",
       "      <th>4</th>\n",
       "      <td>5</td>\n",
       "      <td>Uttarakhand</td>\n",
       "      <td>–</td>\n",
       "      <td>–</td>\n",
       "      <td>–</td>\n",
       "    </tr>\n",
       "  </tbody>\n",
       "</table>\n",
       "</div>"
      ],
      "text/plain": [
       "  State or UT code        State or UT Total Male Female\n",
       "0                1  Jammu and Kashmir     –    –      –\n",
       "1                2   Himachal Pradesh     –    –      –\n",
       "2                3             Punjab     –    –      –\n",
       "3                4         Chandigarh     –    –      –\n",
       "4                5        Uttarakhand     –    –      –"
      ]
     },
     "execution_count": 91,
     "metadata": {},
     "output_type": "execute_result"
    }
   ],
   "source": [
    "pop_abv_7_df = create_dataframe(pop_abv_7_dict,pop_abv_7_cols[:-5])\n",
    "print(f\"Number of observations:{pop_abv_7_df.shape}\")\n",
    "pop_abv_7_df.head()"
   ]
  },
  {
   "cell_type": "markdown",
   "metadata": {},
   "source": [
    "### Dataframe has information about literacy rate by states."
   ]
  },
  {
   "cell_type": "code",
   "execution_count": 92,
   "metadata": {},
   "outputs": [
    {
     "data": {
      "text/plain": [
       "['State or UT code', 'State or UT', 'Overall (%)', 'Male (%)', 'Female (%)']"
      ]
     },
     "execution_count": 92,
     "metadata": {},
     "output_type": "execute_result"
    }
   ],
   "source": [
    "literacy_rate_cols[:-5]"
   ]
  },
  {
   "cell_type": "code",
   "execution_count": 93,
   "metadata": {},
   "outputs": [
    {
     "name": "stdout",
     "output_type": "stream",
     "text": [
      "Number of observations:(35, 5)\n"
     ]
    },
    {
     "data": {
      "text/html": [
       "<div>\n",
       "<style scoped>\n",
       "    .dataframe tbody tr th:only-of-type {\n",
       "        vertical-align: middle;\n",
       "    }\n",
       "\n",
       "    .dataframe tbody tr th {\n",
       "        vertical-align: top;\n",
       "    }\n",
       "\n",
       "    .dataframe thead th {\n",
       "        text-align: right;\n",
       "    }\n",
       "</style>\n",
       "<table border=\"1\" class=\"dataframe\">\n",
       "  <thead>\n",
       "    <tr style=\"text-align: right;\">\n",
       "      <th></th>\n",
       "      <th>State or UT code</th>\n",
       "      <th>State or UT</th>\n",
       "      <th>Overall (%)</th>\n",
       "      <th>Male (%)</th>\n",
       "      <th>Female (%)</th>\n",
       "    </tr>\n",
       "  </thead>\n",
       "  <tbody>\n",
       "    <tr>\n",
       "      <th>0</th>\n",
       "      <td>1</td>\n",
       "      <td>Jammu and Kashmir</td>\n",
       "      <td>86.61</td>\n",
       "      <td>87.26</td>\n",
       "      <td>86.23</td>\n",
       "    </tr>\n",
       "    <tr>\n",
       "      <th>1</th>\n",
       "      <td>2</td>\n",
       "      <td>Himachal Pradesh</td>\n",
       "      <td>83.78</td>\n",
       "      <td>90.83</td>\n",
       "      <td>76.60</td>\n",
       "    </tr>\n",
       "    <tr>\n",
       "      <th>2</th>\n",
       "      <td>3</td>\n",
       "      <td>Punjab</td>\n",
       "      <td>76.60</td>\n",
       "      <td>81.48</td>\n",
       "      <td>71.34</td>\n",
       "    </tr>\n",
       "    <tr>\n",
       "      <th>3</th>\n",
       "      <td>4</td>\n",
       "      <td>Chandigarh</td>\n",
       "      <td>86.43</td>\n",
       "      <td>90.54</td>\n",
       "      <td>81.38</td>\n",
       "    </tr>\n",
       "    <tr>\n",
       "      <th>4</th>\n",
       "      <td>5</td>\n",
       "      <td>Uttarakhand</td>\n",
       "      <td>79.63</td>\n",
       "      <td>88.33</td>\n",
       "      <td>70.70</td>\n",
       "    </tr>\n",
       "  </tbody>\n",
       "</table>\n",
       "</div>"
      ],
      "text/plain": [
       "  State or UT code        State or UT Overall (%) Male (%) Female (%)\n",
       "0                1  Jammu and Kashmir       86.61    87.26      86.23\n",
       "1                2   Himachal Pradesh       83.78    90.83      76.60\n",
       "2                3             Punjab       76.60    81.48      71.34\n",
       "3                4         Chandigarh       86.43    90.54      81.38\n",
       "4                5        Uttarakhand       79.63    88.33      70.70"
      ]
     },
     "execution_count": 93,
     "metadata": {},
     "output_type": "execute_result"
    }
   ],
   "source": [
    "literacy_rate_df = create_dataframe(literacy_rate_dict,literacy_rate_cols[:-5])\n",
    "print(f\"Number of observations:{literacy_rate_df.shape}\")\n",
    "literacy_rate_df.head()"
   ]
  },
  {
   "cell_type": "markdown",
   "metadata": {},
   "source": [
    "### Dataframe has information about languages of india by number of native speakers at the 2001 census."
   ]
  },
  {
   "cell_type": "code",
   "execution_count": 94,
   "metadata": {},
   "outputs": [
    {
     "name": "stdout",
     "output_type": "stream",
     "text": [
      "Number of observations:(29, 4)\n"
     ]
    },
    {
     "data": {
      "text/html": [
       "<div>\n",
       "<style scoped>\n",
       "    .dataframe tbody tr th:only-of-type {\n",
       "        vertical-align: middle;\n",
       "    }\n",
       "\n",
       "    .dataframe tbody tr th {\n",
       "        vertical-align: top;\n",
       "    }\n",
       "\n",
       "    .dataframe thead th {\n",
       "        text-align: right;\n",
       "    }\n",
       "</style>\n",
       "<table border=\"1\" class=\"dataframe\">\n",
       "  <thead>\n",
       "    <tr style=\"text-align: right;\">\n",
       "      <th></th>\n",
       "      <th>Rank</th>\n",
       "      <th>Language</th>\n",
       "      <th>Speakers</th>\n",
       "      <th>Percentage (%)</th>\n",
       "    </tr>\n",
       "  </thead>\n",
       "  <tbody>\n",
       "    <tr>\n",
       "      <th>0</th>\n",
       "      <td>1</td>\n",
       "      <td>Hindi[74]</td>\n",
       "      <td>422,048,642</td>\n",
       "      <td>41.030</td>\n",
       "    </tr>\n",
       "    <tr>\n",
       "      <th>1</th>\n",
       "      <td>2</td>\n",
       "      <td>Bengali</td>\n",
       "      <td>83,369,769</td>\n",
       "      <td>8.110</td>\n",
       "    </tr>\n",
       "    <tr>\n",
       "      <th>2</th>\n",
       "      <td>3</td>\n",
       "      <td>Telugu</td>\n",
       "      <td>74,002,856</td>\n",
       "      <td>7.190</td>\n",
       "    </tr>\n",
       "    <tr>\n",
       "      <th>3</th>\n",
       "      <td>4</td>\n",
       "      <td>Marathi</td>\n",
       "      <td>71,936,894</td>\n",
       "      <td>6.990</td>\n",
       "    </tr>\n",
       "    <tr>\n",
       "      <th>4</th>\n",
       "      <td>5</td>\n",
       "      <td>Tamil</td>\n",
       "      <td>60,793,814</td>\n",
       "      <td>5.910</td>\n",
       "    </tr>\n",
       "  </tbody>\n",
       "</table>\n",
       "</div>"
      ],
      "text/plain": [
       "  Rank   Language     Speakers Percentage (%)\n",
       "0    1  Hindi[74]  422,048,642         41.030\n",
       "1    2    Bengali   83,369,769          8.110\n",
       "2    3     Telugu   74,002,856          7.190\n",
       "3    4    Marathi   71,936,894          6.990\n",
       "4    5      Tamil   60,793,814          5.910"
      ]
     },
     "execution_count": 94,
     "metadata": {},
     "output_type": "execute_result"
    }
   ],
   "source": [
    "native_speakers_df  = create_dataframe(native_speakers_dict,native_speakers_cols)\n",
    "print(f\"Number of observations:{native_speakers_df.shape}\")\n",
    "native_speakers_df.head()"
   ]
  },
  {
   "cell_type": "markdown",
   "metadata": {},
   "source": [
    "### Dataframe has information about United Nations, World Population Prospects: The 2015 revision – India."
   ]
  },
  {
   "cell_type": "code",
   "execution_count": 95,
   "metadata": {},
   "outputs": [
    {
     "name": "stdout",
     "output_type": "stream",
     "text": [
      "Number of observations:(13, 9)\n"
     ]
    },
    {
     "data": {
      "text/html": [
       "<div>\n",
       "<style scoped>\n",
       "    .dataframe tbody tr th:only-of-type {\n",
       "        vertical-align: middle;\n",
       "    }\n",
       "\n",
       "    .dataframe tbody tr th {\n",
       "        vertical-align: top;\n",
       "    }\n",
       "\n",
       "    .dataframe thead th {\n",
       "        text-align: right;\n",
       "    }\n",
       "</style>\n",
       "<table border=\"1\" class=\"dataframe\">\n",
       "  <thead>\n",
       "    <tr style=\"text-align: right;\">\n",
       "      <th></th>\n",
       "      <th>Period</th>\n",
       "      <th>Births per year</th>\n",
       "      <th>Deaths per year</th>\n",
       "      <th>Natural change per year</th>\n",
       "      <th>CBR1</th>\n",
       "      <th>CDR1</th>\n",
       "      <th>NC1</th>\n",
       "      <th>TFR1</th>\n",
       "      <th>IMR1</th>\n",
       "    </tr>\n",
       "  </thead>\n",
       "  <tbody>\n",
       "    <tr>\n",
       "      <th>0</th>\n",
       "      <td>1950–1955</td>\n",
       "      <td>16,832,000</td>\n",
       "      <td>9,928,000</td>\n",
       "      <td>6,904,000</td>\n",
       "      <td>43.3</td>\n",
       "      <td>25.5</td>\n",
       "      <td>17.7</td>\n",
       "      <td>5.90</td>\n",
       "      <td>165.0</td>\n",
       "    </tr>\n",
       "    <tr>\n",
       "      <th>1</th>\n",
       "      <td>1955–1960</td>\n",
       "      <td>17,981,000</td>\n",
       "      <td>9,686,000</td>\n",
       "      <td>8,295,000</td>\n",
       "      <td>42.1</td>\n",
       "      <td>22.7</td>\n",
       "      <td>19.4</td>\n",
       "      <td>5.90</td>\n",
       "      <td>153.1</td>\n",
       "    </tr>\n",
       "    <tr>\n",
       "      <th>2</th>\n",
       "      <td>1960–1965</td>\n",
       "      <td>19,086,000</td>\n",
       "      <td>9,358,000</td>\n",
       "      <td>9,728,000</td>\n",
       "      <td>40.4</td>\n",
       "      <td>19.8</td>\n",
       "      <td>20.6</td>\n",
       "      <td>5.82</td>\n",
       "      <td>140.1</td>\n",
       "    </tr>\n",
       "    <tr>\n",
       "      <th>3</th>\n",
       "      <td>1965–1970</td>\n",
       "      <td>20,611,000</td>\n",
       "      <td>9,057,000</td>\n",
       "      <td>11,554,000</td>\n",
       "      <td>39.2</td>\n",
       "      <td>17.2</td>\n",
       "      <td>22.0</td>\n",
       "      <td>5.69</td>\n",
       "      <td>128.5</td>\n",
       "    </tr>\n",
       "    <tr>\n",
       "      <th>4</th>\n",
       "      <td>1970–1975</td>\n",
       "      <td>22,022,000</td>\n",
       "      <td>8,821,000</td>\n",
       "      <td>13,201,000</td>\n",
       "      <td>37.5</td>\n",
       "      <td>15.0</td>\n",
       "      <td>22.5</td>\n",
       "      <td>5.26</td>\n",
       "      <td>118.0</td>\n",
       "    </tr>\n",
       "  </tbody>\n",
       "</table>\n",
       "</div>"
      ],
      "text/plain": [
       "      Period Births per year Deaths per year Natural change per year  CBR1  \\\n",
       "0  1950–1955      16,832,000       9,928,000               6,904,000  43.3   \n",
       "1  1955–1960      17,981,000       9,686,000               8,295,000  42.1   \n",
       "2  1960–1965      19,086,000       9,358,000               9,728,000  40.4   \n",
       "3  1965–1970      20,611,000       9,057,000              11,554,000  39.2   \n",
       "4  1970–1975      22,022,000       8,821,000              13,201,000  37.5   \n",
       "\n",
       "   CDR1   NC1  TFR1   IMR1  \n",
       "0  25.5  17.7  5.90  165.0  \n",
       "1  22.7  19.4  5.90  153.1  \n",
       "2  19.8  20.6  5.82  140.1  \n",
       "3  17.2  22.0  5.69  128.5  \n",
       "4  15.0  22.5  5.26  118.0  "
      ]
     },
     "execution_count": 95,
     "metadata": {},
     "output_type": "execute_result"
    }
   ],
   "source": [
    "del un_stat_dict[0][-1]\n",
    "un_stat_df = create_dataframe(un_stat_dict,un_stat_cols)\n",
    "print(f\"Number of observations:{un_stat_df.shape}\")\n",
    "un_stat_df.head()\n"
   ]
  }
 ],
 "metadata": {
  "kernelspec": {
   "display_name": "Python 3",
   "language": "python",
   "name": "python3"
  },
  "language_info": {
   "codemirror_mode": {
    "name": "ipython",
    "version": 3
   },
   "file_extension": ".py",
   "mimetype": "text/x-python",
   "name": "python",
   "nbconvert_exporter": "python",
   "pygments_lexer": "ipython3",
   "version": "3.7.0"
  }
 },
 "nbformat": 4,
 "nbformat_minor": 2
}
