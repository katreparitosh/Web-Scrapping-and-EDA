{
 "cells": [
  {
   "cell_type": "markdown",
   "metadata": {},
   "source": [
    "## Introduction\n",
    "\n",
    "India is the **second most populated country** in the world with nearly a fifth of the world's population. According to the 2017 revision of the World Population Prospects, the population stood at 1,324,171,354. During 1975–2010 the population doubled to 1.2 billion. The Indian population reached the billion mark in 1998. India is projected to be the world's most populous country by 2024, surpassing the population of China."
   ]
  },
  {
   "cell_type": "markdown",
   "metadata": {},
   "source": [
    "## Analysis\n",
    "\n",
    "\n",
    "Before Independence Population increased by 63% in 70 Years whereas after independence (in next 60 years) population increased by 235%. From 1970 to 2010 population almost doubled to 1.2 Billion.\n",
    "\n",
    "#### States with Population above 100Million in 2011\n",
    "\n",
    "- Uttarpradesh: 199 Million\n",
    "- Maharashtra: 112 Million\n",
    "- Bihar: 104 Million\n",
    "\n",
    "#### Highly Populated cities in 2011\n",
    "\n",
    "- Mumbai : 13.48 Million\n",
    "- Delhi : 11 Million\n",
    "- Bangalore : 8.42 Million\n",
    "- Hyderabad : 6.8 Million\n",
    "- Ahmedabad : 5.57 Million\n",
    "\n",
    "#### Sex Ratio\n",
    "\n",
    "Puducherry and Kerala are the states where the number of women are more than the number of men. In 2011 Kerala and Puducherry had sex ratio of 1084 and 1037 respectively.\n",
    "\n",
    "#### As per 2011:\n",
    "\n",
    "- Percentage of Population in rural areas: 61.28%\n",
    "- Percentage of population in Urban Areas: 38.03%\n",
    "\n",
    "#### States with large number of population in rural areas\n",
    "\n",
    "- Himachal Pradesh\n",
    "- Bihar\n",
    "- Assam\n",
    "- Odisha\n",
    "- Meghalaya\n",
    "- UttarPradesh\n",
    "\n",
    "#### Literacy Rate as per 2011\n",
    "\n",
    "- Average literacy rate in India: 79.14%\n",
    "\n",
    "Kerala has highest literacy rate of 93.91% with Male:96.02% and Female:91.98%\n",
    "\n",
    "Fertility rate: 2.11,\n",
    "Urban Areas: 1.7,\n",
    "Rural Areas: 2.3,\n",
    "\n",
    "#### Total Population\n",
    "\n",
    "- between age 15-64: 63.40%.\n",
    "- between age 0-14: 30.73%.\n",
    "- between age 64 & Above 5.466%.\n",
    "\n",
    "India has total 29 Spoken languages.Native Hindi speaker were 41% as per 2001 Census."
   ]
  }
 ],
 "metadata": {
  "kernelspec": {
   "display_name": "Python 3",
   "language": "python",
   "name": "python3"
  },
  "language_info": {
   "codemirror_mode": {
    "name": "ipython",
    "version": 3
   },
   "file_extension": ".py",
   "mimetype": "text/x-python",
   "name": "python",
   "nbconvert_exporter": "python",
   "pygments_lexer": "ipython3",
   "version": "3.7.0"
  }
 },
 "nbformat": 4,
 "nbformat_minor": 2
}
